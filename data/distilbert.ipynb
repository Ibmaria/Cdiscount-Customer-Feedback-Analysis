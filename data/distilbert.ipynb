{
 "cells": [
  {
   "cell_type": "code",
   "execution_count": 1,
   "id": "6ed785ac",
   "metadata": {},
   "outputs": [],
   "source": [
    "import numpy as np\n",
    "import pandas as pd"
   ]
  },
  {
   "cell_type": "code",
   "execution_count": 1,
   "id": "8148a5ef",
   "metadata": {},
   "outputs": [],
   "source": [
    "doc=\"\"\"\n",
    "Tout le monde n'est pas l'Allemagne. La Mannschaft est la seule nation européenne, avec le Danemark, à être qualifiée pour la Coupe du monde 2022 au Qatar, avant même les deux dernières journées des éliminatoires. \n",
    "Allemagne et Danemark ont déjà verrouillé la première place de leur groupe, là où une seconde place les aurait obligés à passer par deux tours de barrages afin d'obtenir le ticket pour le Qatar. \n",
    "L'équipe de France n'est pas encore fixée. Pas plus que la Belgique et l'Angleterre, en ballottage favorable, ou que l'Espagne et le Portugal, sous pression. \n",
    "Tour d'horizon de la situation des plus grandes nations.\"\"\""
   ]
  },
  {
   "cell_type": "code",
   "execution_count": 2,
   "id": "b0cda72d",
   "metadata": {},
   "outputs": [
    {
     "name": "stdout",
     "output_type": "stream",
     "text": [
      "<class 'str'>\n"
     ]
    }
   ],
   "source": [
    "print(type(doc))"
   ]
  },
  {
   "cell_type": "code",
   "execution_count": 5,
   "id": "d1eb0998",
   "metadata": {},
   "outputs": [
    {
     "name": "stderr",
     "output_type": "stream",
     "text": [
      "[nltk_data] Downloading package stopwords to\n",
      "[nltk_data]     C:\\Users\\Ibrahim\\AppData\\Roaming\\nltk_data...\n",
      "[nltk_data]   Unzipping corpora\\stopwords.zip.\n"
     ]
    },
    {
     "data": {
      "text/plain": [
       "True"
      ]
     },
     "execution_count": 5,
     "metadata": {},
     "output_type": "execute_result"
    }
   ],
   "source": [
    "import nltk\n",
    "nltk.download('stopwords')"
   ]
  },
  {
   "cell_type": "code",
   "execution_count": 13,
   "id": "f6b77dee",
   "metadata": {},
   "outputs": [],
   "source": [
    "from sklearn.feature_extraction.text import CountVectorizer\n",
    "\n",
    "n_gram_range = (1, 1)"
   ]
  },
  {
   "cell_type": "code",
   "execution_count": 14,
   "id": "5e58acd2",
   "metadata": {},
   "outputs": [],
   "source": [
    "from nltk.corpus import stopwords\n",
    "\n",
    "stop_words =  stopwords.words('french')\n",
    "count = CountVectorizer(ngram_range=n_gram_range, stop_words=stop_words).fit([doc])\n",
    "candidates = count.get_feature_names()"
   ]
  },
  {
   "cell_type": "code",
   "execution_count": 15,
   "id": "4f024e10",
   "metadata": {},
   "outputs": [
    {
     "data": {
      "text/plain": [
       "['2022',\n",
       " 'afin',\n",
       " 'allemagne',\n",
       " 'angleterre',\n",
       " 'avant',\n",
       " 'ballottage',\n",
       " 'barrages',\n",
       " 'belgique',\n",
       " 'coupe',\n",
       " 'danemark',\n",
       " 'dernières',\n",
       " 'deux',\n",
       " 'déjà',\n",
       " 'encore',\n",
       " 'espagne',\n",
       " 'européenne',\n",
       " 'favorable',\n",
       " 'fixée',\n",
       " 'france',\n",
       " 'grandes',\n",
       " 'groupe',\n",
       " 'horizon',\n",
       " 'journées',\n",
       " 'là',\n",
       " 'mannschaft',\n",
       " 'monde',\n",
       " 'nation',\n",
       " 'nations',\n",
       " 'obligés',\n",
       " 'obtenir',\n",
       " 'où',\n",
       " 'passer',\n",
       " 'place',\n",
       " 'plus',\n",
       " 'portugal',\n",
       " 'première',\n",
       " 'pression',\n",
       " 'qatar',\n",
       " 'qualifiée',\n",
       " 'seconde',\n",
       " 'seule',\n",
       " 'situation',\n",
       " 'sous',\n",
       " 'ticket',\n",
       " 'tour',\n",
       " 'tours',\n",
       " 'tout',\n",
       " 'verrouillé',\n",
       " 'éliminatoires',\n",
       " 'équipe',\n",
       " 'être']"
      ]
     },
     "execution_count": 15,
     "metadata": {},
     "output_type": "execute_result"
    }
   ],
   "source": [
    "candidates"
   ]
  },
  {
   "cell_type": "code",
   "execution_count": 1,
   "id": "300d17d8",
   "metadata": {},
   "outputs": [],
   "source": [
    "from sentence_transformers import SentenceTransformer"
   ]
  },
  {
   "cell_type": "code",
   "execution_count": 40,
   "id": "1d772ab5",
   "metadata": {},
   "outputs": [],
   "source": [
    "import torch"
   ]
  },
  {
   "cell_type": "code",
   "execution_count": 39,
   "id": "d8f34f60",
   "metadata": {},
   "outputs": [],
   "source": [
    "from torch import cuda"
   ]
  },
  {
   "cell_type": "code",
   "execution_count": 18,
   "id": "b16900d2",
   "metadata": {},
   "outputs": [
    {
     "data": {
      "application/vnd.jupyter.widget-view+json": {
       "model_id": "277bac062dc442f68a17193095818e5f",
       "version_major": 2,
       "version_minor": 0
      },
      "text/plain": [
       "Downloading:   0%|          | 0.00/690 [00:00<?, ?B/s]"
      ]
     },
     "metadata": {},
     "output_type": "display_data"
    },
    {
     "data": {
      "application/vnd.jupyter.widget-view+json": {
       "model_id": "a2f5f8e66441434bb1beb7e803dfa2b8",
       "version_major": 2,
       "version_minor": 0
      },
      "text/plain": [
       "Downloading:   0%|          | 0.00/3.99k [00:00<?, ?B/s]"
      ]
     },
     "metadata": {},
     "output_type": "display_data"
    },
    {
     "data": {
      "application/vnd.jupyter.widget-view+json": {
       "model_id": "8294eed5a29d49df84da4913ea9441b0",
       "version_major": 2,
       "version_minor": 0
      },
      "text/plain": [
       "Downloading:   0%|          | 0.00/550 [00:00<?, ?B/s]"
      ]
     },
     "metadata": {},
     "output_type": "display_data"
    },
    {
     "data": {
      "application/vnd.jupyter.widget-view+json": {
       "model_id": "e0c92931fc05407a8c6bf0477b4fbc17",
       "version_major": 2,
       "version_minor": 0
      },
      "text/plain": [
       "Downloading:   0%|          | 0.00/122 [00:00<?, ?B/s]"
      ]
     },
     "metadata": {},
     "output_type": "display_data"
    },
    {
     "data": {
      "application/vnd.jupyter.widget-view+json": {
       "model_id": "3b85488a776a45eeba08e7f178a4ba93",
       "version_major": 2,
       "version_minor": 0
      },
      "text/plain": [
       "Downloading:   0%|          | 0.00/229 [00:00<?, ?B/s]"
      ]
     },
     "metadata": {},
     "output_type": "display_data"
    },
    {
     "data": {
      "application/vnd.jupyter.widget-view+json": {
       "model_id": "400931cc888142759d5157574ac382cb",
       "version_major": 2,
       "version_minor": 0
      },
      "text/plain": [
       "Downloading:   0%|          | 0.00/265M [00:00<?, ?B/s]"
      ]
     },
     "metadata": {},
     "output_type": "display_data"
    },
    {
     "data": {
      "application/vnd.jupyter.widget-view+json": {
       "model_id": "21dc7a1957674fcca96480f600d5ccf2",
       "version_major": 2,
       "version_minor": 0
      },
      "text/plain": [
       "Downloading:   0%|          | 0.00/53.0 [00:00<?, ?B/s]"
      ]
     },
     "metadata": {},
     "output_type": "display_data"
    },
    {
     "data": {
      "application/vnd.jupyter.widget-view+json": {
       "model_id": "70b1eeb7df9b4018b6dd6eb0d66f344a",
       "version_major": 2,
       "version_minor": 0
      },
      "text/plain": [
       "Downloading:   0%|          | 0.00/112 [00:00<?, ?B/s]"
      ]
     },
     "metadata": {},
     "output_type": "display_data"
    },
    {
     "data": {
      "application/vnd.jupyter.widget-view+json": {
       "model_id": "9410ae66f536467dbd32fc0c78ff819b",
       "version_major": 2,
       "version_minor": 0
      },
      "text/plain": [
       "Downloading:   0%|          | 0.00/466k [00:00<?, ?B/s]"
      ]
     },
     "metadata": {},
     "output_type": "display_data"
    },
    {
     "data": {
      "application/vnd.jupyter.widget-view+json": {
       "model_id": "84d442651ad34063bbb8ef597f5493a5",
       "version_major": 2,
       "version_minor": 0
      },
      "text/plain": [
       "Downloading:   0%|          | 0.00/450 [00:00<?, ?B/s]"
      ]
     },
     "metadata": {},
     "output_type": "display_data"
    },
    {
     "data": {
      "application/vnd.jupyter.widget-view+json": {
       "model_id": "955b23c3c73b4b16ac368539bd666d40",
       "version_major": 2,
       "version_minor": 0
      },
      "text/plain": [
       "Downloading:   0%|          | 0.00/232k [00:00<?, ?B/s]"
      ]
     },
     "metadata": {},
     "output_type": "display_data"
    },
    {
     "data": {
      "application/vnd.jupyter.widget-view+json": {
       "model_id": "b818bcd5819f4119b4fe484c2f83a102",
       "version_major": 2,
       "version_minor": 0
      },
      "text/plain": [
       "Downloading:   0%|          | 0.00/190 [00:00<?, ?B/s]"
      ]
     },
     "metadata": {},
     "output_type": "display_data"
    }
   ],
   "source": [
    "model = SentenceTransformer('distilbert-base-nli-mean-tokens')\n",
    "doc_embedding = model.encode([doc])\n",
    "candidate_embeddings = model.encode(candidates)"
   ]
  },
  {
   "cell_type": "code",
   "execution_count": 21,
   "id": "4be8bf27",
   "metadata": {},
   "outputs": [
    {
     "data": {
      "text/plain": [
       "array([[-1.24581039e+00, -2.89899558e-01,  2.75861621e-01,\n",
       "        -4.04348195e-01, -1.19990957e+00, -1.43037319e+00,\n",
       "         3.76537204e-01,  2.72925526e-01,  4.57999706e-01,\n",
       "        -3.40559483e-01, -3.07752639e-02,  5.48918843e-01,\n",
       "        -3.98043096e-01,  5.16613781e-01,  5.10129631e-01,\n",
       "        -1.32633865e-01, -1.16623819e+00, -1.78271979e-02,\n",
       "         5.89960441e-02,  2.81983733e-01, -6.06790930e-03,\n",
       "         9.03508782e-01,  2.62507051e-01,  4.50572848e-01,\n",
       "        -2.84766972e-01, -6.20571077e-02,  7.55554080e-01,\n",
       "         8.28077435e-01, -3.69502366e-01,  8.45675588e-01,\n",
       "         4.73151714e-01,  1.35832220e-01, -1.58012414e+00,\n",
       "         3.00243292e-02,  4.86761808e-01, -6.84556246e-01,\n",
       "         3.73787403e-01, -1.10783994e+00, -2.94698358e-01,\n",
       "         4.05187964e-01,  6.19861260e-02, -3.56598437e-01,\n",
       "         2.57121801e-01,  9.91294682e-02, -5.13957083e-01,\n",
       "        -3.29832107e-01, -5.77617586e-01, -4.46885258e-01,\n",
       "        -9.53941643e-01, -6.05164528e-01,  6.48926944e-02,\n",
       "        -6.62809014e-02,  6.28142595e-01, -2.52933145e-01,\n",
       "        -2.96547174e-01,  2.47094169e-01,  2.83613950e-01,\n",
       "        -1.20706844e+00,  7.99770296e-01,  1.23178914e-01,\n",
       "         5.82390308e-01, -9.36167222e-03, -1.20228246e-01,\n",
       "        -5.31208575e-01,  8.97797346e-02, -4.52563435e-01,\n",
       "         2.41089657e-01,  6.34199023e-01, -1.15895963e+00,\n",
       "        -7.81405509e-01,  8.84232402e-01,  7.01810196e-02,\n",
       "         1.94558710e-01, -3.06886345e-01,  2.19155252e-01,\n",
       "         6.68739434e-03, -5.64531028e-01,  4.80232015e-02,\n",
       "        -1.66185051e-01,  7.22943470e-02,  1.54234067e-01,\n",
       "        -5.75416923e-01, -5.74308276e-01,  1.27223682e+00,\n",
       "        -2.24110186e-01,  4.55944061e-01,  9.86392200e-01,\n",
       "        -4.27952826e-01, -5.00615656e-01,  8.65035295e-01,\n",
       "        -4.73801106e-01, -7.11985648e-01,  3.50938141e-01,\n",
       "         4.16136265e-01,  8.48898172e-01, -3.17252725e-01,\n",
       "         4.84872043e-01, -6.50082767e-01,  7.97094226e-01,\n",
       "         8.80931616e-01, -1.01744258e+00,  8.43295276e-01,\n",
       "        -6.50063515e-01,  2.05880925e-02, -7.49922574e-01,\n",
       "        -6.23741388e-01,  6.93206668e-01, -1.68733105e-01,\n",
       "        -2.90162474e-01,  5.24749875e-01,  1.16513550e+00,\n",
       "         6.82427406e-01,  2.04441607e-01, -5.57844400e-01,\n",
       "        -6.06350005e-01, -6.10305309e-01,  2.57735968e-01,\n",
       "        -3.50899361e-02,  3.24980497e-01,  9.33026969e-01,\n",
       "        -6.62580013e-01,  1.19798422e+00,  1.28007933e-01,\n",
       "         4.09369558e-01,  3.27972621e-02, -3.23636942e-02,\n",
       "         4.34014089e-02,  4.79766607e-01,  3.74882102e-01,\n",
       "        -2.36558780e-01, -3.48061183e-03, -4.82107729e-01,\n",
       "         2.40473542e-02,  4.94252652e-01,  7.53706872e-01,\n",
       "        -2.94793069e-01, -9.68070403e-02,  4.38603044e-01,\n",
       "        -1.38861284e-01,  9.99851942e-01, -4.15609866e-01,\n",
       "         2.74932534e-01,  5.17739713e-01, -5.06596506e-01,\n",
       "        -6.80144504e-02, -1.39671089e-02, -3.25826257e-01,\n",
       "        -4.67799813e-01, -3.24658692e-01, -3.81303728e-01,\n",
       "        -7.27407455e-01,  1.97460532e-01, -1.36072248e-01,\n",
       "        -1.05741286e+00, -5.66059723e-02,  4.07392204e-01,\n",
       "         2.59814739e-01,  3.25578213e-01,  9.20884013e-01,\n",
       "        -2.84997635e-02, -1.71776116e+00, -3.55482787e-01,\n",
       "         5.83555341e-01,  3.03744107e-01,  9.05350149e-02,\n",
       "        -1.08291578e+00, -7.55883813e-01, -2.17731476e-01,\n",
       "        -6.00852847e-01,  3.78603339e-01, -2.13574432e-02,\n",
       "        -4.87269983e-02,  1.13581192e+00,  3.83367151e-01,\n",
       "         3.14336926e-01, -5.06790131e-02,  1.42933702e+00,\n",
       "         1.90954342e-01, -2.88938910e-01, -1.50299445e-01,\n",
       "         5.65636873e-01, -1.19172168e+00, -1.06431045e-01,\n",
       "         8.24858844e-01,  8.33601117e-01,  3.03593967e-02,\n",
       "        -4.11850214e-01, -2.13964265e-02,  6.34056568e-01,\n",
       "         3.33373785e-01,  8.85763764e-01, -2.42006093e-01,\n",
       "        -1.01825261e+00,  3.16467255e-01, -9.11430866e-02,\n",
       "         6.04892612e-01,  2.92957753e-01,  7.49160230e-01,\n",
       "         5.20761847e-01, -3.22604537e-01, -4.27882075e-02,\n",
       "         1.53204486e-01,  5.03417671e-01,  3.97494018e-01,\n",
       "        -3.48548055e-01, -2.04169899e-01,  6.42924011e-02,\n",
       "         1.59985304e-01,  2.92881906e-01, -6.78763986e-01,\n",
       "        -1.66387320e-01,  6.25090420e-01,  2.38923103e-01,\n",
       "        -1.09557115e-01, -3.75116110e-01,  2.97168821e-01,\n",
       "         7.73459300e-02,  5.55190623e-01, -6.61433697e-01,\n",
       "        -4.49532736e-03,  3.57043743e-02,  6.00892901e-01,\n",
       "        -3.27302814e-01, -5.24070486e-03, -3.33070666e-01,\n",
       "         1.15271062e-01,  5.37519336e-01, -7.71253288e-01,\n",
       "        -3.37271869e-01,  4.81210917e-01, -5.70514858e-01,\n",
       "        -3.73294279e-02,  1.76493451e-01, -3.06004167e-01,\n",
       "         1.80587638e-02,  7.69283354e-01, -6.78632915e-01,\n",
       "        -1.84687436e-01,  9.06746089e-02, -6.38513863e-01,\n",
       "        -2.04197437e-01,  4.11620051e-01,  7.62943685e-01,\n",
       "        -3.15336227e-01,  9.58610594e-01,  6.15488529e-01,\n",
       "        -2.84679621e-01, -4.27681744e-01, -9.36620869e-04,\n",
       "        -6.64003730e-01, -6.00218773e-01, -1.11277342e+00,\n",
       "        -5.49165249e-01, -8.58845413e-01, -4.32807326e-01,\n",
       "        -2.89310247e-01, -1.35771275e-01, -6.40351698e-02,\n",
       "         9.06204879e-01,  4.90602851e-01,  3.35524082e-01,\n",
       "        -1.76532879e-01,  9.35634196e-01,  3.43772143e-01,\n",
       "        -6.00853980e-01, -4.64211375e-01, -1.14948201e+00,\n",
       "         8.16654444e-01,  2.22032160e-01,  2.79189765e-01,\n",
       "        -6.65149391e-01,  3.20382237e-01, -2.21258491e-01,\n",
       "         6.79352224e-01,  3.30127597e-01, -1.06140472e-01,\n",
       "         1.64795853e-02, -3.32477480e-01, -5.94466925e-01,\n",
       "         7.35192716e-01, -4.90486026e-01,  3.67155783e-02,\n",
       "        -2.90309172e-02, -4.12491024e-01, -9.48104709e-02,\n",
       "        -6.82088852e-01,  8.90930414e-01, -1.98163235e+00,\n",
       "         6.38104439e-01, -4.66254562e-01,  5.99373221e-01,\n",
       "         2.83902138e-02,  1.29935429e-01,  8.23637843e-01,\n",
       "         1.07105207e+00, -2.05515787e-01,  5.34350932e-01,\n",
       "         6.08846903e-01, -1.06401789e+00,  2.57769197e-01,\n",
       "        -1.13667297e+00,  4.59258914e-01,  6.61404133e-01,\n",
       "         6.71681464e-01,  3.59653264e-01,  4.60798860e-01,\n",
       "         6.61751866e-01, -4.37624305e-01,  1.98174343e-01,\n",
       "        -4.13358301e-01,  8.44350159e-02, -4.10934687e-01,\n",
       "         8.88508558e-01,  2.69532949e-01,  1.05566204e-01,\n",
       "         1.05563295e+00, -1.21808294e-02,  2.69302428e-01,\n",
       "         4.43684101e-01, -1.86911553e-01, -7.19956279e-01,\n",
       "        -1.46698043e-01,  7.22720146e-01,  6.13205731e-02,\n",
       "        -1.11316061e+00,  1.12377000e+00,  1.47087136e-02,\n",
       "        -4.12667632e-01, -4.30027604e-01, -1.47263065e-01,\n",
       "         8.42903078e-01, -6.20059013e-01,  3.66014361e-01,\n",
       "         2.46670414e-02, -2.29061723e-01,  9.75287929e-02,\n",
       "        -2.48402178e-01,  4.64911640e-01,  4.46463257e-01,\n",
       "         4.61342782e-01,  4.41458642e-01,  6.30783856e-01,\n",
       "         6.97186589e-02,  2.85581917e-01,  3.01875889e-01,\n",
       "        -3.31559002e-01,  8.55716825e-01, -4.75296229e-01,\n",
       "        -2.59822369e-01, -4.23571289e-01, -1.80386350e-01,\n",
       "         4.37712014e-01,  4.04397517e-01, -5.65869808e-01,\n",
       "         1.96412757e-01,  1.99515522e-01, -5.82767129e-01,\n",
       "        -9.44998041e-02,  1.76474601e-01,  7.73033500e-01,\n",
       "        -6.82070255e-01,  2.52684504e-01, -1.76816240e-01,\n",
       "        -2.96335399e-01, -3.96975249e-01, -1.05536707e-01,\n",
       "        -9.89027143e-01, -2.81712055e-01,  1.12382698e+00,\n",
       "         7.91312099e-01, -5.23322495e-03,  7.28072584e-01,\n",
       "         6.12698555e-01,  9.19812173e-02, -3.85950565e-01,\n",
       "        -7.82062113e-02,  3.96164477e-01,  4.77682501e-01,\n",
       "        -4.76898938e-01, -3.64846557e-01, -4.06800956e-01,\n",
       "        -1.00757070e-01,  3.55361477e-02,  4.92243946e-01,\n",
       "        -3.10753316e-01,  3.37615490e-01, -4.64732051e-01,\n",
       "        -1.01313210e+00, -4.72910926e-02,  4.13477957e-01,\n",
       "         5.75441003e-01, -1.49952829e-01,  4.21937734e-01,\n",
       "        -3.09809685e-01,  1.24181267e-02, -5.48864424e-01,\n",
       "        -3.48509282e-01,  5.87833703e-01,  2.92989135e-01,\n",
       "        -9.59646583e-01,  2.83035159e-01,  1.04624367e+00,\n",
       "        -1.41528800e-01,  4.38062906e-01, -3.61185879e-01,\n",
       "        -9.67864096e-01,  1.74646467e-01, -2.70647645e-01,\n",
       "         2.09222510e-02, -7.46426523e-01,  4.65355851e-02,\n",
       "        -5.08386791e-01, -6.32937074e-01, -6.31485656e-02,\n",
       "         2.50248283e-01, -2.94914663e-01, -7.94679970e-02,\n",
       "        -1.08921155e-01, -2.36611441e-01, -5.05255103e-01,\n",
       "         6.74708724e-01,  8.61289799e-02, -1.89546406e-01,\n",
       "        -4.44460183e-01, -1.85114992e+00,  3.88778150e-01,\n",
       "        -9.91314426e-02,  8.52718875e-02, -2.03128174e-01,\n",
       "         9.87039447e-01, -7.10985601e-01, -1.12367702e+00,\n",
       "         1.57717741e+00,  8.73189628e-01,  2.08248302e-01,\n",
       "         1.10880744e+00, -9.97545123e-01, -1.40064150e-01,\n",
       "        -2.99161315e-01, -1.85198411e-01,  9.32194710e-01,\n",
       "         1.68693066e-01, -1.76808968e-01,  4.40923274e-01,\n",
       "        -6.03573263e-01,  8.35987031e-01, -3.36440474e-01,\n",
       "        -8.80531222e-02, -5.16820312e-01,  6.26530170e-01,\n",
       "         2.53130227e-01, -3.86576593e-01, -5.02511144e-01,\n",
       "         7.09094703e-02,  1.31549942e+00, -3.87584530e-02,\n",
       "        -8.42579186e-01, -9.92099524e-01, -4.20790762e-01,\n",
       "        -1.16548829e-01, -5.62155724e-01, -1.35635209e+00,\n",
       "        -1.89646065e-01,  3.30641717e-01,  1.33696938e+00,\n",
       "         9.72107589e-01, -9.39944312e-02, -3.12270492e-01,\n",
       "        -4.38666970e-01, -3.23179848e-02, -3.38947475e-01,\n",
       "         1.20385325e+00,  1.78956628e-01,  4.02303457e-01,\n",
       "         1.09561658e+00, -3.12464267e-01, -5.92113674e-01,\n",
       "        -1.45061159e+00, -5.57272732e-01, -1.41768169e+00,\n",
       "         4.63936120e-01, -8.29132378e-01, -6.34496510e-01,\n",
       "        -8.93271491e-02,  9.26483572e-01, -1.03636861e+00,\n",
       "        -5.15345931e-01,  7.16028959e-02,  6.10426486e-01,\n",
       "        -1.70746416e-01,  3.01141083e-01,  2.11236998e-01,\n",
       "        -2.87052780e-01,  3.64056885e-01,  1.05438717e-02,\n",
       "         4.58401561e-01, -3.05858284e-01,  8.49210203e-01,\n",
       "         5.96980214e-01,  2.96362609e-01,  2.12197993e-02,\n",
       "        -1.81102827e-01,  5.76140136e-02, -2.52878577e-01,\n",
       "         6.32037640e-01, -1.76138684e-01, -2.02328473e-01,\n",
       "         4.48855460e-01,  4.75753367e-01,  4.47745889e-01,\n",
       "        -5.93426168e-01,  1.49096012e+00, -3.62883538e-01,\n",
       "        -5.06397367e-01,  2.07296818e-01,  2.22923815e-01,\n",
       "         2.55581260e-01, -1.34092152e-01, -5.59291244e-01,\n",
       "        -1.31739583e-02, -2.49467924e-01, -1.62447006e-01,\n",
       "         1.15321130e-01,  5.45858145e-01,  5.56504786e-01,\n",
       "         5.14569581e-01, -9.04050112e-01, -7.21282005e-01,\n",
       "         4.01650846e-01, -1.28699422e-01,  5.08247972e-01,\n",
       "        -5.64032018e-01, -9.18007135e-01,  2.37545162e-01,\n",
       "        -9.84277427e-01,  3.10986564e-02, -1.90841302e-01,\n",
       "        -1.08430207e+00,  7.14304209e-01, -2.84931451e-01,\n",
       "        -5.58681905e-01,  6.68314934e-01,  5.47808051e-01,\n",
       "        -2.80777425e-01, -5.08067727e-01, -9.57922757e-01,\n",
       "        -9.23380792e-01, -1.12457240e+00, -1.05375659e+00,\n",
       "         1.67450104e-02,  4.01361495e-01, -8.29076394e-02,\n",
       "        -6.49916887e-01,  1.18337834e+00, -1.00383043e+00,\n",
       "         2.75556833e-01, -1.16134405e+00,  6.25003934e-01,\n",
       "         1.70628086e-01,  4.70924079e-01, -7.99900174e-01,\n",
       "         6.89023376e-01,  4.95669186e-01, -3.41417640e-02,\n",
       "         2.94216722e-01,  7.23956466e-01, -6.70965791e-01,\n",
       "        -1.01100221e-01, -8.31711233e-01,  9.15678382e-01,\n",
       "        -9.57575142e-01, -1.07385767e+00, -1.49624899e-01,\n",
       "        -5.29435389e-02, -3.88591468e-01, -7.91783571e-01,\n",
       "        -4.83657122e-01, -4.46728766e-01, -2.12122574e-01,\n",
       "         3.30490917e-01, -9.58136320e-01,  9.00278389e-02,\n",
       "        -3.63581032e-01,  2.20623896e-01, -1.98611751e-01,\n",
       "        -1.44736081e-01,  6.50949061e-01, -4.56509203e-01,\n",
       "         4.74400192e-01,  1.13278225e-01,  1.39803886e-02,\n",
       "        -5.71845472e-01, -2.19756246e-01, -3.91041934e-01,\n",
       "         3.67976576e-01, -1.08053543e-01,  1.30508971e+00,\n",
       "         3.20514619e-01,  3.04506898e-01, -6.83981925e-02,\n",
       "         1.75877720e-01, -7.06789553e-01, -2.46811077e-01,\n",
       "         7.87327409e-01,  5.92466444e-03, -3.33631128e-01,\n",
       "         3.67079586e-01, -4.06858444e-01, -1.00832425e-01,\n",
       "         1.12764299e+00,  1.08163789e-01,  3.29710215e-01,\n",
       "         4.22705173e-01, -9.54097360e-02, -2.92664170e-01,\n",
       "         2.60155469e-01, -7.19052374e-01, -1.68105498e-01,\n",
       "        -5.98687649e-01,  1.23617971e+00, -3.44068035e-02,\n",
       "         3.35593522e-01, -5.84650040e-02,  3.26500177e-01,\n",
       "         3.73522222e-01, -7.27699101e-02, -2.80751258e-01,\n",
       "         7.97294080e-01,  9.15240403e-03, -1.92858148e-02,\n",
       "        -6.62020445e-02, -7.37566173e-01,  3.49354625e-01,\n",
       "        -1.15591919e+00,  5.62356889e-01, -3.00207287e-01,\n",
       "        -7.58473635e-01,  1.38483882e-01,  6.24467991e-02,\n",
       "        -5.21266647e-03, -2.03053623e-01, -6.13122344e-01,\n",
       "         5.66113532e-01,  2.60665387e-01,  7.63256907e-01,\n",
       "        -1.40703127e-01, -2.37028673e-01,  3.96443427e-01,\n",
       "        -4.34059948e-01,  2.19527166e-02, -4.46978956e-01,\n",
       "        -8.16822529e-01,  2.66061932e-01, -1.31430507e-01,\n",
       "        -3.12006295e-01,  1.17299831e+00,  4.08434242e-01,\n",
       "        -1.43316537e-01,  4.24688697e-01,  1.52170081e-02,\n",
       "        -7.53688395e-01, -6.81968153e-01,  1.86642319e-01,\n",
       "         2.08934546e-01,  3.51214796e-01, -5.98716617e-01,\n",
       "         5.97126722e-01,  1.07105963e-01, -1.66351199e-01,\n",
       "        -8.84576917e-01,  6.11360446e-02,  7.82580256e-01,\n",
       "        -5.48840642e-01, -1.72976613e-01,  2.68851608e-01,\n",
       "        -4.37822580e-01,  5.10548353e-01,  9.96746868e-02,\n",
       "        -7.41698802e-01, -6.30120039e-01, -9.05480206e-01,\n",
       "        -2.70607471e-02, -7.28967547e-01, -1.95382982e-01,\n",
       "        -6.05869114e-01, -9.22652900e-01, -3.96415383e-01,\n",
       "         6.13326013e-01,  4.81936127e-01, -5.84274173e-01,\n",
       "         1.74879268e-01, -3.97063732e-01,  5.95119596e-01,\n",
       "        -1.25338912e-01, -1.71772629e-01,  2.35138521e-01,\n",
       "        -1.25637960e+00,  2.60687381e-01, -4.28753972e-01,\n",
       "         1.04827201e+00, -6.50050700e-01, -7.14554012e-01,\n",
       "        -8.10810566e-01, -3.67591530e-02,  1.92628920e-01,\n",
       "         2.91937202e-01,  1.78719535e-01,  3.83538514e-01,\n",
       "        -4.51575249e-01, -7.79486597e-01,  8.53224039e-01,\n",
       "        -6.65012240e-01,  8.54126275e-01, -1.04000652e+00,\n",
       "        -5.90604432e-02,  8.66735399e-01, -3.47869158e-01,\n",
       "        -5.44649065e-01,  6.49040818e-01, -3.08722146e-02,\n",
       "        -3.50113839e-01, -1.44818455e-01,  5.76856136e-01,\n",
       "        -1.20180178e+00, -6.28909022e-02,  6.68244243e-01,\n",
       "        -1.65576607e-01,  1.54642597e-01, -3.25059474e-01,\n",
       "        -5.75735629e-01,  6.73623756e-04, -3.36240008e-02,\n",
       "        -1.46622032e-01,  5.73110580e-01,  5.20813823e-01,\n",
       "         1.24091044e-01,  1.07097924e-01,  3.96338284e-01,\n",
       "         6.68766618e-01, -2.82578878e-02, -4.91288126e-01,\n",
       "        -4.72517133e-01, -5.24516225e-01, -5.59698820e-01,\n",
       "         1.38713703e-01,  4.95952994e-01, -1.44238770e-01,\n",
       "         1.05794418e+00, -9.90822792e-01,  1.07235205e+00,\n",
       "         1.93302065e-01,  4.00190860e-01, -9.16952938e-02,\n",
       "        -1.01801324e+00, -3.29724193e-01, -9.91235375e-01,\n",
       "         3.32027115e-02, -1.95394456e-01,  1.02112658e-01,\n",
       "        -7.35312223e-01, -2.30008304e-01, -2.78418124e-01,\n",
       "        -1.46844953e-01,  3.27111036e-01, -2.62631357e-01,\n",
       "        -3.40885580e-01,  6.90131247e-01, -8.98349047e-01]], dtype=float32)"
      ]
     },
     "execution_count": 21,
     "metadata": {},
     "output_type": "execute_result"
    }
   ],
   "source": [
    "doc_embedding"
   ]
  },
  {
   "cell_type": "code",
   "execution_count": 23,
   "id": "19341c8f",
   "metadata": {},
   "outputs": [
    {
     "data": {
      "text/plain": [
       "array([[-0.2917087 , -0.25122786,  1.9386489 , ...,  0.02236873,\n",
       "        -0.21188742, -0.9013984 ],\n",
       "       [-0.47917435, -0.04104957,  0.2202586 , ..., -0.8015325 ,\n",
       "        -0.23003282, -0.64763105],\n",
       "       [-0.8177208 , -0.25738782,  0.3754726 , ..., -1.0482032 ,\n",
       "         0.00434914, -0.74482864],\n",
       "       ...,\n",
       "       [-0.6419977 , -0.31315956, -0.1347656 , ..., -0.9166576 ,\n",
       "        -0.24469174, -0.5156513 ],\n",
       "       [-0.81551045, -0.23794766, -0.04273554, ..., -0.66608286,\n",
       "         0.29935205, -0.24828117],\n",
       "       [-0.76353896, -0.2211694 ,  0.27760223, ..., -0.7116941 ,\n",
       "        -0.07021597, -0.24465576]], dtype=float32)"
      ]
     },
     "execution_count": 23,
     "metadata": {},
     "output_type": "execute_result"
    }
   ],
   "source": [
    "candidate_embeddings"
   ]
  },
  {
   "cell_type": "code",
   "execution_count": 26,
   "id": "6da33557",
   "metadata": {},
   "outputs": [],
   "source": [
    "from sklearn.metrics.pairwise import cosine_similarity\n",
    "\n",
    "top_n = 15\n",
    "distances = cosine_similarity(doc_embedding, candidate_embeddings)"
   ]
  },
  {
   "cell_type": "code",
   "execution_count": 27,
   "id": "9d310390",
   "metadata": {},
   "outputs": [
    {
     "data": {
      "text/plain": [
       "['ballottage',\n",
       " 'tours',\n",
       " 'belgique',\n",
       " 'là',\n",
       " 'journées',\n",
       " 'allemagne',\n",
       " 'encore',\n",
       " 'verrouillé',\n",
       " 'grandes',\n",
       " 'mannschaft',\n",
       " 'coupe',\n",
       " 'danemark',\n",
       " 'européenne',\n",
       " '2022',\n",
       " 'qatar']"
      ]
     },
     "execution_count": 27,
     "metadata": {},
     "output_type": "execute_result"
    }
   ],
   "source": [
    "keywords = [candidates[index] for index in distances.argsort()[0][-top_n:]]\n",
    "keywords"
   ]
  },
  {
   "cell_type": "code",
   "execution_count": 28,
   "id": "b3df34f4",
   "metadata": {},
   "outputs": [],
   "source": [
    "distances = cosine_similarity(doc_embedding, candidate_embeddings)\n",
    "distances_candidates = cosine_similarity(candidate_embeddings, \n",
    "                                            candidate_embeddings)"
   ]
  },
  {
   "cell_type": "code",
   "execution_count": 30,
   "id": "1f3716a7",
   "metadata": {},
   "outputs": [],
   "source": [
    "top_n=10\n",
    "nr_candidates=20"
   ]
  },
  {
   "cell_type": "code",
   "execution_count": 31,
   "id": "faae7f07",
   "metadata": {},
   "outputs": [],
   "source": [
    "words_idx = list(distances.argsort()[0][-nr_candidates:])\n",
    "words_vals = [candidates[index] for index in words_idx]\n",
    "distances_candidates = distances_candidates[np.ix_(words_idx, words_idx)]"
   ]
  },
  {
   "cell_type": "code",
   "execution_count": 32,
   "id": "cbf76c3b",
   "metadata": {},
   "outputs": [
    {
     "data": {
      "text/plain": [
       "[35, 25, 44, 38, 3, 5, 45, 7, 23, 22, 2, 13, 47, 19, 24, 8, 9, 15, 0, 37]"
      ]
     },
     "execution_count": 32,
     "metadata": {},
     "output_type": "execute_result"
    }
   ],
   "source": [
    "words_idx"
   ]
  },
  {
   "cell_type": "code",
   "execution_count": 33,
   "id": "5bb7f3dd",
   "metadata": {},
   "outputs": [
    {
     "data": {
      "text/plain": [
       "['première',\n",
       " 'monde',\n",
       " 'tour',\n",
       " 'qualifiée',\n",
       " 'angleterre',\n",
       " 'ballottage',\n",
       " 'tours',\n",
       " 'belgique',\n",
       " 'là',\n",
       " 'journées',\n",
       " 'allemagne',\n",
       " 'encore',\n",
       " 'verrouillé',\n",
       " 'grandes',\n",
       " 'mannschaft',\n",
       " 'coupe',\n",
       " 'danemark',\n",
       " 'européenne',\n",
       " '2022',\n",
       " 'qatar']"
      ]
     },
     "execution_count": 33,
     "metadata": {},
     "output_type": "execute_result"
    }
   ],
   "source": [
    "words_vals"
   ]
  },
  {
   "cell_type": "code",
   "execution_count": 35,
   "id": "15cb8c2c",
   "metadata": {},
   "outputs": [],
   "source": [
    "import itertools"
   ]
  },
  {
   "cell_type": "code",
   "execution_count": 36,
   "id": "1353f395",
   "metadata": {},
   "outputs": [],
   "source": [
    "min_sim = np.inf\n",
    "candidate = None\n",
    "for combination in itertools.combinations(range(len(words_idx)), top_n):\n",
    "    sim = sum([distances_candidates[i][j] for i in combination for j in combination if i != j])\n",
    "    if sim < min_sim:\n",
    "        candidate = combination\n",
    "        min_sim = sim\n",
    "final= [words_vals[idx] for idx in candidate]"
   ]
  },
  {
   "cell_type": "code",
   "execution_count": 37,
   "id": "d1833525",
   "metadata": {},
   "outputs": [
    {
     "data": {
      "text/plain": [
       "['première',\n",
       " 'tour',\n",
       " 'angleterre',\n",
       " 'ballottage',\n",
       " 'mannschaft',\n",
       " 'coupe',\n",
       " 'danemark',\n",
       " 'européenne',\n",
       " '2022',\n",
       " 'qatar']"
      ]
     },
     "execution_count": 37,
     "metadata": {},
     "output_type": "execute_result"
    }
   ],
   "source": [
    "final"
   ]
  },
  {
   "cell_type": "code",
   "execution_count": 3,
   "id": "05b8609a",
   "metadata": {},
   "outputs": [
    {
     "data": {
      "application/vnd.jupyter.widget-view+json": {
       "model_id": "f7c649b8dcc144a787192b772f23a37b",
       "version_major": 2,
       "version_minor": 0
      },
      "text/plain": [
       "Downloading:   0%|          | 0.00/1.18k [00:00<?, ?B/s]"
      ]
     },
     "metadata": {},
     "output_type": "display_data"
    },
    {
     "data": {
      "application/vnd.jupyter.widget-view+json": {
       "model_id": "c5bd8b284c1f4bc2b3ae1b1767d24e98",
       "version_major": 2,
       "version_minor": 0
      },
      "text/plain": [
       "Downloading:   0%|          | 0.00/10.2k [00:00<?, ?B/s]"
      ]
     },
     "metadata": {},
     "output_type": "display_data"
    },
    {
     "data": {
      "application/vnd.jupyter.widget-view+json": {
       "model_id": "dda75027ab2347d4a34ebbddf9da0f02",
       "version_major": 2,
       "version_minor": 0
      },
      "text/plain": [
       "Downloading:   0%|          | 0.00/612 [00:00<?, ?B/s]"
      ]
     },
     "metadata": {},
     "output_type": "display_data"
    },
    {
     "data": {
      "application/vnd.jupyter.widget-view+json": {
       "model_id": "f8d43614c1904e5fb13449c0bf3eab35",
       "version_major": 2,
       "version_minor": 0
      },
      "text/plain": [
       "Downloading:   0%|          | 0.00/116 [00:00<?, ?B/s]"
      ]
     },
     "metadata": {},
     "output_type": "display_data"
    },
    {
     "data": {
      "application/vnd.jupyter.widget-view+json": {
       "model_id": "1d77fcf3efce414098248b2e7b5d7069",
       "version_major": 2,
       "version_minor": 0
      },
      "text/plain": [
       "Downloading:   0%|          | 0.00/39.3k [00:00<?, ?B/s]"
      ]
     },
     "metadata": {},
     "output_type": "display_data"
    },
    {
     "data": {
      "application/vnd.jupyter.widget-view+json": {
       "model_id": "7aed154c813749b192c4cf2d01fca2f6",
       "version_major": 2,
       "version_minor": 0
      },
      "text/plain": [
       "Downloading:   0%|          | 0.00/349 [00:00<?, ?B/s]"
      ]
     },
     "metadata": {},
     "output_type": "display_data"
    },
    {
     "data": {
      "application/vnd.jupyter.widget-view+json": {
       "model_id": "622365c6a8b94d3bb87ee0f171be12f8",
       "version_major": 2,
       "version_minor": 0
      },
      "text/plain": [
       "Downloading:   0%|          | 0.00/90.9M [00:00<?, ?B/s]"
      ]
     },
     "metadata": {},
     "output_type": "display_data"
    },
    {
     "data": {
      "application/vnd.jupyter.widget-view+json": {
       "model_id": "86a7d033f1714935a5c891afcacef87f",
       "version_major": 2,
       "version_minor": 0
      },
      "text/plain": [
       "Downloading:   0%|          | 0.00/53.0 [00:00<?, ?B/s]"
      ]
     },
     "metadata": {},
     "output_type": "display_data"
    },
    {
     "data": {
      "application/vnd.jupyter.widget-view+json": {
       "model_id": "51d1fb88480e4bc3a64e51736cc22176",
       "version_major": 2,
       "version_minor": 0
      },
      "text/plain": [
       "Downloading:   0%|          | 0.00/112 [00:00<?, ?B/s]"
      ]
     },
     "metadata": {},
     "output_type": "display_data"
    },
    {
     "data": {
      "application/vnd.jupyter.widget-view+json": {
       "model_id": "4f3443b129a74c1aa2153a0d38d6a644",
       "version_major": 2,
       "version_minor": 0
      },
      "text/plain": [
       "Downloading:   0%|          | 0.00/466k [00:00<?, ?B/s]"
      ]
     },
     "metadata": {},
     "output_type": "display_data"
    },
    {
     "data": {
      "application/vnd.jupyter.widget-view+json": {
       "model_id": "c074e3a8ee2642989b69d08271e6a2bd",
       "version_major": 2,
       "version_minor": 0
      },
      "text/plain": [
       "Downloading:   0%|          | 0.00/350 [00:00<?, ?B/s]"
      ]
     },
     "metadata": {},
     "output_type": "display_data"
    },
    {
     "data": {
      "application/vnd.jupyter.widget-view+json": {
       "model_id": "13971de06f994f3d9e38271263a97b32",
       "version_major": 2,
       "version_minor": 0
      },
      "text/plain": [
       "Downloading:   0%|          | 0.00/13.2k [00:00<?, ?B/s]"
      ]
     },
     "metadata": {},
     "output_type": "display_data"
    },
    {
     "data": {
      "application/vnd.jupyter.widget-view+json": {
       "model_id": "5867c99401184aea98cad2643ef366c3",
       "version_major": 2,
       "version_minor": 0
      },
      "text/plain": [
       "Downloading:   0%|          | 0.00/232k [00:00<?, ?B/s]"
      ]
     },
     "metadata": {},
     "output_type": "display_data"
    },
    {
     "data": {
      "application/vnd.jupyter.widget-view+json": {
       "model_id": "adb1e87c8af447589ee7a3733c42ed2e",
       "version_major": 2,
       "version_minor": 0
      },
      "text/plain": [
       "Downloading:   0%|          | 0.00/190 [00:00<?, ?B/s]"
      ]
     },
     "metadata": {},
     "output_type": "display_data"
    }
   ],
   "source": [
    "model = SentenceTransformer('all-MiniLM-L6-v2')"
   ]
  },
  {
   "cell_type": "code",
   "execution_count": 4,
   "id": "c72ae084",
   "metadata": {},
   "outputs": [],
   "source": [
    "sentences = ['This framework generates embeddings for each input sentence',\n",
    "    'Sentences are passed as a list of string.', \n",
    "    'The quick brown fox jumps over the lazy dog.']\n",
    "sentence_embeddings = model.encode(sentences)\n"
   ]
  },
  {
   "cell_type": "code",
   "execution_count": 5,
   "id": "66f9954d",
   "metadata": {},
   "outputs": [
    {
     "name": "stdout",
     "output_type": "stream",
     "text": [
      "Sentence: This framework generates embeddings for each input sentence\n",
      "Embedding: [-1.37173422e-02 -4.28515822e-02 -1.56286005e-02  1.40537601e-02\n",
      "  3.95537913e-02  1.21796280e-01  2.94333883e-02 -3.17524038e-02\n",
      "  3.54960002e-02 -7.93140084e-02  1.75878555e-02 -4.04369794e-02\n",
      "  4.97259907e-02  2.54912004e-02 -7.18701333e-02  8.14968869e-02\n",
      "  1.47069036e-03  4.79627214e-02 -4.50336225e-02 -9.92175043e-02\n",
      " -2.81769820e-02  6.45046383e-02  4.44670543e-02 -4.76217270e-02\n",
      " -3.52952518e-02  4.38671783e-02 -5.28566130e-02  4.33093315e-04\n",
      "  1.01921536e-01  1.64072327e-02  3.26996483e-02 -3.45986970e-02\n",
      "  1.21339364e-02  7.94871002e-02  4.58341604e-03  1.57778207e-02\n",
      " -9.68206674e-03  2.87625957e-02 -5.05806543e-02 -1.55793428e-02\n",
      " -2.87906751e-02 -9.62282438e-03  3.15556936e-02  2.27349084e-02\n",
      "  8.71449560e-02 -3.85027528e-02 -8.84718895e-02 -8.75501521e-03\n",
      " -2.12343391e-02  2.08923630e-02 -9.02077928e-02 -5.25732413e-02\n",
      " -1.05638979e-02  2.88310889e-02 -1.61455069e-02  6.17836416e-03\n",
      " -1.23234876e-02 -1.07336948e-02  2.83354428e-02 -5.28567545e-02\n",
      " -3.58617902e-02 -5.97989149e-02 -1.09055005e-02  2.91566011e-02\n",
      "  7.97979236e-02 -3.27872898e-04  6.83502993e-03  1.32718636e-02\n",
      " -4.24620174e-02  1.87657084e-02 -9.89234596e-02  2.09050104e-02\n",
      " -8.69606212e-02 -1.50152147e-02 -4.86202389e-02  8.04414973e-02\n",
      " -3.67699214e-03 -6.65044636e-02  1.14556797e-01 -3.04228868e-02\n",
      "  2.96632014e-02 -2.80695464e-02  4.64990027e-02 -2.25514155e-02\n",
      "  8.54223222e-02  3.15446630e-02  7.34541640e-02 -2.21862327e-02\n",
      " -5.29678613e-02  1.27130253e-02 -5.27339913e-02 -1.06188782e-01\n",
      "  7.04731271e-02  2.76736338e-02 -8.05531964e-02  2.39649713e-02\n",
      " -2.65125129e-02 -2.17330977e-02  4.35276106e-02  4.84711938e-02\n",
      " -2.37067491e-02  2.85768360e-02  1.11846194e-01 -6.34936094e-02\n",
      " -1.58318486e-02 -2.26169918e-02 -1.31027447e-02 -1.62068079e-03\n",
      " -3.60929184e-02 -9.78297517e-02 -4.67729345e-02  1.76271517e-02\n",
      " -3.97492200e-02 -1.76416666e-04  3.39627936e-02 -2.09633503e-02\n",
      "  6.33659493e-03 -2.59411186e-02  8.10410529e-02  6.14393689e-02\n",
      " -5.44594368e-03  6.48276359e-02 -1.16844080e-01  2.36860923e-02\n",
      " -1.32058589e-02 -1.12476528e-01  1.90049503e-02 -1.74661597e-34\n",
      "  5.58949783e-02  1.94244422e-02  4.65438962e-02  5.18646091e-02\n",
      "  3.89390811e-02  3.40541229e-02 -4.32114266e-02  7.90637508e-02\n",
      " -9.79530439e-02 -1.27441306e-02 -2.91870758e-02  1.02052419e-02\n",
      "  1.88115854e-02  1.08942561e-01  6.63465336e-02 -5.35295270e-02\n",
      " -3.29228677e-02  4.69827242e-02  2.28882656e-02  2.74114944e-02\n",
      " -2.91983243e-02  3.12706642e-02 -2.22850367e-02 -1.02282226e-01\n",
      " -2.79116724e-02  1.13793407e-02  9.06308964e-02 -4.75414619e-02\n",
      " -1.00719005e-01 -1.23232240e-02 -7.96928927e-02 -1.44635765e-02\n",
      " -7.76401013e-02 -7.66919414e-03  9.73955076e-03  2.24204790e-02\n",
      "  7.77268633e-02 -3.17156850e-03  2.11538076e-02 -3.30394097e-02\n",
      "  9.55246296e-03 -3.73011716e-02  2.61360817e-02 -9.79085360e-03\n",
      " -6.31505623e-02  5.77437785e-03 -3.80031168e-02  1.29684787e-02\n",
      " -1.82499439e-02 -1.56283341e-02 -1.23360520e-03  5.55579402e-02\n",
      "  1.13094589e-04 -5.61256595e-02  7.40165636e-02  1.84451938e-02\n",
      " -2.66368482e-02  1.31951747e-02  7.50086755e-02 -2.46796813e-02\n",
      " -3.24006230e-02 -1.57675073e-02 -8.03518388e-03 -5.61317476e-03\n",
      "  1.05687706e-02  3.26169701e-03 -3.91990207e-02 -9.38677192e-02\n",
      "  1.14227273e-01  6.57304898e-02 -4.72633913e-02  1.45087410e-02\n",
      " -3.54490243e-02 -3.37761864e-02 -5.15506081e-02 -3.81001644e-03\n",
      " -5.15036657e-02 -5.93429692e-02 -1.69414654e-03  7.42107779e-02\n",
      " -4.20091897e-02 -7.19975531e-02  3.17250267e-02 -1.66303758e-02\n",
      "  3.96981277e-03 -6.52751252e-02  2.77390983e-02 -7.51649439e-02\n",
      "  2.27456056e-02 -3.91368270e-02  1.54316034e-02 -5.54908440e-02\n",
      "  1.23318667e-02 -2.59520598e-02  6.66423738e-02 -6.91259050e-34\n",
      "  3.31628844e-02  8.47929493e-02 -6.65584132e-02  3.33541520e-02\n",
      "  4.71610110e-03  1.35362027e-02 -5.38694523e-02  9.20694172e-02\n",
      " -2.96876486e-02  3.16219963e-02 -2.37497538e-02  1.98771060e-02\n",
      "  1.03446215e-01 -9.06948075e-02  6.30627805e-03  1.42886303e-02\n",
      "  1.19294031e-02  6.43723551e-03  4.20104377e-02  1.25344889e-02\n",
      "  3.93019728e-02  5.35691977e-02 -4.30750027e-02  6.10432439e-02\n",
      " -5.40118381e-05  6.91682771e-02  1.05520422e-02  1.22111682e-02\n",
      " -7.23185465e-02  2.50469744e-02 -5.18371090e-02 -4.36562710e-02\n",
      " -6.71818778e-02  1.34828510e-02 -7.25888982e-02  7.04167131e-03\n",
      "  6.58940002e-02  1.08994497e-02 -2.60005728e-03  5.49969077e-02\n",
      "  5.06967120e-02  3.27948779e-02 -6.68833032e-02  6.45558164e-02\n",
      " -2.52075903e-02 -2.92572137e-02 -1.16696745e-01  3.24064381e-02\n",
      "  5.85858710e-02 -3.51756886e-02 -7.15240315e-02  2.24936195e-02\n",
      " -1.00786731e-01 -4.74544875e-02 -7.61963204e-02 -5.87166697e-02\n",
      "  4.21138369e-02 -7.47214034e-02  1.98468119e-02 -3.36504029e-03\n",
      " -5.29737137e-02  2.74729468e-02  3.45737115e-02 -6.11846633e-02\n",
      "  1.06364802e-01 -9.64120254e-02 -4.55945022e-02  1.51489805e-02\n",
      " -5.13524376e-03 -6.64447770e-02  4.31721136e-02 -1.10405860e-02\n",
      " -9.80250724e-03  7.53783137e-02 -1.49571281e-02 -4.80208658e-02\n",
      "  5.80726936e-02 -2.43896786e-02 -2.23137662e-02 -4.36992720e-02\n",
      "  5.12054227e-02 -3.28625850e-02  1.08763322e-01  6.08926602e-02\n",
      "  3.30790528e-03  5.53820357e-02  8.43201578e-02  1.27087608e-02\n",
      "  3.84465978e-02  6.52325451e-02 -2.94683706e-02  5.08004986e-02\n",
      " -2.09348183e-02  1.46135718e-01  2.25560926e-02 -1.77227832e-08\n",
      " -5.02672978e-02 -2.79246538e-04 -1.00328676e-01  2.42811516e-02\n",
      " -7.54043534e-02 -3.79140042e-02  3.96049842e-02  3.10080294e-02\n",
      " -9.05703474e-03 -6.50411770e-02  4.05453369e-02  4.83390465e-02\n",
      " -4.56962883e-02  4.76008141e-03  2.64364784e-03  9.35614333e-02\n",
      " -4.02599536e-02  3.27402204e-02  1.18298335e-02  5.54344989e-02\n",
      "  1.48052201e-01  7.21189380e-02  2.76943581e-04  1.68651827e-02\n",
      "  8.34881421e-03 -8.76157265e-03 -1.33649772e-02  6.14237189e-02\n",
      "  1.57168116e-02  6.94961175e-02  1.08621893e-02  6.08018450e-02\n",
      " -5.33422045e-02 -3.47923860e-02 -3.36272158e-02  6.93906918e-02\n",
      "  1.22987581e-02 -1.45237446e-01 -2.06971169e-03 -4.61132862e-02\n",
      "  3.72748543e-03 -5.59355877e-03 -1.00659870e-01 -4.45953459e-02\n",
      "  5.40921241e-02  4.98894788e-03  1.49534298e-02 -8.26060027e-02\n",
      "  6.26630858e-02 -5.01908595e-03 -4.81858142e-02 -3.53991464e-02\n",
      "  9.03389324e-03 -2.42338534e-02  5.66267855e-02  2.51529403e-02\n",
      " -1.70708951e-02 -1.24780480e-02  3.19518633e-02  1.38421170e-02\n",
      " -1.55815147e-02  1.00178301e-01  1.23657249e-01 -4.22967263e-02]\n",
      "\n",
      "Sentence: Sentences are passed as a list of string.\n",
      "Embedding: [ 5.64524494e-02  5.50024174e-02  3.13796401e-02  3.39485258e-02\n",
      " -3.54247168e-02  8.34667832e-02  9.88801122e-02  7.27544678e-03\n",
      " -6.68659247e-03 -7.65808998e-03  7.93738440e-02  7.39658077e-04\n",
      "  1.49291623e-02 -1.51046850e-02  3.67674194e-02  4.78743389e-02\n",
      " -4.81969267e-02 -3.76052260e-02 -4.60278504e-02 -8.89816210e-02\n",
      "  1.20228142e-01  1.30663231e-01 -3.73935848e-02  2.47856136e-03\n",
      "  2.55824113e-03  7.25814849e-02 -6.80436119e-02 -5.24696521e-02\n",
      "  4.90234196e-02  2.99563110e-02 -5.84429689e-02 -2.02263109e-02\n",
      "  2.08821949e-02  9.76691768e-02  3.52390595e-02  3.91141027e-02\n",
      "  1.05668334e-02  1.56234764e-03 -1.30822817e-02  8.52901395e-03\n",
      " -4.84093232e-03 -2.03766562e-02 -2.71801148e-02  2.83307619e-02\n",
      "  3.66017632e-02  2.51276102e-02 -9.90861952e-02  1.15626408e-02\n",
      " -3.60380560e-02 -7.23784044e-02 -1.12670094e-01  1.12942010e-02\n",
      " -3.86397652e-02  4.67386320e-02 -2.88460385e-02  2.26703901e-02\n",
      " -8.52405466e-03  3.32815275e-02 -1.06579473e-03 -7.09745511e-02\n",
      " -6.31169677e-02 -5.72186895e-02 -6.16026148e-02  5.47146276e-02\n",
      "  1.18317734e-02 -4.66261394e-02  2.56959628e-02 -7.07413070e-03\n",
      " -5.73843122e-02  4.12839800e-02 -5.91502860e-02  5.89021631e-02\n",
      " -4.41697612e-02  4.65081260e-02 -3.15814689e-02  5.58312535e-02\n",
      "  5.54578640e-02 -5.96533604e-02  4.06407453e-02  4.83761122e-03\n",
      " -4.96768504e-02 -1.00944355e-01  3.40078101e-02  4.13270248e-03\n",
      " -2.93523725e-03  2.11837329e-02 -3.73962112e-02 -2.79067215e-02\n",
      " -4.61767614e-02  5.26138321e-02 -2.79735215e-02 -1.62379280e-01\n",
      "  6.61042184e-02  1.72274336e-02 -5.45111811e-03  4.74473946e-02\n",
      " -3.82237881e-02 -3.96896638e-02  1.34544633e-02  4.49653901e-02\n",
      "  4.53672791e-03  2.82978732e-02  8.36633071e-02 -1.00857802e-02\n",
      " -1.19353987e-01 -3.84624526e-02  4.82858531e-02 -9.46083888e-02\n",
      "  1.91853903e-02 -9.96518359e-02 -6.30596802e-02  3.02696005e-02\n",
      "  1.17402729e-02 -4.78372611e-02 -6.20266655e-03 -3.32850367e-02\n",
      " -4.04391252e-03  1.28307147e-02  4.05254476e-02  7.56477043e-02\n",
      "  2.92435195e-02  2.84270439e-02 -2.78939083e-02  1.66858193e-02\n",
      " -2.47961730e-02 -6.83651343e-02  2.89968643e-02 -5.39867784e-33\n",
      " -2.69013224e-03 -2.65069399e-02 -6.47941255e-04 -8.46197922e-03\n",
      " -7.35154673e-02  4.94086556e-03 -5.97841851e-02  1.03438469e-02\n",
      "  2.12905556e-03 -2.88216723e-03 -3.17076221e-02 -9.42364335e-02\n",
      "  3.03019639e-02  7.00226575e-02  4.50685322e-02  3.69439274e-02\n",
      "  1.13593377e-02  3.53026763e-02  5.50448941e-03  1.34417939e-03\n",
      "  3.46120796e-03  7.75047839e-02  5.45112155e-02 -7.92055801e-02\n",
      " -9.31697041e-02 -4.03398648e-02  3.10668591e-02 -3.83081511e-02\n",
      " -5.89443296e-02  1.93331875e-02 -2.67159976e-02 -7.91937932e-02\n",
      "  1.04196457e-04  7.70621076e-02  4.16603424e-02  8.90932232e-02\n",
      "  3.56843062e-02 -1.09153260e-02  3.71498168e-02 -2.07070298e-02\n",
      " -2.46101003e-02 -2.05025319e-02  2.62201130e-02  3.43590528e-02\n",
      "  4.39251065e-02 -8.20517261e-03 -8.40710178e-02  4.24170904e-02\n",
      "  4.87498827e-02  5.95384911e-02  2.87747774e-02  3.37638259e-02\n",
      " -4.07442451e-02 -1.66372978e-03  7.91927353e-02  3.41088362e-02\n",
      " -5.72854711e-04  1.87749844e-02 -1.36963837e-02  7.38332942e-02\n",
      "  5.74519392e-04  8.33505243e-02  5.60810640e-02 -1.13711013e-02\n",
      "  4.42611463e-02  2.69581843e-02 -4.80535887e-02 -3.15087363e-02\n",
      "  7.75226280e-02  1.81773361e-02 -8.83005410e-02 -7.85521138e-03\n",
      " -6.22242838e-02  7.19372630e-02 -2.33475026e-02  6.52482687e-03\n",
      " -9.49527696e-03 -9.88313034e-02  4.01306339e-02  3.07397004e-02\n",
      " -2.21607126e-02 -9.45911184e-02  1.02367830e-02  1.02187805e-01\n",
      " -4.12960239e-02 -3.15778144e-02  4.74752225e-02 -1.10209785e-01\n",
      "  1.69614553e-02 -3.71709093e-02 -1.03262002e-02 -4.72538546e-02\n",
      " -1.20213628e-02 -1.93255153e-02  5.79292178e-02  4.23866044e-34\n",
      "  3.92013267e-02  8.41361731e-02 -1.02946699e-01  6.92259818e-02\n",
      "  1.68821532e-02 -3.26760635e-02  9.65958554e-03  1.80899780e-02\n",
      "  2.17939690e-02  1.63189489e-02 -9.69292149e-02  3.74849676e-03\n",
      " -2.38456875e-02 -3.44055630e-02  7.11963028e-02  9.21927160e-04\n",
      " -6.23858301e-03  3.23754251e-02 -8.90373718e-04  5.01905754e-03\n",
      " -4.24537919e-02  9.89084020e-02 -4.60320897e-02  4.69704941e-02\n",
      " -1.75284706e-02 -7.02516269e-03  1.32743642e-02 -5.30152135e-02\n",
      "  2.66402680e-03  1.45819187e-02  7.43344938e-03 -3.07131652e-02\n",
      " -2.09416300e-02  8.24110359e-02 -5.15894070e-02 -2.71178465e-02\n",
      "  1.17583014e-01  7.72502553e-03 -1.89523250e-02  3.94559391e-02\n",
      "  7.17360526e-02  2.59116851e-02  2.75192149e-02  9.50546563e-03\n",
      " -3.02355364e-02 -4.07944731e-02 -1.04028471e-01 -7.97423255e-03\n",
      " -3.64455930e-03  3.29716541e-02 -2.35954765e-02 -7.50511931e-03\n",
      " -5.82234375e-02 -3.17906104e-02 -4.18049619e-02  2.17453577e-02\n",
      " -6.67292029e-02 -4.89104614e-02  4.58515808e-03 -2.66046505e-02\n",
      " -1.12597041e-01  5.11167906e-02  5.48534133e-02 -6.69856817e-02\n",
      "  1.26766339e-01 -8.59487429e-02 -5.94231524e-02 -2.92187021e-03\n",
      " -1.14875333e-02 -1.26025826e-01 -3.48283374e-03 -9.12001878e-02\n",
      " -1.22933067e-01  1.33777000e-02 -4.75775003e-02 -6.57933056e-02\n",
      " -3.39410082e-02 -3.07107624e-02 -5.22033684e-02 -2.35463995e-02\n",
      "  5.90035096e-02 -3.85757647e-02  3.19701284e-02  4.05118242e-02\n",
      "  1.67077482e-02 -3.58281098e-02  1.45688225e-02  3.20137963e-02\n",
      " -1.34843029e-02  6.07819818e-02 -8.31400603e-03 -1.08106239e-02\n",
      "  4.69410755e-02  7.66133964e-02 -4.23400290e-02 -2.11963318e-08\n",
      " -7.25292712e-02 -4.20228094e-02 -6.12374283e-02  5.24666719e-02\n",
      " -1.42363599e-02  1.18486797e-02 -1.40789030e-02 -3.67529951e-02\n",
      " -4.44977582e-02 -1.15139997e-02  5.23316897e-02  2.96652075e-02\n",
      " -4.62780558e-02 -3.70892659e-02  1.89129654e-02  2.04306804e-02\n",
      " -2.24005934e-02 -1.48562714e-02 -1.79504305e-02  4.20007780e-02\n",
      "  1.40942810e-02 -2.83492394e-02 -1.16863012e-01  1.48956738e-02\n",
      " -7.30573840e-04  5.66028208e-02 -2.68740095e-02  1.09106638e-01\n",
      "  2.94563803e-03  1.19267911e-01  1.14212446e-01  8.92973691e-02\n",
      " -1.70255434e-02 -4.99053858e-02 -2.11930703e-02  3.18421461e-02\n",
      "  7.03436211e-02 -1.02929428e-01  8.23816881e-02  2.81968210e-02\n",
      "  3.21146213e-02  3.79107930e-02 -1.09553084e-01  8.19620490e-02\n",
      "  8.73216689e-02 -5.73563911e-02 -2.01709289e-02 -5.69444634e-02\n",
      " -1.30338492e-02 -5.55684455e-02 -1.32966386e-02  8.64011422e-03\n",
      "  5.30012250e-02 -4.06847596e-02  2.71709003e-02 -2.55948864e-03\n",
      "  3.05775926e-02 -4.61865403e-02  4.68033971e-03 -3.64947468e-02\n",
      "  6.80802539e-02  6.65087774e-02  8.49151984e-02 -3.32849063e-02]\n",
      "\n",
      "Sentence: The quick brown fox jumps over the lazy dog.\n",
      "Embedding: [ 4.39335592e-02  5.89344203e-02  4.81783748e-02  7.75481239e-02\n",
      "  2.67443992e-02 -3.76295932e-02 -2.60508689e-03 -5.99430390e-02\n",
      " -2.49599316e-03  2.20728256e-02  4.80259880e-02  5.57553098e-02\n",
      " -3.89454067e-02 -2.66167764e-02  7.69338710e-03 -2.62376498e-02\n",
      " -3.64160910e-02 -3.78161632e-02  7.40781203e-02 -4.95050140e-02\n",
      " -5.85217215e-02 -6.36196733e-02  3.24349739e-02  2.20085606e-02\n",
      " -7.10637197e-02 -3.31577733e-02 -6.94103912e-02 -5.00374362e-02\n",
      "  7.46267736e-02 -1.11133851e-01 -1.23063261e-02  3.77456285e-02\n",
      " -2.80313566e-02  1.45353815e-02 -3.15585397e-02 -8.05836022e-02\n",
      "  5.83525561e-02  2.59008142e-03  3.92802246e-02  2.57695857e-02\n",
      "  4.98505943e-02 -1.75624934e-03 -4.55297865e-02  2.92607341e-02\n",
      " -1.02017261e-01  5.22287600e-02 -7.90899321e-02 -1.02857389e-02\n",
      "  9.20250267e-03  1.30732330e-02 -4.04777937e-02 -2.77925115e-02\n",
      "  1.24667147e-02  6.72833025e-02  6.81247935e-02 -7.57117523e-03\n",
      " -6.09944062e-03 -4.23776805e-02  5.17815910e-02 -1.56707410e-02\n",
      "  9.56359971e-03  4.12390269e-02  2.14958973e-02  1.04293581e-02\n",
      "  2.73349974e-02  1.87062323e-02 -2.69607101e-02 -7.00542107e-02\n",
      " -1.04700476e-01 -1.89872563e-03  1.77016631e-02 -5.74724972e-02\n",
      " -1.44223534e-02  4.70455416e-04  2.33225338e-03 -2.51920596e-02\n",
      "  4.93004322e-02 -5.09609431e-02  6.31983429e-02  1.49165047e-02\n",
      " -2.70766523e-02 -4.52875793e-02 -4.90594432e-02  3.74940783e-02\n",
      "  3.84579860e-02  1.56905875e-03  3.09922323e-02  2.01630536e-02\n",
      " -1.24363927e-02 -3.06719858e-02 -2.78819464e-02 -6.89182580e-02\n",
      " -5.13677076e-02  2.14795563e-02  1.15747219e-02  1.25410012e-03\n",
      "  1.88765768e-02 -4.42319289e-02 -4.49817404e-02 -3.41867097e-03\n",
      "  1.31131187e-02  2.00099312e-02  1.21099725e-01  2.31074784e-02\n",
      " -2.20159572e-02 -3.28847393e-02 -3.15514184e-03  1.17872340e-04\n",
      "  9.91498679e-02  1.65239386e-02 -4.69670817e-03 -1.45366695e-02\n",
      " -3.71079310e-03  9.65135992e-02  2.85907779e-02  2.13481970e-02\n",
      " -7.17645362e-02 -2.41142306e-02 -4.40940447e-02 -1.07346863e-01\n",
      "  6.79945797e-02  1.30466759e-01 -7.97029883e-02  6.79512182e-03\n",
      " -2.37511788e-02 -4.61636484e-02 -2.99650431e-02 -3.69409863e-33\n",
      "  7.30969682e-02 -2.20171474e-02 -8.61464366e-02 -7.14379996e-02\n",
      " -6.36741593e-02 -7.21863136e-02 -5.93047310e-03 -2.33641453e-02\n",
      " -2.83658337e-02  4.77435030e-02 -8.06176513e-02 -1.56479399e-03\n",
      "  1.38443429e-02 -2.86235716e-02 -3.35386358e-02 -1.13777533e-01\n",
      " -9.17635020e-03 -1.08101312e-02  3.23195755e-02  5.88380657e-02\n",
      "  3.34208682e-02  1.07987911e-01 -3.72713283e-02 -2.96770744e-02\n",
      "  5.17190062e-02 -2.25338750e-02 -6.96090981e-02 -2.14474965e-02\n",
      " -2.33411063e-02  4.82199714e-02 -3.58766429e-02 -4.68990952e-02\n",
      " -3.97873707e-02  1.10813200e-01 -1.43007077e-02 -1.18464492e-01\n",
      "  5.82914948e-02 -6.25889674e-02 -2.94040684e-02  6.03238717e-02\n",
      " -2.44414527e-03  1.60115957e-02  2.67233551e-02  2.49530729e-02\n",
      " -6.49318844e-02 -1.06801949e-02  2.81464681e-02  1.03563266e-02\n",
      " -6.63638115e-04  1.98186506e-02 -3.04288138e-02  6.28422946e-03\n",
      "  5.15268482e-02 -4.75375131e-02 -6.44421130e-02  9.55031216e-02\n",
      "  7.55858123e-02 -2.81574335e-02 -3.49965878e-02  1.01816386e-01\n",
      "  1.98732838e-02 -3.68036702e-02  2.93522421e-03 -5.00744805e-02\n",
      "  1.50932088e-01 -6.16079271e-02 -8.58812630e-02  7.13995984e-03\n",
      " -1.33065609e-02  7.80404657e-02  1.75250731e-02  4.21279147e-02\n",
      "  3.57939713e-02 -1.32950455e-01  3.56970280e-02 -2.03116685e-02\n",
      "  1.24909878e-02 -3.80355567e-02  4.91543636e-02 -1.56541020e-02\n",
      "  1.21418238e-01 -8.08644295e-02 -4.68781665e-02  4.10842821e-02\n",
      " -1.84318013e-02  6.69690594e-02  4.33597062e-03  2.27315333e-02\n",
      " -1.36428941e-02 -4.53238226e-02 -3.92829403e-02 -6.29889779e-03\n",
      "  5.29609956e-02 -3.69064733e-02  7.11676925e-02  2.33343269e-33\n",
      "  1.05231352e-01 -4.81874086e-02  6.95919171e-02  6.56976625e-02\n",
      " -4.65149023e-02  5.14492393e-02 -1.24475593e-02  3.20872031e-02\n",
      " -9.23356339e-02  5.00932895e-02 -3.28876376e-02  1.39139006e-02\n",
      " -8.70237534e-04 -4.90904739e-03  1.03946403e-01  3.21617204e-04\n",
      "  5.28110340e-02 -1.17990440e-02  2.31565535e-02  1.31767904e-02\n",
      " -5.25962338e-02  3.26702297e-02  3.08683375e-04  6.41128868e-02\n",
      "  3.88500765e-02  5.88008612e-02  8.29793215e-02 -1.88149326e-02\n",
      " -2.26377565e-02 -1.00473650e-01 -3.83752994e-02 -5.88081367e-02\n",
      "  1.82421820e-03 -4.26995456e-02  2.50195041e-02  6.40059710e-02\n",
      " -3.77483070e-02 -6.83902018e-03 -2.54601799e-03 -9.76042822e-02\n",
      "  1.88476276e-02 -8.83193687e-04  1.73611809e-02  7.10790604e-02\n",
      "  3.30393091e-02  6.93420367e-03 -5.60523160e-02  5.14634661e-02\n",
      " -4.29542065e-02  4.60077301e-02 -8.78833421e-03  3.17289121e-02\n",
      "  4.93965447e-02  2.95189880e-02 -5.05192727e-02 -5.43187000e-02\n",
      "  1.49922387e-04 -2.76614428e-02  3.46878469e-02 -2.10890230e-02\n",
      "  1.38060106e-02  2.99886577e-02  1.39744338e-02 -4.26468765e-03\n",
      " -1.50337126e-02 -8.76095295e-02 -6.85053542e-02 -4.28141356e-02\n",
      "  7.76945204e-02 -7.10285306e-02 -7.37688178e-03  2.13727076e-02\n",
      "  1.35562215e-02 -7.90464729e-02  5.47666941e-03  8.30663592e-02\n",
      "  1.14148006e-01  1.80762517e-03  8.75491053e-02 -4.16045114e-02\n",
      "  1.55416243e-02 -1.01206275e-02 -7.32439244e-03  1.07965991e-02\n",
      " -6.62816614e-02  3.98413874e-02 -1.16711542e-01  6.42993823e-02\n",
      "  4.02919911e-02 -6.54741526e-02  1.95052717e-02  8.09995383e-02\n",
      "  5.36463857e-02  7.67969564e-02 -1.34852659e-02 -1.76919031e-08\n",
      " -4.43935059e-02  9.20644961e-03 -8.79590511e-02  4.26921397e-02\n",
      "  7.31365085e-02  1.68427452e-02 -4.03263010e-02  1.85131487e-02\n",
      "  8.44172090e-02 -3.74477170e-02  3.02996077e-02  2.90641766e-02\n",
      "  6.36878908e-02  2.89750583e-02 -1.47269741e-02  1.77543107e-02\n",
      " -3.36895287e-02  1.73161030e-02  3.37875038e-02  1.76826030e-01\n",
      " -1.75533295e-02 -6.03077710e-02 -1.43394461e-02 -2.38536131e-02\n",
      " -4.45531309e-02 -2.89850347e-02 -8.96776244e-02 -1.75935845e-03\n",
      " -2.61485986e-02  5.93994325e-03 -5.18355407e-02  8.57279822e-02\n",
      " -8.18398893e-02  8.35442264e-03  4.00789529e-02  4.17764150e-02\n",
      "  1.04573511e-01 -2.86561018e-03  1.96690913e-02  5.81046613e-03\n",
      "  1.33253578e-02  4.51001041e-02 -2.17588283e-02 -1.39493188e-02\n",
      " -6.86992705e-02 -2.94112274e-03 -3.10764872e-02 -1.05854452e-01\n",
      "  6.91623837e-02 -4.24114540e-02 -4.67682295e-02 -3.64750624e-02\n",
      "  4.50399965e-02  6.09816536e-02 -6.56561479e-02 -5.45640616e-03\n",
      " -1.86226591e-02 -6.31484762e-02 -3.87436636e-02  3.46733406e-02\n",
      "  5.55458292e-02  5.21628074e-02  5.61065041e-02  1.02063902e-01]\n",
      "\n"
     ]
    }
   ],
   "source": [
    "sentence_embeddings = model.encode(sentences)\n",
    "for sentence, embedding in zip(sentences, sentence_embeddings):\n",
    "    print(\"Sentence:\", sentence)\n",
    "    print(\"Embedding:\", embedding)\n",
    "    print(\"\")"
   ]
  },
  {
   "cell_type": "code",
   "execution_count": 12,
   "id": "56c4b283",
   "metadata": {},
   "outputs": [
    {
     "data": {
      "text/plain": [
       "(5, 384)"
      ]
     },
     "execution_count": 12,
     "metadata": {},
     "output_type": "execute_result"
    }
   ],
   "source": [
    "sentence_embeddings.shape"
   ]
  },
  {
   "cell_type": "code",
   "execution_count": 9,
   "id": "af91a847",
   "metadata": {},
   "outputs": [],
   "source": [
    "doc=[\"Tout le monde n'est pas l'Allemagne\", \"La Mannschaft est la seule nation européenne, avec le Danemark, à être qualifiée pour la Coupe du monde 2022 au Qatar, avant même les deux dernières journées des éliminatoires\", \n",
    "\"Allemagne et Danemark ont déjà verrouillé la première place de leur groupe, là où une seconde place les aurait obligés à passer par deux tours de barrages afin d'obtenir le ticket pour le Qatar\",\n",
    "\"L'équipe de France n'est pas encore fixée. Pas plus que la Belgique et l'Angleterre, en ballottage favorable, ou que l'Espagne et le Portugal, sous pression\", \n",
    "\"Tour d'horizon de la situation des plus grandes nations\"]\n"
   ]
  },
  {
   "cell_type": "code",
   "execution_count": 11,
   "id": "98d469f0",
   "metadata": {},
   "outputs": [
    {
     "name": "stdout",
     "output_type": "stream",
     "text": [
      "Sentence: Tout le monde n'est pas l'Allemagne\n",
      "Embedding: [-3.25996727e-02  4.04879749e-02 -2.15849262e-02 -3.19355614e-02\n",
      "  1.23241767e-01  1.17582805e-01  4.68696542e-02  4.07037623e-02\n",
      "  2.55637523e-02  3.91287208e-02 -2.38403846e-02 -2.65188832e-02\n",
      "  1.33885052e-02 -4.35453691e-02 -6.18652515e-02 -2.74023488e-02\n",
      " -4.66555208e-02  4.82284883e-03  6.45316988e-02 -2.93443147e-02\n",
      " -1.17679900e-02  1.23501187e-02  1.59418453e-02  2.26477440e-02\n",
      " -6.47762939e-02  9.06696245e-02 -2.31882278e-02 -1.92581341e-02\n",
      " -1.04615837e-01 -5.49944267e-02 -2.12931689e-02  5.56893758e-02\n",
      " -7.59666087e-03  1.86971445e-02 -6.78104628e-03 -4.17630598e-02\n",
      " -5.07591628e-02 -3.84739898e-02  4.24810462e-02  3.95496264e-02\n",
      " -1.14436090e-01 -4.69980575e-02 -5.13520204e-02 -2.09064595e-02\n",
      "  3.96594824e-03  2.37547643e-02  2.71258615e-02  4.43318076e-02\n",
      " -2.42378190e-02  3.27293612e-02  5.88184111e-02 -1.09511083e-02\n",
      "  5.04855961e-02 -3.46562862e-02  4.88930978e-02  2.03771628e-02\n",
      " -3.12604867e-02 -3.77480835e-02 -5.46107180e-02 -3.52742821e-02\n",
      " -6.59015179e-02  1.61074009e-02 -9.55287647e-03 -2.02963855e-02\n",
      "  2.05917992e-02 -5.50023094e-02  5.08597493e-02 -6.18654713e-02\n",
      " -3.69952843e-02  6.17765412e-02  4.78799380e-02 -3.78147848e-02\n",
      " -2.33394075e-02  1.07055595e-02  4.17162888e-02  9.01993178e-03\n",
      " -3.35901789e-02  3.47370543e-02 -9.02041234e-03 -7.01160878e-02\n",
      " -3.89766623e-03 -4.16529924e-03 -1.85764916e-02 -5.47021665e-02\n",
      "  6.30157590e-02 -1.37275411e-02 -1.10838199e-02  9.52239037e-02\n",
      "  4.42600101e-02  1.71924196e-02 -9.80030000e-03 -4.32189517e-02\n",
      " -4.95879352e-02  7.35042691e-02  2.79331654e-02  4.72090170e-02\n",
      "  4.26880233e-02 -8.36797133e-02 -2.33192705e-02  2.58539673e-02\n",
      "  4.13636528e-02 -6.51752278e-02 -1.81412790e-03  3.81399095e-02\n",
      " -9.72144399e-03 -1.13554280e-02  5.98532632e-02 -4.34390232e-02\n",
      "  5.43830218e-03 -4.12902981e-02  5.55397803e-03  1.63802523e-02\n",
      "  5.88466832e-03  4.20640074e-02 -4.96366285e-02 -8.32263157e-02\n",
      "  1.81140266e-02 -1.10756420e-01 -5.11125885e-02  9.48766805e-03\n",
      " -1.68663077e-03 -6.28589988e-02 -6.54691039e-03  1.03966378e-01\n",
      " -1.96819771e-02  6.72736838e-02  6.06840216e-02 -5.95890137e-34\n",
      " -1.56917255e-02  3.77087593e-02  1.15750590e-02  7.26598082e-03\n",
      " -1.00032941e-01  9.00263712e-02 -3.22706252e-02  8.58082697e-02\n",
      "  1.81723281e-03  7.05947727e-02 -2.54325047e-02  1.04884811e-01\n",
      " -4.46935929e-03  2.78903022e-02 -1.02079958e-01 -4.23634350e-02\n",
      "  5.76004609e-02  2.03794846e-03  1.35578677e-01 -3.02600153e-02\n",
      " -8.29853490e-02  5.84351877e-03  1.03791186e-03  9.26044509e-02\n",
      "  5.12552373e-02  3.65843773e-02  5.12068383e-02 -3.71355191e-02\n",
      " -5.85645996e-02  4.19961736e-02  6.79813698e-02 -5.10985181e-02\n",
      " -1.34772779e-02  3.07724308e-02  1.26148872e-02 -3.20639126e-02\n",
      " -2.18579657e-02  1.00223392e-01 -2.43854262e-02  2.35636942e-02\n",
      "  2.91373860e-02 -2.96506602e-02 -5.36809675e-02 -9.06098261e-02\n",
      " -1.41652375e-02  8.23245794e-02 -3.45752575e-02  1.24939205e-02\n",
      " -1.27377417e-02  1.16800787e-02 -1.39456708e-03 -5.30402288e-02\n",
      " -5.57971336e-02 -4.91504855e-02 -4.10747388e-03 -4.27893177e-03\n",
      " -7.62268379e-02  2.94641554e-02 -4.20754477e-02 -2.93729864e-02\n",
      "  6.72668442e-02 -5.92934713e-02 -5.71799539e-02 -8.18177406e-03\n",
      "  1.85793601e-02  1.31171606e-02  8.27036947e-02 -1.94786415e-02\n",
      "  2.23658234e-02 -9.67684388e-03 -1.25928074e-02 -4.99340296e-02\n",
      "  6.59773350e-02  7.15947002e-02 -5.90270609e-02  9.46258157e-02\n",
      " -5.91900498e-02  9.53341648e-02  1.41092194e-02  1.79560408e-02\n",
      " -8.96836072e-02  3.48458849e-02  2.90048122e-02 -8.15507472e-02\n",
      "  6.69647381e-02  3.96815017e-02 -4.49844971e-02 -3.94440740e-02\n",
      "  1.70120951e-02  2.90533472e-02 -1.71630606e-02 -5.17949229e-03\n",
      "  1.40281990e-02 -5.50035946e-02 -2.50442289e-02 -2.61145603e-33\n",
      " -5.86526543e-02 -3.18904594e-02 -5.73640205e-02  5.15607372e-02\n",
      " -9.27652232e-03  3.67502123e-02 -6.63828924e-02  2.75963321e-02\n",
      "  2.62657856e-03  7.89542943e-02  7.87252858e-02 -5.32025248e-02\n",
      "  8.53295699e-02 -9.76061746e-02 -2.59620044e-02  6.81700408e-02\n",
      "  1.38055012e-02 -2.54179090e-02 -2.78105568e-02  5.40615246e-02\n",
      " -6.20387159e-02 -9.50159580e-02  8.64595771e-02 -8.98225047e-03\n",
      " -7.73126855e-02  5.65548800e-03  1.45956827e-02  2.66919825e-02\n",
      " -6.44475445e-02  1.43388845e-02  5.68264611e-02  1.63311101e-02\n",
      "  1.30572207e-02 -6.92269625e-03  2.80563291e-02  1.00684734e-02\n",
      " -3.49860862e-02  1.94081575e-01  1.71490088e-02  4.23960350e-02\n",
      " -7.00178295e-02 -1.81871373e-02 -1.72084570e-02  1.90331438e-03\n",
      "  7.08546862e-02 -6.26633614e-02 -1.23051547e-01 -1.38800994e-01\n",
      "  4.48293984e-02  5.48553392e-02 -9.58512723e-03  4.33768472e-03\n",
      "  6.42425492e-02 -7.87936598e-02  1.23091815e-02 -1.26413219e-02\n",
      "  5.64105622e-03 -5.81867993e-02 -1.31027084e-02 -5.84867857e-02\n",
      "  5.85539639e-02  7.62108341e-02 -2.45482065e-02  5.23019210e-03\n",
      "  6.70736954e-02  6.77142711e-03 -5.43834679e-02 -1.51538160e-02\n",
      "  2.53408551e-02  2.57754400e-02  3.89941968e-02 -4.90281992e-02\n",
      " -3.92075069e-02  7.67623559e-02 -6.29021302e-02  4.90410067e-02\n",
      "  8.45075864e-03  1.53022297e-02  1.81099586e-02  4.08207513e-02\n",
      " -1.28474250e-01 -2.52874568e-02 -5.88060869e-03 -6.11907942e-03\n",
      " -6.03931323e-02 -4.99474332e-02  4.24650200e-02 -3.30752358e-02\n",
      "  1.50184368e-03  1.00043546e-02  3.23296487e-02  6.56420318e-03\n",
      " -3.87432761e-02 -7.95205161e-02  6.34157136e-02 -1.95329992e-08\n",
      "  1.64030455e-02 -4.58569340e-02 -4.16186489e-02  6.19677920e-03\n",
      "  7.44069368e-02 -1.03778236e-01 -2.46100295e-02 -2.47933157e-02\n",
      "  4.82981391e-02  5.42283691e-02 -3.02637257e-02  1.32225603e-02\n",
      "  7.83495978e-03  2.28055120e-02  5.69120608e-02  5.80678768e-02\n",
      " -2.57253814e-02  3.14234979e-02  8.93978961e-03  5.46930097e-02\n",
      " -2.99905613e-03 -2.78317574e-02  1.89381931e-02 -1.41781569e-01\n",
      "  5.18652312e-02 -3.23349312e-02 -4.44427133e-02 -1.49967283e-01\n",
      "  3.07259746e-02 -7.46604130e-02  1.41059607e-02  7.74780102e-03\n",
      " -9.68581345e-03 -5.93524277e-02 -8.76696929e-02 -4.53875437e-02\n",
      "  7.53013715e-02 -5.01092821e-02  2.38071419e-02  8.11575279e-02\n",
      "  7.22846985e-02  6.52119294e-02  2.05357783e-02 -6.02572337e-02\n",
      "  3.95216374e-03 -7.00907633e-02  7.82263838e-03  2.92740837e-02\n",
      " -3.57094929e-02  1.21509202e-01 -7.41936862e-02  2.68456410e-04\n",
      " -2.37006210e-02 -2.06592735e-02  6.81598997e-03  5.46463355e-02\n",
      "  9.70256340e-04 -2.57785735e-03  1.56922899e-02 -5.18462807e-02\n",
      " -2.04227585e-02  4.63745929e-02  3.78139433e-03 -5.66851497e-02]\n",
      "\n",
      "Sentence: La Mannschaft est la seule nation européenne, avec le Danemark, à être qualifiée pour la Coupe du monde 2022 au Qatar, avant même les deux dernières journées des éliminatoires\n",
      "Embedding: [ 5.86508177e-02  7.24119246e-02  1.67424977e-02 -9.95593742e-02\n",
      " -1.96351819e-02  7.35213757e-02 -1.82946939e-02  3.38745862e-02\n",
      " -2.54606288e-02  2.10118275e-02 -4.38713469e-02 -1.06041692e-01\n",
      "  5.23174964e-02  2.53959857e-02 -1.51500786e-02 -6.01001345e-02\n",
      " -8.12788606e-02 -2.41012182e-02  1.00959536e-04  2.30010878e-02\n",
      "  1.69711355e-02 -1.02847487e-01  5.01044281e-02 -1.29592158e-02\n",
      " -3.51084396e-02 -6.35668263e-02  1.47886043e-02 -3.76082994e-02\n",
      " -5.13064824e-02 -9.08197276e-03  1.68973375e-02  2.66299653e-03\n",
      " -9.08965170e-02 -2.01878604e-02  6.00317344e-02 -2.06250488e-03\n",
      "  4.35228907e-02 -5.03384359e-02  9.55085084e-02  1.92263387e-02\n",
      "  2.47430112e-02 -8.94693732e-02 -1.07546918e-01 -5.20502478e-02\n",
      "  2.44069938e-02  2.25167833e-02  5.18448949e-02  1.16484433e-01\n",
      " -1.44540697e-01  4.89536636e-02  8.85330897e-04 -3.29833366e-02\n",
      "  6.56632110e-02 -5.16234599e-02  1.44765619e-02  1.61808748e-02\n",
      "  3.94115113e-02 -1.32119954e-02 -2.37214472e-02 -5.93457259e-02\n",
      "  1.65551566e-02 -4.15421277e-02  1.80061795e-02 -2.26304587e-02\n",
      " -1.64579339e-02 -8.20358098e-02  4.11616005e-02 -7.19128251e-02\n",
      " -5.61465211e-02  2.21857764e-02  2.94268802e-02 -9.31564048e-02\n",
      " -5.50493337e-02 -6.69110939e-02  5.21274954e-02 -4.84187203e-03\n",
      " -8.16019624e-02 -1.59206633e-02 -4.39826166e-03 -1.03276022e-01\n",
      "  3.50895487e-02 -1.58205144e-02  6.09639706e-03  2.74491515e-02\n",
      "  1.38191124e-02 -4.20486927e-02  1.16719706e-02  1.33159207e-02\n",
      "  4.93523106e-02 -3.02264816e-03 -5.92170544e-02 -2.36314461e-02\n",
      "  2.40789019e-02  4.40702103e-02  2.72728242e-02 -3.05088740e-02\n",
      "  6.21629916e-02  2.94077788e-02  1.11523993e-01  4.91784364e-02\n",
      "  3.59278694e-02  1.08193550e-02  8.66088271e-03 -1.10708056e-02\n",
      " -6.45952998e-03  4.96955775e-02 -2.28193980e-02 -5.71215376e-02\n",
      "  1.22697996e-02 -5.09052686e-02 -5.85221574e-02 -1.86234508e-02\n",
      " -3.72410044e-02 -8.40867087e-02 -5.76959625e-02  6.32241219e-02\n",
      "  4.77358811e-02 -1.69816297e-02  1.77977327e-02 -1.36909127e-01\n",
      "  3.88176404e-02 -2.27223765e-02 -3.00256681e-04 -2.35584769e-02\n",
      "  5.84477261e-02  8.32758397e-02 -9.75015387e-03  4.02793058e-33\n",
      " -2.35915966e-02 -7.43476748e-02  4.96339751e-03  2.33379733e-02\n",
      " -3.88689786e-02  5.43221049e-02 -1.29664913e-02  6.30170107e-02\n",
      " -1.06138773e-01 -1.05248444e-01 -5.69414236e-02  1.25759766e-02\n",
      " -1.33793429e-02  5.07952198e-02  2.26204749e-02  4.93458435e-02\n",
      " -1.06094200e-02 -4.60094288e-02  4.51382622e-02  3.18165533e-02\n",
      " -1.88204832e-02  1.77335497e-02  1.71648506e-02  1.63690150e-01\n",
      "  5.70149273e-02  7.39844069e-02 -2.07038820e-02 -4.13602293e-02\n",
      " -8.83359909e-02  4.94552068e-02  7.88308382e-02 -5.73615693e-02\n",
      " -7.83502087e-02 -8.58471096e-02 -5.18577620e-02  5.99174993e-03\n",
      " -1.97075810e-02  1.06854513e-01  2.60529071e-02  9.51849949e-03\n",
      "  1.26512703e-02 -9.39930137e-03  2.15703882e-02 -1.17700137e-01\n",
      "  1.23895966e-02 -1.54683515e-02  4.27480182e-03 -4.74094413e-02\n",
      "  8.10123533e-02 -2.10177042e-02  2.63946261e-02 -4.90550883e-02\n",
      "  1.18778171e-02 -6.55812100e-02  1.14567928e-01 -1.81662217e-02\n",
      " -1.12139359e-01  5.55292591e-02 -1.01435319e-01  2.53794231e-02\n",
      "  4.04127277e-02 -9.40827280e-03 -1.21633196e-02  6.28803894e-02\n",
      "  1.51533205e-02  3.71585935e-02  1.19221337e-01  7.90300444e-02\n",
      "  6.71754926e-02 -4.50263582e-02 -4.35403585e-02  2.34517101e-02\n",
      "  1.15903862e-01  6.97811246e-02  1.04264887e-02  1.66262663e-03\n",
      " -5.03314286e-03 -1.20387860e-02 -5.15358262e-02 -6.03036862e-03\n",
      " -3.02354377e-02  1.66999381e-02  4.32769721e-03 -7.57015646e-02\n",
      " -9.96232871e-03 -3.33822705e-02 -5.84695907e-03 -1.08559569e-02\n",
      " -6.01294897e-02  1.97862322e-03 -5.06998412e-02 -5.17713896e-04\n",
      " -3.99732180e-02  2.32454874e-02 -4.05816361e-02 -7.98103800e-33\n",
      "  3.25296484e-02  1.59141868e-02 -2.24048570e-02  2.03777272e-02\n",
      "  9.79243033e-03 -1.63276177e-02  7.62621537e-02  5.93038574e-02\n",
      " -4.28858213e-02  2.34298371e-02  1.05909063e-02 -8.07951838e-02\n",
      "  7.20532313e-02  3.14088129e-02 -3.33822221e-02  3.97138000e-02\n",
      " -5.06149009e-02 -4.88102101e-02 -4.87674698e-02 -4.77738231e-02\n",
      "  1.92924403e-03 -5.66058867e-02  7.60182440e-02 -2.49624383e-02\n",
      " -3.04753473e-03 -3.20299119e-02 -1.03973122e-02  3.60496379e-02\n",
      " -8.62697586e-02  6.94666989e-03 -2.42944118e-02  2.48701801e-03\n",
      "  4.41063046e-02 -4.89761867e-03  4.20833044e-02  8.83986009e-04\n",
      " -2.03591250e-02  1.10119246e-01 -5.10170758e-02  4.75143343e-02\n",
      " -1.02905788e-01  2.40592677e-02  1.84433777e-02  9.39087570e-03\n",
      "  9.37446579e-02  1.95142832e-02 -5.68543300e-02 -5.40706366e-02\n",
      " -4.62037139e-02 -7.36190230e-02  7.49153718e-02  4.71341982e-02\n",
      "  1.98687539e-02  4.42242017e-03  2.57935114e-02  4.76690941e-02\n",
      " -7.16313496e-02  2.04247218e-02 -5.43987006e-03  4.01178747e-03\n",
      "  6.81625679e-02  1.56359852e-03  3.69291082e-02  8.18591639e-02\n",
      "  2.02223994e-02 -2.97737829e-02 -8.52988884e-02  3.34283523e-02\n",
      "  8.09212551e-02 -4.41109203e-03  6.05412275e-02  1.30762421e-02\n",
      " -8.40674564e-02  9.62048396e-02 -1.01966010e-02  1.98663902e-02\n",
      " -1.04420640e-01  3.44592519e-02 -1.36179198e-03  2.72564832e-02\n",
      " -9.13621262e-02 -3.84973995e-02 -2.17121076e-02  5.14327772e-02\n",
      "  4.15659957e-02 -3.45355802e-04  9.71104670e-03 -4.40501682e-02\n",
      " -3.49905156e-02 -4.88649234e-02 -9.54458024e-03  3.01898029e-02\n",
      " -5.59931770e-02 -2.20436566e-02  1.23959295e-02 -4.00725320e-08\n",
      "  6.17574565e-02  1.23256808e-02 -1.86643824e-02  3.96328829e-02\n",
      " -4.48937826e-02 -4.88045514e-02 -2.56659016e-02 -3.13333645e-02\n",
      " -2.48580668e-02  8.15149620e-02 -4.82308790e-02  1.86857339e-02\n",
      "  4.88510765e-02  2.31303070e-02 -6.63187876e-02  2.43051350e-02\n",
      " -6.16983064e-02  9.78942290e-02 -2.32647415e-02 -1.91724254e-03\n",
      " -1.69129819e-02 -9.55334492e-03 -4.37692031e-02 -7.48184994e-02\n",
      " -1.02249533e-02 -2.54631191e-02 -1.04881069e-02 -7.02254847e-02\n",
      "  1.20057035e-02 -4.18041684e-02 -1.05951237e-03  3.73709053e-02\n",
      "  2.60955431e-02 -1.01675525e-01 -5.89706488e-02  1.08139636e-02\n",
      " -2.31322702e-02 -2.91798841e-02  2.49267910e-02 -1.92970820e-02\n",
      "  9.40144658e-02  2.63165478e-02  4.36993828e-03 -5.95267452e-02\n",
      "  1.14169158e-01 -1.38340980e-01 -9.84562747e-03 -1.78448558e-02\n",
      "  1.80892255e-02  6.91454783e-02 -4.23639789e-02  8.60187933e-02\n",
      "  1.42705506e-02 -2.94317119e-03  6.58238167e-03  8.65104198e-02\n",
      " -4.35430594e-02 -1.94898508e-02 -3.55180702e-03  8.09632894e-03\n",
      "  3.52600738e-02  1.96561422e-02  4.91279587e-02 -3.05265076e-02]\n",
      "\n",
      "Sentence: Allemagne et Danemark ont déjà verrouillé la première place de leur groupe, là où une seconde place les aurait obligés à passer par deux tours de barrages afin d'obtenir le ticket pour le Qatar\n",
      "Embedding: [-3.87790576e-02  4.48271744e-02  1.20539879e-02 -2.81121340e-02\n",
      " -1.08310701e-02  4.95780669e-02  2.61766128e-02  7.65724480e-03\n",
      "  2.15427503e-02 -4.14319187e-02 -4.24603187e-02 -6.11055568e-02\n",
      "  5.33316545e-02 -7.95434415e-03 -4.60450770e-03 -2.07854584e-02\n",
      " -7.51152411e-02 -3.22655812e-02  3.46075781e-02 -1.94776468e-02\n",
      "  5.41427545e-02 -4.45359312e-02  2.16496922e-02  2.73708608e-02\n",
      " -4.02338654e-02  7.35074878e-02 -6.74369484e-02  3.95472720e-02\n",
      "  3.27868648e-02 -6.20042384e-02  1.83563922e-02  2.13839486e-02\n",
      " -9.16660428e-02 -2.28486974e-02 -2.31877770e-02  3.50187011e-02\n",
      " -7.18384758e-02 -4.54118289e-02  4.00886424e-02  9.80312154e-02\n",
      "  2.93173119e-02  3.57133173e-03 -8.53836685e-02 -2.27859784e-02\n",
      "  2.56099347e-02  3.49399857e-02  5.98042794e-02  6.15291893e-02\n",
      " -5.68347760e-02 -1.62263066e-02  9.11286920e-02 -3.55469882e-02\n",
      "  7.78561756e-02 -7.16079921e-02 -1.57617535e-02 -4.19210456e-02\n",
      " -2.54965033e-02 -3.75919268e-02 -3.66194756e-03 -3.53911519e-02\n",
      " -2.10009441e-02  4.14705928e-03 -2.24910155e-02  2.66461950e-02\n",
      " -6.84256032e-02 -6.11867122e-02  4.65932563e-02  1.09018469e-02\n",
      " -9.04225837e-03 -1.24803660e-02  2.62552910e-02  1.75303519e-02\n",
      " -1.12695491e-03 -2.31409613e-02  6.77883476e-02  2.14596447e-02\n",
      " -1.22779153e-01  1.53123215e-02 -8.42997059e-02 -1.00116581e-01\n",
      "  6.89045107e-03 -1.07101247e-01  1.45134591e-02  9.23991855e-03\n",
      "  5.79805560e-02 -4.54990678e-02 -1.59373023e-02  6.44966289e-02\n",
      "  1.87791213e-02  3.45305465e-02 -2.14275550e-02  3.59213836e-02\n",
      " -7.94345960e-02  5.53088635e-02  5.67039736e-02  2.45302338e-02\n",
      "  3.24213989e-02 -1.78076066e-02  4.14364599e-02  1.46158775e-02\n",
      "  4.21416946e-02  1.03052584e-02 -9.85074788e-03  1.14259822e-02\n",
      "  1.93350445e-02 -4.77483459e-02  3.36636081e-02 -4.53389902e-03\n",
      " -3.69207636e-02 -7.70342648e-02 -7.10524470e-02 -2.13571321e-02\n",
      "  3.82075571e-02 -9.99260694e-02 -9.99083668e-02  2.15416178e-02\n",
      " -2.52854486e-04 -2.47213189e-02 -5.07773980e-02 -1.00414306e-01\n",
      " -4.24425816e-03 -8.19020793e-02  5.41542731e-02  3.86003256e-02\n",
      "  7.31781498e-02  8.77763554e-02  3.53203714e-02  4.97894077e-33\n",
      " -2.53758859e-02 -8.23259577e-02 -5.56744896e-02  1.56762376e-02\n",
      " -3.44474688e-02  2.59038229e-02 -7.49552026e-02  8.64758566e-02\n",
      " -4.33025472e-02 -3.13389227e-02  7.64614856e-03 -9.34294716e-04\n",
      "  9.09746438e-03  2.59631965e-03  3.15222777e-02 -5.48716038e-02\n",
      "  8.56419578e-02 -7.38531873e-02  3.19423303e-02 -1.06648445e-01\n",
      " -3.38433310e-02 -4.62005474e-03 -4.02239747e-02  1.26023144e-01\n",
      " -2.12869402e-02  6.11470900e-02  2.85058003e-02 -4.17429097e-02\n",
      " -8.25404003e-02  5.67746982e-02 -7.39244884e-03 -5.18295541e-02\n",
      " -9.02295858e-02 -1.84986461e-02 -7.97628891e-03  3.40326391e-02\n",
      " -4.98364829e-02  9.48644280e-02  1.89515911e-02 -2.66148690e-02\n",
      "  7.27168424e-03 -5.92748672e-02 -4.78059351e-02 -8.92815515e-02\n",
      "  1.28533458e-02  7.20209554e-02 -7.27053583e-02  2.08123098e-03\n",
      "  1.06708467e-01 -1.59801561e-02 -3.22130285e-02 -2.62349751e-02\n",
      " -9.55079868e-02 -4.41635475e-02  1.86705403e-02 -7.17154052e-03\n",
      " -9.13251266e-02  6.18586764e-02 -8.61849338e-02  1.09434715e-02\n",
      "  5.71459159e-02  1.35565875e-02 -1.00335687e-01  3.35385837e-02\n",
      "  4.29228023e-02 -3.08030751e-03  8.37569758e-02 -3.59308266e-04\n",
      "  6.47744387e-02 -3.35139269e-03 -4.10559997e-02  1.24273878e-02\n",
      "  6.64427876e-02  6.00331426e-02  3.61249112e-02  1.58503968e-02\n",
      " -3.11292093e-02  7.47553334e-02  5.88749610e-02  5.15219830e-02\n",
      " -1.00425817e-01 -1.31010823e-02  2.59693339e-02 -3.50321382e-02\n",
      "  1.46526219e-02  3.28826420e-02  6.02568649e-02  1.02498743e-03\n",
      " -7.79850781e-02  6.91017834e-03 -4.89897393e-02  1.71843190e-02\n",
      "  3.04233003e-02 -3.05554867e-02  1.69702265e-02 -7.71533734e-33\n",
      "  1.10919960e-02  6.56052232e-02  1.52368695e-02  4.14953977e-02\n",
      "  3.18490528e-02  4.99857329e-02  2.44022794e-02  6.24373220e-02\n",
      "  2.60819495e-02  1.04669929e-01 -5.09832874e-02  1.21151954e-02\n",
      "  4.42731157e-02 -7.07069337e-02 -3.42048816e-02 -3.30685712e-02\n",
      "  7.33122043e-03 -3.00569888e-02 -7.49144284e-03 -6.85034040e-03\n",
      " -5.15206195e-02 -6.85180202e-02  9.95829776e-02 -2.64998041e-02\n",
      "  1.87840648e-02 -5.01910178e-03  4.80065458e-02  1.66811198e-02\n",
      " -1.21077381e-01  5.51678240e-02  3.38465534e-02 -1.59187373e-02\n",
      "  3.43081281e-02  4.83259186e-02  3.75531591e-03  5.32605574e-02\n",
      "  5.68839051e-02  1.89034685e-01 -5.87179251e-02  8.53554979e-02\n",
      " -4.52295132e-02 -3.51142213e-02  5.00633940e-02  1.55077260e-02\n",
      "  1.12041011e-01  4.63986918e-02 -7.03840405e-02 -6.02167137e-02\n",
      " -2.87790727e-02 -5.18078059e-02 -2.17040768e-03  9.46594477e-02\n",
      "  2.42524482e-02  9.85658634e-03  8.04895088e-02  1.18664410e-02\n",
      " -1.34637384e-02 -6.47721067e-02 -3.37160230e-02 -8.41175690e-02\n",
      "  6.75284415e-02  3.00061125e-02  2.73747686e-02  2.90671177e-02\n",
      "  6.48662914e-03 -6.52554780e-02 -7.71834627e-02 -2.08687484e-02\n",
      " -1.18666831e-02  6.63107261e-02  8.68462678e-03 -6.49326667e-02\n",
      " -7.53580257e-02  3.83996405e-02 -3.88003103e-02  1.26324520e-02\n",
      " -5.90337031e-02  6.90422207e-02 -6.48192614e-02  2.99232099e-02\n",
      " -6.06503673e-02  2.12759078e-02 -7.82435611e-02 -1.24233030e-02\n",
      " -1.44363483e-02 -3.66393588e-02  1.00011244e-01 -4.99056429e-02\n",
      " -1.50726028e-02 -6.83082566e-02  5.64102270e-02  4.72004898e-02\n",
      " -4.90491726e-02 -2.59155426e-02 -6.24571182e-03 -3.62939261e-08\n",
      "  1.49515839e-02 -2.13986933e-02 -7.08642602e-02  4.54437062e-02\n",
      "  3.93156819e-02 -1.04374133e-01 -4.93974164e-02  3.48082557e-02\n",
      " -5.83354756e-02  6.05065376e-02  3.88436727e-02  9.70829558e-03\n",
      " -3.09888963e-02  2.36154962e-02 -4.06349748e-02  4.08951640e-02\n",
      " -5.50501086e-02 -7.78485369e-03 -2.35156864e-02 -1.97619088e-02\n",
      "  2.30852030e-02 -5.80539368e-02 -2.81745438e-02 -1.04299240e-01\n",
      "  1.69544853e-02 -5.91464061e-03 -5.81283942e-02 -1.16191149e-01\n",
      "  5.24943247e-02 -1.07009992e-01  7.05930144e-02 -3.30581004e-03\n",
      "  3.16582993e-02 -3.50291245e-02 -3.84978019e-02  1.16175488e-02\n",
      " -5.66820689e-02 -7.99495913e-03  7.09279031e-02  9.19167101e-02\n",
      "  5.55146299e-02  9.88991815e-04  1.10358275e-01  1.53824165e-02\n",
      "  5.81838042e-02 -5.38903475e-03 -3.00231799e-02  1.24209747e-02\n",
      " -1.07406883e-03  3.80758047e-02 -1.33959977e-02 -2.06197775e-03\n",
      "  3.71392854e-02  4.85163294e-02 -6.35375408e-03  3.97150964e-02\n",
      " -2.37989184e-02 -4.64332327e-02 -1.66090447e-02  6.73173647e-03\n",
      " -2.50186976e-02  4.89370003e-02 -3.36898379e-02 -2.97522033e-03]\n",
      "\n",
      "Sentence: L'équipe de France n'est pas encore fixée. Pas plus que la Belgique et l'Angleterre, en ballottage favorable, ou que l'Espagne et le Portugal, sous pression\n",
      "Embedding: [-7.18656331e-02  1.30737154e-02  7.59774121e-03 -1.17429666e-01\n",
      "  2.81795152e-02  9.18498337e-02  4.02395166e-02  5.99891916e-02\n",
      "  1.74473356e-02  3.54927741e-02 -1.99844837e-02 -6.28282502e-02\n",
      "  6.74051093e-03 -8.98844376e-02 -3.81121114e-02 -6.98578134e-02\n",
      " -6.89936578e-02  2.38756500e-02  2.05378830e-02  3.00066154e-02\n",
      " -2.83407960e-02  3.44472099e-03  2.62687486e-02  7.42007196e-02\n",
      "  1.82103775e-02 -3.31564620e-02  4.62841429e-02  2.92580482e-02\n",
      "  2.23841565e-03 -1.19308271e-01  1.66087355e-02  4.22991887e-02\n",
      " -8.56731832e-02 -5.59751503e-02 -6.32252023e-02 -6.00572564e-02\n",
      " -5.79831265e-02 -9.73666385e-02 -1.09889340e-02  4.41208109e-02\n",
      " -6.21574707e-02 -1.49319628e-02 -8.37059841e-02 -4.47731093e-02\n",
      " -4.01013866e-02  1.06802210e-03  7.91420862e-02  6.38305321e-02\n",
      " -4.34091538e-02  2.03878880e-02  4.33457680e-02  3.68831232e-02\n",
      " -2.10683960e-02 -5.81816398e-02 -2.86084544e-02  4.18133847e-02\n",
      "  3.88213806e-02 -1.29372813e-02  7.03533441e-02  1.68708302e-02\n",
      "  1.20146431e-01  1.22725982e-02 -2.12102141e-02  1.57303140e-02\n",
      " -9.11046937e-02 -1.05750319e-02  1.21344849e-01 -4.76828739e-02\n",
      " -2.74320599e-02  9.95589420e-03  3.38667221e-02 -2.23142002e-02\n",
      " -6.41942322e-02 -3.56997028e-02  3.13404799e-02  5.35469279e-02\n",
      " -5.11920340e-02  6.81793690e-02  4.54355357e-03 -5.08618988e-02\n",
      "  2.01257318e-02 -2.95031089e-02 -8.09052680e-03  1.05592329e-02\n",
      "  1.49979919e-01 -6.69014379e-02 -8.66446004e-04  8.22991207e-02\n",
      "  9.13516879e-02 -1.34877376e-02 -2.99778953e-02  9.13747866e-03\n",
      " -3.40757109e-02  5.30550927e-02  6.31016027e-03  6.88925665e-03\n",
      "  2.15447359e-02 -9.08617452e-02 -1.58059523e-02  2.57343799e-02\n",
      " -2.45795269e-02  5.47222421e-02  8.17551184e-03  2.04811655e-02\n",
      " -5.15422486e-02  1.78486705e-02  4.99118790e-02  1.47000905e-02\n",
      "  5.01600392e-02 -6.17022961e-02  3.45989293e-03 -6.58295751e-02\n",
      "  3.04193422e-02 -3.13092140e-03 -4.61798310e-02 -2.20221095e-02\n",
      " -1.59606859e-02 -9.56038013e-02 -2.77294032e-02 -6.98338374e-02\n",
      "  3.69830243e-02 -2.53298394e-02 -3.91690480e-03 -4.11712117e-02\n",
      "  6.28742054e-02 -2.68394710e-03  7.29397386e-02  2.55066791e-33\n",
      "  2.70184912e-02  8.62939581e-02  1.34802191e-02  1.06456066e-02\n",
      " -2.11146306e-02  7.51128271e-02 -5.45266829e-02  9.37808901e-02\n",
      " -1.35439811e-02 -1.05634565e-02 -1.56228649e-04 -7.84540642e-03\n",
      "  2.25775559e-02  4.58671562e-02  3.49148251e-02 -3.87888029e-02\n",
      "  2.76285652e-02  4.22113314e-02 -1.22610049e-03 -4.24306840e-03\n",
      " -8.55517760e-02  1.03764329e-02 -6.67291926e-03  7.10943490e-02\n",
      "  3.75571810e-02  1.33186672e-02  1.56451017e-02  4.90239495e-03\n",
      " -1.09845541e-01  2.13014241e-02  4.15080525e-02 -6.13862872e-02\n",
      "  3.85352857e-02  7.53243640e-02 -6.37266561e-02 -7.54286051e-02\n",
      "  3.08304317e-02  9.24357772e-02  4.11347598e-02 -2.15554554e-02\n",
      "  5.95519990e-02  8.50963220e-02  2.04565488e-02 -2.98353657e-02\n",
      "  2.58806646e-02 -5.25464453e-02 -3.15990821e-02 -4.19672728e-02\n",
      "  2.92940661e-02 -1.05295540e-03 -3.17787728e-03  9.53402091e-03\n",
      " -3.07179261e-02  2.16429587e-02  1.77214071e-02  1.42471232e-02\n",
      " -1.09137423e-01  3.53066027e-02 -1.00631543e-01 -9.09136906e-02\n",
      "  5.31982742e-02 -5.78047559e-02  5.42181544e-03  1.47631112e-02\n",
      " -1.88013110e-02  5.80154639e-03  6.63856566e-02 -2.29598694e-02\n",
      "  6.41495883e-02 -6.57167062e-02 -1.07605286e-01 -3.76236886e-02\n",
      "  1.05599565e-02 -1.87864006e-02 -1.04311118e-02  2.47532856e-02\n",
      " -8.53756219e-02  5.80464005e-02 -3.90823595e-02  8.86858162e-03\n",
      " -6.23128042e-02 -9.37368125e-02  3.58796795e-03 -6.78496733e-02\n",
      "  5.11796288e-02 -2.42953212e-03  2.39410680e-02  2.54927129e-02\n",
      "  5.97572103e-02  7.60319754e-02 -3.45121026e-02  2.90773492e-02\n",
      "  1.21824415e-02  1.03903711e-02  3.07904985e-02 -4.67805683e-33\n",
      " -5.04921712e-02  3.47488634e-02 -3.42200808e-02  9.12626162e-02\n",
      " -1.76955611e-02  2.07449794e-02  3.82471867e-02 -2.11209282e-02\n",
      " -3.19201536e-02 -1.03662014e-01 -2.91304644e-02 -1.10334575e-01\n",
      "  8.68423581e-02 -3.57586332e-02  2.99842097e-02  2.87054852e-02\n",
      " -8.05608183e-02 -4.10025753e-02 -9.70573910e-03  1.62103511e-02\n",
      "  5.87076582e-02 -1.10155784e-01  7.66658932e-02 -5.98787796e-03\n",
      "  4.07282524e-02  1.38309505e-02 -5.09150252e-02  3.82916536e-04\n",
      " -7.91167200e-04  5.35501055e-02  4.00423668e-02 -2.38822717e-02\n",
      "  3.27185243e-02  7.77862966e-02  6.09190613e-02  5.74780293e-02\n",
      "  7.14220107e-02  9.19877440e-02 -5.73449619e-02  7.22492710e-02\n",
      " -1.90443210e-02  1.45870224e-02 -2.21890900e-02  1.04241241e-02\n",
      "  1.54818520e-02 -4.45229262e-02 -2.01939344e-02 -6.42692149e-02\n",
      " -3.72087508e-02 -3.00111938e-02 -3.12996632e-03  8.00370649e-02\n",
      " -1.91519987e-02  4.09224555e-02 -1.21417074e-02  2.03944370e-02\n",
      " -2.30802260e-02 -1.42759094e-02 -6.02068752e-02  5.93415648e-02\n",
      "  1.59338545e-02  1.05784230e-01  5.49240448e-02 -6.05991185e-02\n",
      "  1.18153647e-01  2.18649097e-02 -9.37681794e-02  1.17515111e-02\n",
      "  6.58503696e-02  3.10263913e-02  8.11646059e-02 -5.50372079e-02\n",
      "  1.33150560e-03  6.58326894e-02  9.94177349e-03  1.71670923e-03\n",
      " -5.10304980e-03  4.97795716e-02 -2.00651288e-02  5.08145280e-02\n",
      " -8.48443806e-02 -5.00043295e-02 -4.97025102e-02 -3.36031220e-03\n",
      " -7.97233582e-02 -2.56915782e-02 -8.23351089e-03 -3.57193430e-03\n",
      " -2.14547850e-02 -7.76588395e-02  2.08087023e-02 -8.92220065e-03\n",
      "  2.31969822e-02 -8.81612897e-02  8.33160207e-02 -3.40085080e-08\n",
      "  6.13355972e-02 -2.05155667e-02 -6.13203347e-02  4.60063778e-02\n",
      " -9.08191688e-03 -1.30719334e-01 -8.38816985e-02 -1.74472723e-02\n",
      " -4.69076671e-02 -4.08624485e-03  6.81740418e-02  5.80858663e-02\n",
      "  3.68316434e-02 -2.36784834e-02 -3.02461069e-02  1.20051010e-02\n",
      " -7.70668760e-02  5.91002554e-02 -3.24617513e-02 -2.20079627e-02\n",
      "  6.49291277e-02 -7.75078610e-02 -3.32026482e-02 -1.14119358e-01\n",
      "  1.13568250e-02 -6.89745462e-03 -6.66239858e-02 -1.84541550e-02\n",
      " -7.24406838e-02  3.10849268e-02  2.30982602e-02 -3.12873088e-02\n",
      "  3.51168513e-02 -1.86517220e-02 -3.01834811e-02 -3.32139693e-02\n",
      "  2.80921664e-02  2.98213381e-02  4.86465394e-02  3.24448831e-02\n",
      "  1.06486835e-01  3.92963402e-02 -6.52563274e-02 -6.38298392e-02\n",
      "  2.77226232e-03 -4.64809425e-02  4.63892259e-02  1.21029504e-02\n",
      "  1.42612960e-02  1.46127418e-02 -9.27015916e-02  2.60153543e-02\n",
      "  4.17798907e-02 -3.46615934e-03 -4.90276050e-03  4.59393561e-02\n",
      "  1.63731296e-02  2.99449498e-03  5.24102151e-02 -1.37469415e-02\n",
      " -3.84285748e-02  9.48597044e-02 -2.33934205e-02 -1.15934327e-01]\n",
      "\n",
      "Sentence: Tour d'horizon de la situation des plus grandes nations\n",
      "Embedding: [ 2.25929860e-02  1.34006282e-02  2.38964446e-02 -4.90091555e-02\n",
      "  1.49552710e-03  1.07954070e-02  4.20202240e-02  4.64994786e-03\n",
      " -7.10232789e-03  2.30020960e-03 -2.01619156e-02 -5.12118302e-02\n",
      " -1.04823196e-02  2.07594056e-02 -6.30087554e-02 -8.03390220e-02\n",
      " -6.26213178e-02 -1.27446121e-02  2.51077581e-02  7.90739432e-03\n",
      " -2.35420559e-02 -1.08272381e-01 -3.48414257e-02  9.04334262e-02\n",
      " -1.08119242e-01 -2.42582671e-02  2.50814948e-02 -6.99319243e-02\n",
      " -8.03521276e-03  5.60328085e-03 -2.55704834e-03  8.81927013e-02\n",
      "  3.15515734e-02  6.46369606e-02  2.16369648e-02  6.74150735e-02\n",
      "  7.19374651e-03 -8.63970593e-02 -2.91391760e-02 -1.78901404e-02\n",
      " -3.07536647e-02 -1.79627750e-04  5.97096197e-02 -4.72791009e-02\n",
      "  6.62479922e-02 -1.95771959e-02  1.97249884e-03  5.61255217e-02\n",
      " -3.76908714e-03  2.48327870e-02  2.72085033e-02 -1.68771148e-02\n",
      "  4.54033390e-02 -3.85126546e-02  8.66649374e-02  2.04616599e-02\n",
      " -1.09436680e-02 -7.54938200e-02  6.62374776e-03 -1.24516524e-02\n",
      "  5.87720145e-03 -5.75459041e-02 -2.05483497e-03 -1.41322995e-02\n",
      "  3.39741856e-02 -3.36266421e-02 -1.04724728e-02  2.62415931e-02\n",
      " -7.81723559e-02  7.35710040e-02  1.06892213e-01 -6.13568723e-02\n",
      " -3.11198505e-03 -6.00599572e-02  1.02974497e-01 -1.39968758e-02\n",
      " -6.40726164e-02 -6.16513100e-03 -5.76030537e-02 -7.68276453e-02\n",
      "  1.37066424e-01  6.09204732e-02  1.93186272e-02 -2.25166809e-02\n",
      "  6.45725876e-02 -2.46843323e-02  3.78159769e-02 -7.52667263e-02\n",
      "  7.36750066e-02 -2.65375953e-02 -1.10197039e-02 -1.89551916e-02\n",
      " -1.50870404e-03  3.23093720e-02 -3.03192809e-02 -3.57756615e-02\n",
      "  4.08185683e-02 -4.58190031e-03  1.75277703e-02  5.74247390e-02\n",
      "  7.25018159e-02  1.14346035e-02  5.44811971e-03 -1.70951486e-02\n",
      " -9.78447422e-02 -2.02374812e-03  3.60463075e-02 -1.87532641e-02\n",
      " -1.35877850e-02 -8.61924142e-03 -2.37831101e-02 -1.63908806e-02\n",
      " -8.95912666e-03 -8.68441835e-02 -7.87076056e-02 -6.84594885e-02\n",
      "  6.43927930e-03 -2.59854067e-02 -4.49960865e-02 -5.95717430e-02\n",
      "  2.37524156e-02 -5.01246676e-02 -2.38166153e-02 -4.62676119e-03\n",
      " -3.45103778e-02  2.47010402e-02  4.93209697e-02 -7.03837436e-34\n",
      " -2.66006775e-02 -5.96205294e-02 -3.80177200e-02  5.41670993e-02\n",
      " -1.80646181e-02 -1.39538273e-02 -8.77652317e-02  3.82105098e-03\n",
      " -6.59827664e-02 -5.58337681e-02 -7.06910575e-03  3.66133377e-02\n",
      "  2.54229233e-02 -1.48244882e-02  6.42888620e-02 -2.41922922e-02\n",
      "  4.61204536e-02 -5.02341008e-03  7.94262886e-02 -4.48921546e-02\n",
      " -7.83164054e-03 -2.83829011e-02 -1.88290942e-02  3.94092835e-02\n",
      "  6.22419156e-02  6.19994216e-02 -2.95305941e-02 -6.22608215e-02\n",
      " -5.83296940e-02  2.10840944e-02 -2.25642566e-02  1.25848325e-02\n",
      " -6.59844875e-02  3.88884470e-02  3.64940837e-02  5.68563044e-02\n",
      " -3.69368540e-03  9.00040790e-02  6.44586310e-02  4.10361364e-02\n",
      " -4.34787981e-02 -1.05257193e-02 -6.45161271e-02 -5.20564392e-02\n",
      "  5.46935089e-02  7.87548497e-02  4.72990647e-02 -4.16608155e-03\n",
      " -2.70507787e-03  3.26097384e-02 -4.41106558e-02 -6.51929155e-02\n",
      " -1.10132329e-01 -1.41481534e-01  5.29178418e-02  2.82428619e-02\n",
      " -1.26048207e-01  2.84106638e-02 -2.48004626e-02  1.99776329e-02\n",
      "  8.29217061e-02 -7.23607689e-02 -5.15554063e-02  5.69574386e-02\n",
      "  6.14900254e-02  3.68404924e-03  4.94656377e-02  5.65278390e-03\n",
      "  5.99620827e-02 -4.46868539e-02 -6.65455759e-02  2.02247761e-02\n",
      "  9.25543681e-02  4.23779190e-02  5.43242060e-02  6.84203282e-02\n",
      "  1.65507232e-03  5.36012165e-02 -2.59288717e-02  1.39924409e-02\n",
      " -1.56159133e-01 -4.08406332e-02 -3.47567312e-02  4.83477674e-02\n",
      "  2.71515939e-02  9.68333855e-02  1.38528962e-02 -3.35378721e-02\n",
      "  5.24408603e-03  6.71533588e-03 -1.94709852e-01 -1.57289840e-02\n",
      "  6.87767491e-02 -2.24580448e-02 -5.52325882e-03 -2.52813019e-33\n",
      "  3.48303579e-02  3.71832657e-03  2.52394229e-02 -3.62236015e-02\n",
      " -1.03236903e-02  3.08510624e-02 -3.91027965e-02  6.22407161e-02\n",
      " -5.93781397e-02  7.47233070e-03 -8.50523189e-02 -5.86475208e-02\n",
      "  7.05566257e-02  6.57397322e-03 -2.29555182e-02  2.19040662e-02\n",
      "  4.03694883e-02 -3.97557504e-02 -4.21803594e-02  8.31207260e-02\n",
      "  1.09799569e-02 -8.27178136e-02 -3.58795896e-02 -1.54072000e-02\n",
      " -4.91331518e-02  1.55786518e-02  3.95248830e-02  1.18228523e-02\n",
      " -4.78314795e-02 -1.23907235e-02 -2.62947660e-03 -4.41643931e-02\n",
      " -4.73520271e-02  5.72779514e-02 -1.43403178e-02  1.12638406e-01\n",
      "  3.72085273e-02  1.73104294e-02 -6.60038665e-02  6.27200827e-02\n",
      " -8.33752900e-02  3.21539901e-02  3.27392370e-02  4.12841747e-03\n",
      " -1.81524400e-02  5.15285619e-02 -2.44386699e-02  1.78772081e-02\n",
      " -3.90774086e-02 -5.01672439e-02  3.77886444e-02  6.13427386e-02\n",
      " -7.01892525e-02  5.00783464e-03 -1.87548883e-02 -1.24722924e-02\n",
      " -1.27039663e-02 -4.61775772e-02 -4.05604653e-02 -6.33673966e-02\n",
      " -7.51052191e-03  4.32198159e-02 -6.71988875e-02  1.87357329e-03\n",
      " -3.72590609e-02 -1.91235729e-02 -4.55062948e-02  5.40820844e-02\n",
      "  6.26936704e-02  1.83134861e-02 -6.69910666e-03 -3.55883539e-02\n",
      " -7.53236860e-02  2.70634536e-02 -6.26281649e-02 -5.06063690e-03\n",
      "  2.77659949e-02  3.04658599e-02  9.83300805e-02  6.29140958e-02\n",
      " -2.79718731e-02 -4.51868773e-02  3.55986558e-04  4.13957611e-02\n",
      "  4.44591008e-02  1.38999894e-01  8.98633897e-03 -6.43128455e-02\n",
      "  5.02127707e-02  2.20410489e-02 -1.90536454e-02 -1.26807988e-02\n",
      " -3.32376696e-02 -4.21844274e-02 -2.52270643e-02 -2.24805525e-08\n",
      "  1.73012409e-02  4.45420444e-02 -6.14887215e-02  1.18544027e-02\n",
      " -3.27803195e-02 -7.46636614e-02 -2.06258558e-02  3.69054563e-02\n",
      " -3.60340960e-02  1.44414306e-01 -6.32120371e-02  5.68113737e-02\n",
      " -4.02039140e-02  4.55743447e-02 -5.22343330e-02  3.28057855e-02\n",
      " -2.46606674e-02  5.14746346e-02 -2.15745028e-02  2.54023653e-02\n",
      " -2.52315421e-02 -1.09571614e-03 -7.21235573e-03 -1.58857912e-01\n",
      "  5.60715748e-03 -1.00523548e-03 -4.48787510e-02 -9.99427885e-02\n",
      " -4.12573181e-02 -1.61498468e-02  4.56198235e-04  3.71824056e-02\n",
      " -8.61579254e-02 -5.02855927e-02  9.76038426e-02 -5.01180328e-02\n",
      " -2.46327017e-02  5.20229246e-03  7.32847154e-02 -1.84982494e-02\n",
      "  7.98497871e-02  1.62803352e-01  5.50180487e-02  6.18647151e-02\n",
      "  3.06809116e-02 -6.58726692e-02  2.78824531e-02  1.03726592e-02\n",
      " -5.93430270e-03  6.58586770e-02 -6.25109151e-02 -1.05116016e-03\n",
      "  3.01880613e-02  4.50591519e-02  2.33283471e-02  4.85941656e-02\n",
      "  5.47605306e-02 -1.79877579e-02 -2.63662878e-02  9.11969841e-02\n",
      "  3.38926502e-02 -1.20526534e-02 -3.16808410e-02 -2.27976162e-02]\n",
      "\n"
     ]
    }
   ],
   "source": [
    "sentence_embeddings = model.encode(doc)\n",
    "for sentence, embedding in zip(doc, sentence_embeddings):\n",
    "    print(\"Sentence:\", sentence)\n",
    "    print(\"Embedding:\", embedding)\n",
    "    print(\"\")"
   ]
  },
  {
   "cell_type": "code",
   "execution_count": null,
   "id": "295dfec3",
   "metadata": {},
   "outputs": [],
   "source": []
  }
 ],
 "metadata": {
  "kernelspec": {
   "display_name": "Python 3",
   "language": "python",
   "name": "python3"
  },
  "language_info": {
   "codemirror_mode": {
    "name": "ipython",
    "version": 3
   },
   "file_extension": ".py",
   "mimetype": "text/x-python",
   "name": "python",
   "nbconvert_exporter": "python",
   "pygments_lexer": "ipython3",
   "version": "3.8.8"
  }
 },
 "nbformat": 4,
 "nbformat_minor": 5
}
