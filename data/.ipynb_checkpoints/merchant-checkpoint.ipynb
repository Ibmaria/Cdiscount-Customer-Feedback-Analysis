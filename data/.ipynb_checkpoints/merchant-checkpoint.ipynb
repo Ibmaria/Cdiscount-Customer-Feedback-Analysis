{
 "cells": [
  {
   "cell_type": "code",
   "execution_count": 1,
   "id": "39399df2",
   "metadata": {},
   "outputs": [],
   "source": [
    "import pandas as pd\n",
    "import requests\n",
    "import json"
   ]
  },
  {
   "cell_type": "code",
   "execution_count": 2,
   "id": "b59a9608",
   "metadata": {},
   "outputs": [],
   "source": [
    "pd.set_option('max_rows', 1000)\n",
    "pd.set_option('max_columns', 1000)\n",
    "pd.set_option('max_colwidth', 1000)"
   ]
  },
  {
   "cell_type": "code",
   "execution_count": 3,
   "id": "35aca7c9",
   "metadata": {},
   "outputs": [],
   "source": [
    "def _get_merchant_ratings(merchant_identifiers, since_period='year'):\n",
    "    \"\"\"Return a list of dictionaries containing the product and service ratings for each merchant.\n",
    "    \n",
    "    Args:\n",
    "        merchant_identifiers (list): List of Feefo merchant identifiers\n",
    "        since_period (string, optional): Time since review (24_hours, week, month, year, all)\n",
    "    \n",
    "    Returns:\n",
    "        Python list containing dictionaries of merchant ratings and addresses.\n",
    "    \"\"\"\n",
    "    \n",
    "    results = []\n",
    "\n",
    "    endpoint = \"https://api.feefo.com/api/10/reviews/summary/all\"\n",
    "    \n",
    "    for merchant_identifier in merchant_identifiers:\n",
    "        response = requests.get(endpoint + \"?merchant_identifier=\" + merchant_identifier + \"&since_period=\" + since_period)    \n",
    "        results.append(json.loads(response.text))\n",
    "\n",
    "    return results"
   ]
  },
  {
   "cell_type": "code",
   "execution_count": 4,
   "id": "3c82968d",
   "metadata": {},
   "outputs": [
    {
     "data": {
      "text/plain": [
       "[{'merchant': {'identifier': 'vauxhall',\n",
       "   'name': 'Vauxhall',\n",
       "   'url': 'https://www.vauxhall.co.uk/',\n",
       "   'logo': 'vauxhall-logo.png',\n",
       "   'review_url': 'https://www.feefo.com/en-GB/reviews/vauxhall',\n",
       "   'addressCountry': 'GB',\n",
       "   'addressLocality': 'Luton',\n",
       "   'addressRegion': 'Greater London',\n",
       "   'postalCode': 'LU1 3YT',\n",
       "   'streetAddress': 'Griffin House',\n",
       "   'telephone': '01582426569'},\n",
       "  'meta': {'count': 1485, 'pages': 75, 'page_size': 20},\n",
       "  'rating': {'min': 1.0,\n",
       "   'max': 5.0,\n",
       "   'rating': 4.7,\n",
       "   'service': {'count': 303,\n",
       "    '1_star': 3,\n",
       "    '2_star': 8,\n",
       "    '3_star': 11,\n",
       "    '4_star': 31,\n",
       "    '5_star': 250},\n",
       "   'product': {'count': 1485,\n",
       "    '1_star': 24,\n",
       "    '2_star': 28,\n",
       "    '3_star': 83,\n",
       "    '4_star': 275,\n",
       "    '5_star': 1075}}}]"
      ]
     },
     "execution_count": 4,
     "metadata": {},
     "output_type": "execute_result"
    }
   ],
   "source": [
    "results = _get_merchant_ratings(['vauxhall'])\n",
    "results"
   ]
  },
  {
   "cell_type": "code",
   "execution_count": null,
   "id": "a5381b27",
   "metadata": {},
   "outputs": [],
   "source": [
    "def UserExist(username):\n",
    "    if users.find({\"Username\":username}).count() == 0:\n",
    "        return False\n",
    "    else:\n",
    "        return True\n"
   ]
  }
 ],
 "metadata": {
  "kernelspec": {
   "display_name": "Python 3",
   "language": "python",
   "name": "python3"
  },
  "language_info": {
   "codemirror_mode": {
    "name": "ipython",
    "version": 3
   },
   "file_extension": ".py",
   "mimetype": "text/x-python",
   "name": "python",
   "nbconvert_exporter": "python",
   "pygments_lexer": "ipython3",
   "version": "3.8.8"
  }
 },
 "nbformat": 4,
 "nbformat_minor": 5
}
