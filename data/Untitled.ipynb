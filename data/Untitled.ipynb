{
 "cells": [
  {
   "cell_type": "code",
   "execution_count": 5,
   "id": "286c0dfe",
   "metadata": {},
   "outputs": [],
   "source": [
    "from dash import  dcc\n",
    "from dash import  html\n",
    "from dash.dependencies import Input, Output\n",
    "import plotly.graph_objs as go\n",
    "from django_plotly_dash import DjangoDash\n",
    "import pandas as pd\n",
    "import numpy as np\n",
    "import plotly.express as px\n"
   ]
  },
  {
   "cell_type": "code",
   "execution_count": 40,
   "id": "9162d505",
   "metadata": {},
   "outputs": [
    {
     "data": {
      "text/html": [
       "<div>\n",
       "<style scoped>\n",
       "    .dataframe tbody tr th:only-of-type {\n",
       "        vertical-align: middle;\n",
       "    }\n",
       "\n",
       "    .dataframe tbody tr th {\n",
       "        vertical-align: top;\n",
       "    }\n",
       "\n",
       "    .dataframe thead th {\n",
       "        text-align: right;\n",
       "    }\n",
       "</style>\n",
       "<table border=\"1\" class=\"dataframe\">\n",
       "  <thead>\n",
       "    <tr style=\"text-align: right;\">\n",
       "      <th></th>\n",
       "      <th>author</th>\n",
       "      <th>headline</th>\n",
       "      <th>body</th>\n",
       "      <th>rating</th>\n",
       "      <th>item_reviewed</th>\n",
       "      <th>publisher</th>\n",
       "      <th>date</th>\n",
       "      <th>year</th>\n",
       "      <th>month</th>\n",
       "      <th>words</th>\n",
       "      <th>sentiment</th>\n",
       "      <th>sentiment_value</th>\n",
       "    </tr>\n",
       "  </thead>\n",
       "  <tbody>\n",
       "    <tr>\n",
       "      <th>0</th>\n",
       "      <td>insomniak</td>\n",
       "      <td>parfait aucun problème engagement tenu</td>\n",
       "      <td>parfait aucun problème engagement tenu</td>\n",
       "      <td>5</td>\n",
       "      <td>Cdiscount</td>\n",
       "      <td>Trustpilot</td>\n",
       "      <td>2021-11-15 17:47:35+01:00</td>\n",
       "      <td>2021</td>\n",
       "      <td>11</td>\n",
       "      <td>parfait aucun problème engagement tenir</td>\n",
       "      <td>positif</td>\n",
       "      <td>1</td>\n",
       "    </tr>\n",
       "    <tr>\n",
       "      <th>1</th>\n",
       "      <td>Guillaume</td>\n",
       "      <td>facile et rapide d'utilisation</td>\n",
       "      <td>facile et rapide dutilisation</td>\n",
       "      <td>4</td>\n",
       "      <td>Cdiscount</td>\n",
       "      <td>Trustpilot</td>\n",
       "      <td>2021-11-15 17:44:16+01:00</td>\n",
       "      <td>2021</td>\n",
       "      <td>11</td>\n",
       "      <td>facile rapide dutilisation</td>\n",
       "      <td>positif</td>\n",
       "      <td>1</td>\n",
       "    </tr>\n",
       "    <tr>\n",
       "      <th>2</th>\n",
       "      <td>ALAIN CONTROLE TECHNIQUE DEKRA</td>\n",
       "      <td>parfait</td>\n",
       "      <td>parfait tres bien</td>\n",
       "      <td>5</td>\n",
       "      <td>Cdiscount</td>\n",
       "      <td>Trustpilot</td>\n",
       "      <td>2021-11-15 17:35:56+01:00</td>\n",
       "      <td>2021</td>\n",
       "      <td>11</td>\n",
       "      <td>parfait bien</td>\n",
       "      <td>positif</td>\n",
       "      <td>1</td>\n",
       "    </tr>\n",
       "    <tr>\n",
       "      <th>3</th>\n",
       "      <td>jean jacques THEBAULT</td>\n",
       "      <td>rien a dire tout est parfait</td>\n",
       "      <td>rien a dire tout est parfait</td>\n",
       "      <td>5</td>\n",
       "      <td>Cdiscount</td>\n",
       "      <td>Trustpilot</td>\n",
       "      <td>2021-11-15 17:32:43+01:00</td>\n",
       "      <td>2021</td>\n",
       "      <td>11</td>\n",
       "      <td>rien avoir dire tout être parfait</td>\n",
       "      <td>positif</td>\n",
       "      <td>1</td>\n",
       "    </tr>\n",
       "    <tr>\n",
       "      <th>4</th>\n",
       "      <td>georges.hibouxgmail.com</td>\n",
       "      <td>Satisfait</td>\n",
       "      <td>satisfait de mon achat</td>\n",
       "      <td>5</td>\n",
       "      <td>Cdiscount</td>\n",
       "      <td>Trustpilot</td>\n",
       "      <td>2021-11-15 17:31:59+01:00</td>\n",
       "      <td>2021</td>\n",
       "      <td>11</td>\n",
       "      <td>satisfait achat</td>\n",
       "      <td>positif</td>\n",
       "      <td>1</td>\n",
       "    </tr>\n",
       "    <tr>\n",
       "      <th>...</th>\n",
       "      <td>...</td>\n",
       "      <td>...</td>\n",
       "      <td>...</td>\n",
       "      <td>...</td>\n",
       "      <td>...</td>\n",
       "      <td>...</td>\n",
       "      <td>...</td>\n",
       "      <td>...</td>\n",
       "      <td>...</td>\n",
       "      <td>...</td>\n",
       "      <td>...</td>\n",
       "      <td>...</td>\n",
       "    </tr>\n",
       "    <tr>\n",
       "      <th>62975</th>\n",
       "      <td>lili91</td>\n",
       "      <td>j'ai pas de soucis avec cdiscount mais…</td>\n",
       "      <td>jai pas de soucis avec cdiscount mais bcp avec...</td>\n",
       "      <td>4</td>\n",
       "      <td>Cdiscount</td>\n",
       "      <td>Trustpilot</td>\n",
       "      <td>2020-04-13 14:48:22+02:00</td>\n",
       "      <td>2020</td>\n",
       "      <td>4</td>\n",
       "      <td>souci cdiscount vendeur market marchandise liv...</td>\n",
       "      <td>positif</td>\n",
       "      <td>1</td>\n",
       "    </tr>\n",
       "    <tr>\n",
       "      <th>62976</th>\n",
       "      <td>Rothen</td>\n",
       "      <td>Bravo à vous tous</td>\n",
       "      <td>bravo à vous tous</td>\n",
       "      <td>5</td>\n",
       "      <td>Cdiscount</td>\n",
       "      <td>Trustpilot</td>\n",
       "      <td>2020-04-13 14:41:18+02:00</td>\n",
       "      <td>2020</td>\n",
       "      <td>4</td>\n",
       "      <td>bravo tout</td>\n",
       "      <td>positif</td>\n",
       "      <td>1</td>\n",
       "    </tr>\n",
       "    <tr>\n",
       "      <th>62977</th>\n",
       "      <td>laurent delforge</td>\n",
       "      <td>bonjour bon courage.rien a dire…</td>\n",
       "      <td>bonjour bon couragerien a dire cordialement</td>\n",
       "      <td>4</td>\n",
       "      <td>Cdiscount</td>\n",
       "      <td>Trustpilot</td>\n",
       "      <td>2020-04-13 14:14:42+02:00</td>\n",
       "      <td>2020</td>\n",
       "      <td>4</td>\n",
       "      <td>bonjour couragerien avoir dire cordialement</td>\n",
       "      <td>positif</td>\n",
       "      <td>1</td>\n",
       "    </tr>\n",
       "    <tr>\n",
       "      <th>62978</th>\n",
       "      <td>Aaron Nano</td>\n",
       "      <td>Après plusieurs déboires, cdiscount fini pour moi</td>\n",
       "      <td>avec cdiscount quand on veut annuler une comma...</td>\n",
       "      <td>1</td>\n",
       "      <td>Cdiscount</td>\n",
       "      <td>Trustpilot</td>\n",
       "      <td>2020-04-13 14:14:07+02:00</td>\n",
       "      <td>2020</td>\n",
       "      <td>4</td>\n",
       "      <td>cdiscount quand vouloir annuler commande impor...</td>\n",
       "      <td>negatif</td>\n",
       "      <td>3</td>\n",
       "    </tr>\n",
       "    <tr>\n",
       "      <th>62979</th>\n",
       "      <td>Annie PREDAL</td>\n",
       "      <td>commande encre HP</td>\n",
       "      <td>parfais pour les renseignements donnés par le ...</td>\n",
       "      <td>5</td>\n",
       "      <td>Cdiscount</td>\n",
       "      <td>Trustpilot</td>\n",
       "      <td>2020-04-13 13:48:15+02:00</td>\n",
       "      <td>2020</td>\n",
       "      <td>4</td>\n",
       "      <td>parfai renseignement donner commercial virtuel</td>\n",
       "      <td>positif</td>\n",
       "      <td>1</td>\n",
       "    </tr>\n",
       "  </tbody>\n",
       "</table>\n",
       "<p>62980 rows × 12 columns</p>\n",
       "</div>"
      ],
      "text/plain": [
       "                               author  \\\n",
       "0                           insomniak   \n",
       "1                           Guillaume   \n",
       "2      ALAIN CONTROLE TECHNIQUE DEKRA   \n",
       "3               jean jacques THEBAULT   \n",
       "4             georges.hibouxgmail.com   \n",
       "...                               ...   \n",
       "62975                          lili91   \n",
       "62976                         Rothen    \n",
       "62977                laurent delforge   \n",
       "62978                      Aaron Nano   \n",
       "62979                    Annie PREDAL   \n",
       "\n",
       "                                                headline  \\\n",
       "0                 parfait aucun problème engagement tenu   \n",
       "1                         facile et rapide d'utilisation   \n",
       "2                                                parfait   \n",
       "3                           rien a dire tout est parfait   \n",
       "4                                              Satisfait   \n",
       "...                                                  ...   \n",
       "62975            j'ai pas de soucis avec cdiscount mais…   \n",
       "62976                                  Bravo à vous tous   \n",
       "62977                   bonjour bon courage.rien a dire…   \n",
       "62978  Après plusieurs déboires, cdiscount fini pour moi   \n",
       "62979                                  commande encre HP   \n",
       "\n",
       "                                                    body  rating  \\\n",
       "0                 parfait aucun problème engagement tenu       5   \n",
       "1                          facile et rapide dutilisation       4   \n",
       "2                                      parfait tres bien       5   \n",
       "3                           rien a dire tout est parfait       5   \n",
       "4                                satisfait de mon achat        5   \n",
       "...                                                  ...     ...   \n",
       "62975  jai pas de soucis avec cdiscount mais bcp avec...       4   \n",
       "62976                                  bravo à vous tous       5   \n",
       "62977        bonjour bon couragerien a dire cordialement       4   \n",
       "62978  avec cdiscount quand on veut annuler une comma...       1   \n",
       "62979  parfais pour les renseignements donnés par le ...       5   \n",
       "\n",
       "      item_reviewed   publisher                       date  year  month  \\\n",
       "0         Cdiscount  Trustpilot  2021-11-15 17:47:35+01:00  2021     11   \n",
       "1         Cdiscount  Trustpilot  2021-11-15 17:44:16+01:00  2021     11   \n",
       "2         Cdiscount  Trustpilot  2021-11-15 17:35:56+01:00  2021     11   \n",
       "3         Cdiscount  Trustpilot  2021-11-15 17:32:43+01:00  2021     11   \n",
       "4         Cdiscount  Trustpilot  2021-11-15 17:31:59+01:00  2021     11   \n",
       "...             ...         ...                        ...   ...    ...   \n",
       "62975     Cdiscount  Trustpilot  2020-04-13 14:48:22+02:00  2020      4   \n",
       "62976     Cdiscount  Trustpilot  2020-04-13 14:41:18+02:00  2020      4   \n",
       "62977     Cdiscount  Trustpilot  2020-04-13 14:14:42+02:00  2020      4   \n",
       "62978     Cdiscount  Trustpilot  2020-04-13 14:14:07+02:00  2020      4   \n",
       "62979     Cdiscount  Trustpilot  2020-04-13 13:48:15+02:00  2020      4   \n",
       "\n",
       "                                                   words sentiment  \\\n",
       "0                parfait aucun problème engagement tenir   positif   \n",
       "1                             facile rapide dutilisation   positif   \n",
       "2                                           parfait bien   positif   \n",
       "3                      rien avoir dire tout être parfait   positif   \n",
       "4                                        satisfait achat   positif   \n",
       "...                                                  ...       ...   \n",
       "62975  souci cdiscount vendeur market marchandise liv...   positif   \n",
       "62976                                         bravo tout   positif   \n",
       "62977        bonjour couragerien avoir dire cordialement   positif   \n",
       "62978  cdiscount quand vouloir annuler commande impor...   negatif   \n",
       "62979     parfai renseignement donner commercial virtuel   positif   \n",
       "\n",
       "       sentiment_value  \n",
       "0                    1  \n",
       "1                    1  \n",
       "2                    1  \n",
       "3                    1  \n",
       "4                    1  \n",
       "...                ...  \n",
       "62975                1  \n",
       "62976                1  \n",
       "62977                1  \n",
       "62978                3  \n",
       "62979                1  \n",
       "\n",
       "[62980 rows x 12 columns]"
      ]
     },
     "execution_count": 40,
     "metadata": {},
     "output_type": "execute_result"
    }
   ],
   "source": [
    "df_ =pd.read_csv('df_preprocess.csv',index_col=0)\n",
    "df=df_.copy()\n",
    "df"
   ]
  },
  {
   "cell_type": "code",
   "execution_count": 41,
   "id": "5de76170",
   "metadata": {},
   "outputs": [
    {
     "name": "stderr",
     "output_type": "stream",
     "text": [
      "<ipython-input-41-693489e6f5d5>:1: FutureWarning:\n",
      "\n",
      "Indexing with multiple keys (implicitly converted to a tuple of keys) will be deprecated, use a list instead.\n",
      "\n"
     ]
    },
    {
     "data": {
      "text/html": [
       "<div>\n",
       "<style scoped>\n",
       "    .dataframe tbody tr th:only-of-type {\n",
       "        vertical-align: middle;\n",
       "    }\n",
       "\n",
       "    .dataframe tbody tr th {\n",
       "        vertical-align: top;\n",
       "    }\n",
       "\n",
       "    .dataframe thead th {\n",
       "        text-align: right;\n",
       "    }\n",
       "</style>\n",
       "<table border=\"1\" class=\"dataframe\">\n",
       "  <thead>\n",
       "    <tr style=\"text-align: right;\">\n",
       "      <th></th>\n",
       "      <th>sentiment_value</th>\n",
       "    </tr>\n",
       "    <tr>\n",
       "      <th>month</th>\n",
       "      <th></th>\n",
       "    </tr>\n",
       "  </thead>\n",
       "  <tbody>\n",
       "    <tr>\n",
       "      <th>1</th>\n",
       "      <td>3188</td>\n",
       "    </tr>\n",
       "    <tr>\n",
       "      <th>2</th>\n",
       "      <td>2933</td>\n",
       "    </tr>\n",
       "    <tr>\n",
       "      <th>3</th>\n",
       "      <td>3008</td>\n",
       "    </tr>\n",
       "    <tr>\n",
       "      <th>4</th>\n",
       "      <td>4110</td>\n",
       "    </tr>\n",
       "    <tr>\n",
       "      <th>5</th>\n",
       "      <td>5127</td>\n",
       "    </tr>\n",
       "    <tr>\n",
       "      <th>6</th>\n",
       "      <td>5293</td>\n",
       "    </tr>\n",
       "    <tr>\n",
       "      <th>7</th>\n",
       "      <td>4738</td>\n",
       "    </tr>\n",
       "    <tr>\n",
       "      <th>8</th>\n",
       "      <td>3279</td>\n",
       "    </tr>\n",
       "    <tr>\n",
       "      <th>9</th>\n",
       "      <td>4708</td>\n",
       "    </tr>\n",
       "    <tr>\n",
       "      <th>10</th>\n",
       "      <td>6383</td>\n",
       "    </tr>\n",
       "    <tr>\n",
       "      <th>11</th>\n",
       "      <td>5966</td>\n",
       "    </tr>\n",
       "    <tr>\n",
       "      <th>12</th>\n",
       "      <td>4917</td>\n",
       "    </tr>\n",
       "  </tbody>\n",
       "</table>\n",
       "</div>"
      ],
      "text/plain": [
       "       sentiment_value\n",
       "month                 \n",
       "1                 3188\n",
       "2                 2933\n",
       "3                 3008\n",
       "4                 4110\n",
       "5                 5127\n",
       "6                 5293\n",
       "7                 4738\n",
       "8                 3279\n",
       "9                 4708\n",
       "10                6383\n",
       "11                5966\n",
       "12                4917"
      ]
     },
     "execution_count": 41,
     "metadata": {},
     "output_type": "execute_result"
    }
   ],
   "source": [
    "df_pos=df[df['sentiment_value']==1].groupby('month')['sentiment_value','sentiment'].sum()\n",
    "df_pos"
   ]
  },
  {
   "cell_type": "code",
   "execution_count": 42,
   "id": "90248503",
   "metadata": {},
   "outputs": [
    {
     "name": "stderr",
     "output_type": "stream",
     "text": [
      "<ipython-input-42-c45a2d9b87a3>:1: FutureWarning:\n",
      "\n",
      "Indexing with multiple keys (implicitly converted to a tuple of keys) will be deprecated, use a list instead.\n",
      "\n"
     ]
    },
    {
     "data": {
      "text/html": [
       "<div>\n",
       "<style scoped>\n",
       "    .dataframe tbody tr th:only-of-type {\n",
       "        vertical-align: middle;\n",
       "    }\n",
       "\n",
       "    .dataframe tbody tr th {\n",
       "        vertical-align: top;\n",
       "    }\n",
       "\n",
       "    .dataframe thead th {\n",
       "        text-align: right;\n",
       "    }\n",
       "</style>\n",
       "<table border=\"1\" class=\"dataframe\">\n",
       "  <thead>\n",
       "    <tr style=\"text-align: right;\">\n",
       "      <th></th>\n",
       "      <th>sentiment_value</th>\n",
       "    </tr>\n",
       "    <tr>\n",
       "      <th>month</th>\n",
       "      <th></th>\n",
       "    </tr>\n",
       "  </thead>\n",
       "  <tbody>\n",
       "    <tr>\n",
       "      <th>1</th>\n",
       "      <td>972</td>\n",
       "    </tr>\n",
       "    <tr>\n",
       "      <th>2</th>\n",
       "      <td>1014</td>\n",
       "    </tr>\n",
       "    <tr>\n",
       "      <th>3</th>\n",
       "      <td>810</td>\n",
       "    </tr>\n",
       "    <tr>\n",
       "      <th>4</th>\n",
       "      <td>1323</td>\n",
       "    </tr>\n",
       "    <tr>\n",
       "      <th>5</th>\n",
       "      <td>2070</td>\n",
       "    </tr>\n",
       "    <tr>\n",
       "      <th>6</th>\n",
       "      <td>2307</td>\n",
       "    </tr>\n",
       "    <tr>\n",
       "      <th>7</th>\n",
       "      <td>2127</td>\n",
       "    </tr>\n",
       "    <tr>\n",
       "      <th>8</th>\n",
       "      <td>1833</td>\n",
       "    </tr>\n",
       "    <tr>\n",
       "      <th>9</th>\n",
       "      <td>1425</td>\n",
       "    </tr>\n",
       "    <tr>\n",
       "      <th>10</th>\n",
       "      <td>1482</td>\n",
       "    </tr>\n",
       "    <tr>\n",
       "      <th>11</th>\n",
       "      <td>1635</td>\n",
       "    </tr>\n",
       "    <tr>\n",
       "      <th>12</th>\n",
       "      <td>1731</td>\n",
       "    </tr>\n",
       "  </tbody>\n",
       "</table>\n",
       "</div>"
      ],
      "text/plain": [
       "       sentiment_value\n",
       "month                 \n",
       "1                  972\n",
       "2                 1014\n",
       "3                  810\n",
       "4                 1323\n",
       "5                 2070\n",
       "6                 2307\n",
       "7                 2127\n",
       "8                 1833\n",
       "9                 1425\n",
       "10                1482\n",
       "11                1635\n",
       "12                1731"
      ]
     },
     "execution_count": 42,
     "metadata": {},
     "output_type": "execute_result"
    }
   ],
   "source": [
    "df_neg=df[df['sentiment_value']==3].groupby('month')['sentiment_value','sentiment'].sum()\n",
    "df_neg"
   ]
  },
  {
   "cell_type": "code",
   "execution_count": 43,
   "id": "0696be93",
   "metadata": {},
   "outputs": [
    {
     "name": "stderr",
     "output_type": "stream",
     "text": [
      "<ipython-input-43-de07d9969a35>:1: FutureWarning:\n",
      "\n",
      "Indexing with multiple keys (implicitly converted to a tuple of keys) will be deprecated, use a list instead.\n",
      "\n"
     ]
    },
    {
     "data": {
      "text/html": [
       "<div>\n",
       "<style scoped>\n",
       "    .dataframe tbody tr th:only-of-type {\n",
       "        vertical-align: middle;\n",
       "    }\n",
       "\n",
       "    .dataframe tbody tr th {\n",
       "        vertical-align: top;\n",
       "    }\n",
       "\n",
       "    .dataframe thead th {\n",
       "        text-align: right;\n",
       "    }\n",
       "</style>\n",
       "<table border=\"1\" class=\"dataframe\">\n",
       "  <thead>\n",
       "    <tr style=\"text-align: right;\">\n",
       "      <th></th>\n",
       "      <th>sentiment_value</th>\n",
       "    </tr>\n",
       "    <tr>\n",
       "      <th>month</th>\n",
       "      <th></th>\n",
       "    </tr>\n",
       "  </thead>\n",
       "  <tbody>\n",
       "    <tr>\n",
       "      <th>1</th>\n",
       "      <td>402</td>\n",
       "    </tr>\n",
       "    <tr>\n",
       "      <th>2</th>\n",
       "      <td>312</td>\n",
       "    </tr>\n",
       "    <tr>\n",
       "      <th>3</th>\n",
       "      <td>326</td>\n",
       "    </tr>\n",
       "    <tr>\n",
       "      <th>4</th>\n",
       "      <td>430</td>\n",
       "    </tr>\n",
       "    <tr>\n",
       "      <th>5</th>\n",
       "      <td>612</td>\n",
       "    </tr>\n",
       "    <tr>\n",
       "      <th>6</th>\n",
       "      <td>682</td>\n",
       "    </tr>\n",
       "    <tr>\n",
       "      <th>7</th>\n",
       "      <td>564</td>\n",
       "    </tr>\n",
       "    <tr>\n",
       "      <th>8</th>\n",
       "      <td>354</td>\n",
       "    </tr>\n",
       "    <tr>\n",
       "      <th>9</th>\n",
       "      <td>488</td>\n",
       "    </tr>\n",
       "    <tr>\n",
       "      <th>10</th>\n",
       "      <td>672</td>\n",
       "    </tr>\n",
       "    <tr>\n",
       "      <th>11</th>\n",
       "      <td>714</td>\n",
       "    </tr>\n",
       "    <tr>\n",
       "      <th>12</th>\n",
       "      <td>618</td>\n",
       "    </tr>\n",
       "  </tbody>\n",
       "</table>\n",
       "</div>"
      ],
      "text/plain": [
       "       sentiment_value\n",
       "month                 \n",
       "1                  402\n",
       "2                  312\n",
       "3                  326\n",
       "4                  430\n",
       "5                  612\n",
       "6                  682\n",
       "7                  564\n",
       "8                  354\n",
       "9                  488\n",
       "10                 672\n",
       "11                 714\n",
       "12                 618"
      ]
     },
     "execution_count": 43,
     "metadata": {},
     "output_type": "execute_result"
    }
   ],
   "source": [
    "df_neu=df[df['sentiment_value']==2].groupby('month')['sentiment_value','sentiment'].sum()\n",
    "df_neu"
   ]
  },
  {
   "cell_type": "code",
   "execution_count": 36,
   "id": "8ca72071",
   "metadata": {},
   "outputs": [
    {
     "data": {
      "text/plain": [
       "Int64Index([ 1,  2,  3,  4,  5,  6,  7,  8,  9, 10, 11, 12,  1,  2,  3,  4,  5,\n",
       "             6,  7,  8,  9, 10, 11, 12,  1,  2,  3,  4,  5,  6,  7,  8,  9, 10,\n",
       "            11, 12],\n",
       "           dtype='int64', name='month')"
      ]
     },
     "execution_count": 36,
     "metadata": {},
     "output_type": "execute_result"
    }
   ],
   "source": [
    "df=pd.concat([df_pos,df_neg])\n",
    "df_final=pd.concat([df,df_neu])\n",
    "df_final.index\n",
    "# No of reviews per year"
   ]
  },
  {
   "cell_type": "code",
   "execution_count": 18,
   "id": "92660921",
   "metadata": {},
   "outputs": [
    {
     "data": {
      "text/plain": [
       "[2020, 2021]"
      ]
     },
     "execution_count": 18,
     "metadata": {},
     "output_type": "execute_result"
    }
   ],
   "source": [
    "list(set(df_final.index))"
   ]
  },
  {
   "cell_type": "code",
   "execution_count": 44,
   "id": "a9ea9de2",
   "metadata": {},
   "outputs": [
    {
     "data": {
      "application/vnd.plotly.v1+json": {
       "config": {
        "plotlyServerURL": "https://plot.ly"
       },
       "data": [
        {
         "line": {
          "color": "rgb(0,245,153)",
          "width": 1
         },
         "mode": "lines",
         "name": "positive",
         "type": "scatter",
         "x": [
          1,
          2,
          3,
          4,
          5,
          6,
          7,
          8,
          9,
          10,
          11,
          12
         ],
         "y": [
          3188,
          2933,
          3008,
          4110,
          5127,
          5293,
          4738,
          3279,
          4708,
          6383,
          5966,
          4917
         ]
        },
        {
         "line": {
          "color": "rgb(255, 102, 102)",
          "width": 1
         },
         "mode": "lines",
         "name": "negative",
         "type": "scatter",
         "x": [
          1,
          2,
          3,
          4,
          5,
          6,
          7,
          8,
          9,
          10,
          11,
          12
         ],
         "y": [
          972,
          1014,
          810,
          1323,
          2070,
          2307,
          2127,
          1833,
          1425,
          1482,
          1635,
          1731
         ]
        },
        {
         "line": {
          "color": "rgb(102, 102, 255)",
          "width": 1
         },
         "mode": "lines",
         "name": "neutral",
         "type": "scatter",
         "x": [
          1,
          2,
          3,
          4,
          5,
          6,
          7,
          8,
          9,
          10,
          11,
          12
         ],
         "y": [
          402,
          312,
          326,
          430,
          612,
          682,
          564,
          354,
          488,
          672,
          714,
          618
         ]
        }
       ],
       "layout": {
        "autosize": false,
        "template": {
         "data": {
          "bar": [
           {
            "error_x": {
             "color": "#2a3f5f"
            },
            "error_y": {
             "color": "#2a3f5f"
            },
            "marker": {
             "line": {
              "color": "#E5ECF6",
              "width": 0.5
             },
             "pattern": {
              "fillmode": "overlay",
              "size": 10,
              "solidity": 0.2
             }
            },
            "type": "bar"
           }
          ],
          "barpolar": [
           {
            "marker": {
             "line": {
              "color": "#E5ECF6",
              "width": 0.5
             },
             "pattern": {
              "fillmode": "overlay",
              "size": 10,
              "solidity": 0.2
             }
            },
            "type": "barpolar"
           }
          ],
          "carpet": [
           {
            "aaxis": {
             "endlinecolor": "#2a3f5f",
             "gridcolor": "white",
             "linecolor": "white",
             "minorgridcolor": "white",
             "startlinecolor": "#2a3f5f"
            },
            "baxis": {
             "endlinecolor": "#2a3f5f",
             "gridcolor": "white",
             "linecolor": "white",
             "minorgridcolor": "white",
             "startlinecolor": "#2a3f5f"
            },
            "type": "carpet"
           }
          ],
          "choropleth": [
           {
            "colorbar": {
             "outlinewidth": 0,
             "ticks": ""
            },
            "type": "choropleth"
           }
          ],
          "contour": [
           {
            "colorbar": {
             "outlinewidth": 0,
             "ticks": ""
            },
            "colorscale": [
             [
              0,
              "#0d0887"
             ],
             [
              0.1111111111111111,
              "#46039f"
             ],
             [
              0.2222222222222222,
              "#7201a8"
             ],
             [
              0.3333333333333333,
              "#9c179e"
             ],
             [
              0.4444444444444444,
              "#bd3786"
             ],
             [
              0.5555555555555556,
              "#d8576b"
             ],
             [
              0.6666666666666666,
              "#ed7953"
             ],
             [
              0.7777777777777778,
              "#fb9f3a"
             ],
             [
              0.8888888888888888,
              "#fdca26"
             ],
             [
              1,
              "#f0f921"
             ]
            ],
            "type": "contour"
           }
          ],
          "contourcarpet": [
           {
            "colorbar": {
             "outlinewidth": 0,
             "ticks": ""
            },
            "type": "contourcarpet"
           }
          ],
          "heatmap": [
           {
            "colorbar": {
             "outlinewidth": 0,
             "ticks": ""
            },
            "colorscale": [
             [
              0,
              "#0d0887"
             ],
             [
              0.1111111111111111,
              "#46039f"
             ],
             [
              0.2222222222222222,
              "#7201a8"
             ],
             [
              0.3333333333333333,
              "#9c179e"
             ],
             [
              0.4444444444444444,
              "#bd3786"
             ],
             [
              0.5555555555555556,
              "#d8576b"
             ],
             [
              0.6666666666666666,
              "#ed7953"
             ],
             [
              0.7777777777777778,
              "#fb9f3a"
             ],
             [
              0.8888888888888888,
              "#fdca26"
             ],
             [
              1,
              "#f0f921"
             ]
            ],
            "type": "heatmap"
           }
          ],
          "heatmapgl": [
           {
            "colorbar": {
             "outlinewidth": 0,
             "ticks": ""
            },
            "colorscale": [
             [
              0,
              "#0d0887"
             ],
             [
              0.1111111111111111,
              "#46039f"
             ],
             [
              0.2222222222222222,
              "#7201a8"
             ],
             [
              0.3333333333333333,
              "#9c179e"
             ],
             [
              0.4444444444444444,
              "#bd3786"
             ],
             [
              0.5555555555555556,
              "#d8576b"
             ],
             [
              0.6666666666666666,
              "#ed7953"
             ],
             [
              0.7777777777777778,
              "#fb9f3a"
             ],
             [
              0.8888888888888888,
              "#fdca26"
             ],
             [
              1,
              "#f0f921"
             ]
            ],
            "type": "heatmapgl"
           }
          ],
          "histogram": [
           {
            "marker": {
             "pattern": {
              "fillmode": "overlay",
              "size": 10,
              "solidity": 0.2
             }
            },
            "type": "histogram"
           }
          ],
          "histogram2d": [
           {
            "colorbar": {
             "outlinewidth": 0,
             "ticks": ""
            },
            "colorscale": [
             [
              0,
              "#0d0887"
             ],
             [
              0.1111111111111111,
              "#46039f"
             ],
             [
              0.2222222222222222,
              "#7201a8"
             ],
             [
              0.3333333333333333,
              "#9c179e"
             ],
             [
              0.4444444444444444,
              "#bd3786"
             ],
             [
              0.5555555555555556,
              "#d8576b"
             ],
             [
              0.6666666666666666,
              "#ed7953"
             ],
             [
              0.7777777777777778,
              "#fb9f3a"
             ],
             [
              0.8888888888888888,
              "#fdca26"
             ],
             [
              1,
              "#f0f921"
             ]
            ],
            "type": "histogram2d"
           }
          ],
          "histogram2dcontour": [
           {
            "colorbar": {
             "outlinewidth": 0,
             "ticks": ""
            },
            "colorscale": [
             [
              0,
              "#0d0887"
             ],
             [
              0.1111111111111111,
              "#46039f"
             ],
             [
              0.2222222222222222,
              "#7201a8"
             ],
             [
              0.3333333333333333,
              "#9c179e"
             ],
             [
              0.4444444444444444,
              "#bd3786"
             ],
             [
              0.5555555555555556,
              "#d8576b"
             ],
             [
              0.6666666666666666,
              "#ed7953"
             ],
             [
              0.7777777777777778,
              "#fb9f3a"
             ],
             [
              0.8888888888888888,
              "#fdca26"
             ],
             [
              1,
              "#f0f921"
             ]
            ],
            "type": "histogram2dcontour"
           }
          ],
          "mesh3d": [
           {
            "colorbar": {
             "outlinewidth": 0,
             "ticks": ""
            },
            "type": "mesh3d"
           }
          ],
          "parcoords": [
           {
            "line": {
             "colorbar": {
              "outlinewidth": 0,
              "ticks": ""
             }
            },
            "type": "parcoords"
           }
          ],
          "pie": [
           {
            "automargin": true,
            "type": "pie"
           }
          ],
          "scatter": [
           {
            "marker": {
             "colorbar": {
              "outlinewidth": 0,
              "ticks": ""
             }
            },
            "type": "scatter"
           }
          ],
          "scatter3d": [
           {
            "line": {
             "colorbar": {
              "outlinewidth": 0,
              "ticks": ""
             }
            },
            "marker": {
             "colorbar": {
              "outlinewidth": 0,
              "ticks": ""
             }
            },
            "type": "scatter3d"
           }
          ],
          "scattercarpet": [
           {
            "marker": {
             "colorbar": {
              "outlinewidth": 0,
              "ticks": ""
             }
            },
            "type": "scattercarpet"
           }
          ],
          "scattergeo": [
           {
            "marker": {
             "colorbar": {
              "outlinewidth": 0,
              "ticks": ""
             }
            },
            "type": "scattergeo"
           }
          ],
          "scattergl": [
           {
            "marker": {
             "colorbar": {
              "outlinewidth": 0,
              "ticks": ""
             }
            },
            "type": "scattergl"
           }
          ],
          "scattermapbox": [
           {
            "marker": {
             "colorbar": {
              "outlinewidth": 0,
              "ticks": ""
             }
            },
            "type": "scattermapbox"
           }
          ],
          "scatterpolar": [
           {
            "marker": {
             "colorbar": {
              "outlinewidth": 0,
              "ticks": ""
             }
            },
            "type": "scatterpolar"
           }
          ],
          "scatterpolargl": [
           {
            "marker": {
             "colorbar": {
              "outlinewidth": 0,
              "ticks": ""
             }
            },
            "type": "scatterpolargl"
           }
          ],
          "scatterternary": [
           {
            "marker": {
             "colorbar": {
              "outlinewidth": 0,
              "ticks": ""
             }
            },
            "type": "scatterternary"
           }
          ],
          "surface": [
           {
            "colorbar": {
             "outlinewidth": 0,
             "ticks": ""
            },
            "colorscale": [
             [
              0,
              "#0d0887"
             ],
             [
              0.1111111111111111,
              "#46039f"
             ],
             [
              0.2222222222222222,
              "#7201a8"
             ],
             [
              0.3333333333333333,
              "#9c179e"
             ],
             [
              0.4444444444444444,
              "#bd3786"
             ],
             [
              0.5555555555555556,
              "#d8576b"
             ],
             [
              0.6666666666666666,
              "#ed7953"
             ],
             [
              0.7777777777777778,
              "#fb9f3a"
             ],
             [
              0.8888888888888888,
              "#fdca26"
             ],
             [
              1,
              "#f0f921"
             ]
            ],
            "type": "surface"
           }
          ],
          "table": [
           {
            "cells": {
             "fill": {
              "color": "#EBF0F8"
             },
             "line": {
              "color": "white"
             }
            },
            "header": {
             "fill": {
              "color": "#C8D4E3"
             },
             "line": {
              "color": "white"
             }
            },
            "type": "table"
           }
          ]
         },
         "layout": {
          "annotationdefaults": {
           "arrowcolor": "#2a3f5f",
           "arrowhead": 0,
           "arrowwidth": 1
          },
          "autotypenumbers": "strict",
          "coloraxis": {
           "colorbar": {
            "outlinewidth": 0,
            "ticks": ""
           }
          },
          "colorscale": {
           "diverging": [
            [
             0,
             "#8e0152"
            ],
            [
             0.1,
             "#c51b7d"
            ],
            [
             0.2,
             "#de77ae"
            ],
            [
             0.3,
             "#f1b6da"
            ],
            [
             0.4,
             "#fde0ef"
            ],
            [
             0.5,
             "#f7f7f7"
            ],
            [
             0.6,
             "#e6f5d0"
            ],
            [
             0.7,
             "#b8e186"
            ],
            [
             0.8,
             "#7fbc41"
            ],
            [
             0.9,
             "#4d9221"
            ],
            [
             1,
             "#276419"
            ]
           ],
           "sequential": [
            [
             0,
             "#0d0887"
            ],
            [
             0.1111111111111111,
             "#46039f"
            ],
            [
             0.2222222222222222,
             "#7201a8"
            ],
            [
             0.3333333333333333,
             "#9c179e"
            ],
            [
             0.4444444444444444,
             "#bd3786"
            ],
            [
             0.5555555555555556,
             "#d8576b"
            ],
            [
             0.6666666666666666,
             "#ed7953"
            ],
            [
             0.7777777777777778,
             "#fb9f3a"
            ],
            [
             0.8888888888888888,
             "#fdca26"
            ],
            [
             1,
             "#f0f921"
            ]
           ],
           "sequentialminus": [
            [
             0,
             "#0d0887"
            ],
            [
             0.1111111111111111,
             "#46039f"
            ],
            [
             0.2222222222222222,
             "#7201a8"
            ],
            [
             0.3333333333333333,
             "#9c179e"
            ],
            [
             0.4444444444444444,
             "#bd3786"
            ],
            [
             0.5555555555555556,
             "#d8576b"
            ],
            [
             0.6666666666666666,
             "#ed7953"
            ],
            [
             0.7777777777777778,
             "#fb9f3a"
            ],
            [
             0.8888888888888888,
             "#fdca26"
            ],
            [
             1,
             "#f0f921"
            ]
           ]
          },
          "colorway": [
           "#636efa",
           "#EF553B",
           "#00cc96",
           "#ab63fa",
           "#FFA15A",
           "#19d3f3",
           "#FF6692",
           "#B6E880",
           "#FF97FF",
           "#FECB52"
          ],
          "font": {
           "color": "#2a3f5f"
          },
          "geo": {
           "bgcolor": "white",
           "lakecolor": "white",
           "landcolor": "#E5ECF6",
           "showlakes": true,
           "showland": true,
           "subunitcolor": "white"
          },
          "hoverlabel": {
           "align": "left"
          },
          "hovermode": "closest",
          "mapbox": {
           "style": "light"
          },
          "paper_bgcolor": "white",
          "plot_bgcolor": "#E5ECF6",
          "polar": {
           "angularaxis": {
            "gridcolor": "white",
            "linecolor": "white",
            "ticks": ""
           },
           "bgcolor": "#E5ECF6",
           "radialaxis": {
            "gridcolor": "white",
            "linecolor": "white",
            "ticks": ""
           }
          },
          "scene": {
           "xaxis": {
            "backgroundcolor": "#E5ECF6",
            "gridcolor": "white",
            "gridwidth": 2,
            "linecolor": "white",
            "showbackground": true,
            "ticks": "",
            "zerolinecolor": "white"
           },
           "yaxis": {
            "backgroundcolor": "#E5ECF6",
            "gridcolor": "white",
            "gridwidth": 2,
            "linecolor": "white",
            "showbackground": true,
            "ticks": "",
            "zerolinecolor": "white"
           },
           "zaxis": {
            "backgroundcolor": "#E5ECF6",
            "gridcolor": "white",
            "gridwidth": 2,
            "linecolor": "white",
            "showbackground": true,
            "ticks": "",
            "zerolinecolor": "white"
           }
          },
          "shapedefaults": {
           "line": {
            "color": "#2a3f5f"
           }
          },
          "ternary": {
           "aaxis": {
            "gridcolor": "white",
            "linecolor": "white",
            "ticks": ""
           },
           "baxis": {
            "gridcolor": "white",
            "linecolor": "white",
            "ticks": ""
           },
           "bgcolor": "#E5ECF6",
           "caxis": {
            "gridcolor": "white",
            "linecolor": "white",
            "ticks": ""
           }
          },
          "title": {
           "x": 0.05
          },
          "xaxis": {
           "automargin": true,
           "gridcolor": "white",
           "linecolor": "white",
           "ticks": "",
           "title": {
            "standoff": 15
           },
           "zerolinecolor": "white",
           "zerolinewidth": 2
          },
          "yaxis": {
           "automargin": true,
           "gridcolor": "white",
           "linecolor": "white",
           "ticks": "",
           "title": {
            "standoff": 15
           },
           "zerolinecolor": "white",
           "zerolinewidth": 2
          }
         }
        },
        "title": {
         "text": "Trend of sentiments over time"
        }
       }
      },
      "text/html": [
       "<div>                            <div id=\"466f3a0b-dd6c-40e0-8c66-6f4147988383\" class=\"plotly-graph-div\" style=\"height:525px; width:100%;\"></div>            <script type=\"text/javascript\">                require([\"plotly\"], function(Plotly) {                    window.PLOTLYENV=window.PLOTLYENV || {};                                    if (document.getElementById(\"466f3a0b-dd6c-40e0-8c66-6f4147988383\")) {                    Plotly.newPlot(                        \"466f3a0b-dd6c-40e0-8c66-6f4147988383\",                        [{\"line\":{\"color\":\"rgb(0,245,153)\",\"width\":1},\"mode\":\"lines\",\"name\":\"positive\",\"type\":\"scatter\",\"x\":[1,2,3,4,5,6,7,8,9,10,11,12],\"y\":[3188,2933,3008,4110,5127,5293,4738,3279,4708,6383,5966,4917]},{\"line\":{\"color\":\"rgb(255, 102, 102)\",\"width\":1},\"mode\":\"lines\",\"name\":\"negative\",\"type\":\"scatter\",\"x\":[1,2,3,4,5,6,7,8,9,10,11,12],\"y\":[972,1014,810,1323,2070,2307,2127,1833,1425,1482,1635,1731]},{\"line\":{\"color\":\"rgb(102, 102, 255)\",\"width\":1},\"mode\":\"lines\",\"name\":\"neutral\",\"type\":\"scatter\",\"x\":[1,2,3,4,5,6,7,8,9,10,11,12],\"y\":[402,312,326,430,612,682,564,354,488,672,714,618]}],                        {\"autosize\":false,\"template\":{\"data\":{\"bar\":[{\"error_x\":{\"color\":\"#2a3f5f\"},\"error_y\":{\"color\":\"#2a3f5f\"},\"marker\":{\"line\":{\"color\":\"#E5ECF6\",\"width\":0.5},\"pattern\":{\"fillmode\":\"overlay\",\"size\":10,\"solidity\":0.2}},\"type\":\"bar\"}],\"barpolar\":[{\"marker\":{\"line\":{\"color\":\"#E5ECF6\",\"width\":0.5},\"pattern\":{\"fillmode\":\"overlay\",\"size\":10,\"solidity\":0.2}},\"type\":\"barpolar\"}],\"carpet\":[{\"aaxis\":{\"endlinecolor\":\"#2a3f5f\",\"gridcolor\":\"white\",\"linecolor\":\"white\",\"minorgridcolor\":\"white\",\"startlinecolor\":\"#2a3f5f\"},\"baxis\":{\"endlinecolor\":\"#2a3f5f\",\"gridcolor\":\"white\",\"linecolor\":\"white\",\"minorgridcolor\":\"white\",\"startlinecolor\":\"#2a3f5f\"},\"type\":\"carpet\"}],\"choropleth\":[{\"colorbar\":{\"outlinewidth\":0,\"ticks\":\"\"},\"type\":\"choropleth\"}],\"contour\":[{\"colorbar\":{\"outlinewidth\":0,\"ticks\":\"\"},\"colorscale\":[[0.0,\"#0d0887\"],[0.1111111111111111,\"#46039f\"],[0.2222222222222222,\"#7201a8\"],[0.3333333333333333,\"#9c179e\"],[0.4444444444444444,\"#bd3786\"],[0.5555555555555556,\"#d8576b\"],[0.6666666666666666,\"#ed7953\"],[0.7777777777777778,\"#fb9f3a\"],[0.8888888888888888,\"#fdca26\"],[1.0,\"#f0f921\"]],\"type\":\"contour\"}],\"contourcarpet\":[{\"colorbar\":{\"outlinewidth\":0,\"ticks\":\"\"},\"type\":\"contourcarpet\"}],\"heatmap\":[{\"colorbar\":{\"outlinewidth\":0,\"ticks\":\"\"},\"colorscale\":[[0.0,\"#0d0887\"],[0.1111111111111111,\"#46039f\"],[0.2222222222222222,\"#7201a8\"],[0.3333333333333333,\"#9c179e\"],[0.4444444444444444,\"#bd3786\"],[0.5555555555555556,\"#d8576b\"],[0.6666666666666666,\"#ed7953\"],[0.7777777777777778,\"#fb9f3a\"],[0.8888888888888888,\"#fdca26\"],[1.0,\"#f0f921\"]],\"type\":\"heatmap\"}],\"heatmapgl\":[{\"colorbar\":{\"outlinewidth\":0,\"ticks\":\"\"},\"colorscale\":[[0.0,\"#0d0887\"],[0.1111111111111111,\"#46039f\"],[0.2222222222222222,\"#7201a8\"],[0.3333333333333333,\"#9c179e\"],[0.4444444444444444,\"#bd3786\"],[0.5555555555555556,\"#d8576b\"],[0.6666666666666666,\"#ed7953\"],[0.7777777777777778,\"#fb9f3a\"],[0.8888888888888888,\"#fdca26\"],[1.0,\"#f0f921\"]],\"type\":\"heatmapgl\"}],\"histogram\":[{\"marker\":{\"pattern\":{\"fillmode\":\"overlay\",\"size\":10,\"solidity\":0.2}},\"type\":\"histogram\"}],\"histogram2d\":[{\"colorbar\":{\"outlinewidth\":0,\"ticks\":\"\"},\"colorscale\":[[0.0,\"#0d0887\"],[0.1111111111111111,\"#46039f\"],[0.2222222222222222,\"#7201a8\"],[0.3333333333333333,\"#9c179e\"],[0.4444444444444444,\"#bd3786\"],[0.5555555555555556,\"#d8576b\"],[0.6666666666666666,\"#ed7953\"],[0.7777777777777778,\"#fb9f3a\"],[0.8888888888888888,\"#fdca26\"],[1.0,\"#f0f921\"]],\"type\":\"histogram2d\"}],\"histogram2dcontour\":[{\"colorbar\":{\"outlinewidth\":0,\"ticks\":\"\"},\"colorscale\":[[0.0,\"#0d0887\"],[0.1111111111111111,\"#46039f\"],[0.2222222222222222,\"#7201a8\"],[0.3333333333333333,\"#9c179e\"],[0.4444444444444444,\"#bd3786\"],[0.5555555555555556,\"#d8576b\"],[0.6666666666666666,\"#ed7953\"],[0.7777777777777778,\"#fb9f3a\"],[0.8888888888888888,\"#fdca26\"],[1.0,\"#f0f921\"]],\"type\":\"histogram2dcontour\"}],\"mesh3d\":[{\"colorbar\":{\"outlinewidth\":0,\"ticks\":\"\"},\"type\":\"mesh3d\"}],\"parcoords\":[{\"line\":{\"colorbar\":{\"outlinewidth\":0,\"ticks\":\"\"}},\"type\":\"parcoords\"}],\"pie\":[{\"automargin\":true,\"type\":\"pie\"}],\"scatter\":[{\"marker\":{\"colorbar\":{\"outlinewidth\":0,\"ticks\":\"\"}},\"type\":\"scatter\"}],\"scatter3d\":[{\"line\":{\"colorbar\":{\"outlinewidth\":0,\"ticks\":\"\"}},\"marker\":{\"colorbar\":{\"outlinewidth\":0,\"ticks\":\"\"}},\"type\":\"scatter3d\"}],\"scattercarpet\":[{\"marker\":{\"colorbar\":{\"outlinewidth\":0,\"ticks\":\"\"}},\"type\":\"scattercarpet\"}],\"scattergeo\":[{\"marker\":{\"colorbar\":{\"outlinewidth\":0,\"ticks\":\"\"}},\"type\":\"scattergeo\"}],\"scattergl\":[{\"marker\":{\"colorbar\":{\"outlinewidth\":0,\"ticks\":\"\"}},\"type\":\"scattergl\"}],\"scattermapbox\":[{\"marker\":{\"colorbar\":{\"outlinewidth\":0,\"ticks\":\"\"}},\"type\":\"scattermapbox\"}],\"scatterpolar\":[{\"marker\":{\"colorbar\":{\"outlinewidth\":0,\"ticks\":\"\"}},\"type\":\"scatterpolar\"}],\"scatterpolargl\":[{\"marker\":{\"colorbar\":{\"outlinewidth\":0,\"ticks\":\"\"}},\"type\":\"scatterpolargl\"}],\"scatterternary\":[{\"marker\":{\"colorbar\":{\"outlinewidth\":0,\"ticks\":\"\"}},\"type\":\"scatterternary\"}],\"surface\":[{\"colorbar\":{\"outlinewidth\":0,\"ticks\":\"\"},\"colorscale\":[[0.0,\"#0d0887\"],[0.1111111111111111,\"#46039f\"],[0.2222222222222222,\"#7201a8\"],[0.3333333333333333,\"#9c179e\"],[0.4444444444444444,\"#bd3786\"],[0.5555555555555556,\"#d8576b\"],[0.6666666666666666,\"#ed7953\"],[0.7777777777777778,\"#fb9f3a\"],[0.8888888888888888,\"#fdca26\"],[1.0,\"#f0f921\"]],\"type\":\"surface\"}],\"table\":[{\"cells\":{\"fill\":{\"color\":\"#EBF0F8\"},\"line\":{\"color\":\"white\"}},\"header\":{\"fill\":{\"color\":\"#C8D4E3\"},\"line\":{\"color\":\"white\"}},\"type\":\"table\"}]},\"layout\":{\"annotationdefaults\":{\"arrowcolor\":\"#2a3f5f\",\"arrowhead\":0,\"arrowwidth\":1},\"autotypenumbers\":\"strict\",\"coloraxis\":{\"colorbar\":{\"outlinewidth\":0,\"ticks\":\"\"}},\"colorscale\":{\"diverging\":[[0,\"#8e0152\"],[0.1,\"#c51b7d\"],[0.2,\"#de77ae\"],[0.3,\"#f1b6da\"],[0.4,\"#fde0ef\"],[0.5,\"#f7f7f7\"],[0.6,\"#e6f5d0\"],[0.7,\"#b8e186\"],[0.8,\"#7fbc41\"],[0.9,\"#4d9221\"],[1,\"#276419\"]],\"sequential\":[[0.0,\"#0d0887\"],[0.1111111111111111,\"#46039f\"],[0.2222222222222222,\"#7201a8\"],[0.3333333333333333,\"#9c179e\"],[0.4444444444444444,\"#bd3786\"],[0.5555555555555556,\"#d8576b\"],[0.6666666666666666,\"#ed7953\"],[0.7777777777777778,\"#fb9f3a\"],[0.8888888888888888,\"#fdca26\"],[1.0,\"#f0f921\"]],\"sequentialminus\":[[0.0,\"#0d0887\"],[0.1111111111111111,\"#46039f\"],[0.2222222222222222,\"#7201a8\"],[0.3333333333333333,\"#9c179e\"],[0.4444444444444444,\"#bd3786\"],[0.5555555555555556,\"#d8576b\"],[0.6666666666666666,\"#ed7953\"],[0.7777777777777778,\"#fb9f3a\"],[0.8888888888888888,\"#fdca26\"],[1.0,\"#f0f921\"]]},\"colorway\":[\"#636efa\",\"#EF553B\",\"#00cc96\",\"#ab63fa\",\"#FFA15A\",\"#19d3f3\",\"#FF6692\",\"#B6E880\",\"#FF97FF\",\"#FECB52\"],\"font\":{\"color\":\"#2a3f5f\"},\"geo\":{\"bgcolor\":\"white\",\"lakecolor\":\"white\",\"landcolor\":\"#E5ECF6\",\"showlakes\":true,\"showland\":true,\"subunitcolor\":\"white\"},\"hoverlabel\":{\"align\":\"left\"},\"hovermode\":\"closest\",\"mapbox\":{\"style\":\"light\"},\"paper_bgcolor\":\"white\",\"plot_bgcolor\":\"#E5ECF6\",\"polar\":{\"angularaxis\":{\"gridcolor\":\"white\",\"linecolor\":\"white\",\"ticks\":\"\"},\"bgcolor\":\"#E5ECF6\",\"radialaxis\":{\"gridcolor\":\"white\",\"linecolor\":\"white\",\"ticks\":\"\"}},\"scene\":{\"xaxis\":{\"backgroundcolor\":\"#E5ECF6\",\"gridcolor\":\"white\",\"gridwidth\":2,\"linecolor\":\"white\",\"showbackground\":true,\"ticks\":\"\",\"zerolinecolor\":\"white\"},\"yaxis\":{\"backgroundcolor\":\"#E5ECF6\",\"gridcolor\":\"white\",\"gridwidth\":2,\"linecolor\":\"white\",\"showbackground\":true,\"ticks\":\"\",\"zerolinecolor\":\"white\"},\"zaxis\":{\"backgroundcolor\":\"#E5ECF6\",\"gridcolor\":\"white\",\"gridwidth\":2,\"linecolor\":\"white\",\"showbackground\":true,\"ticks\":\"\",\"zerolinecolor\":\"white\"}},\"shapedefaults\":{\"line\":{\"color\":\"#2a3f5f\"}},\"ternary\":{\"aaxis\":{\"gridcolor\":\"white\",\"linecolor\":\"white\",\"ticks\":\"\"},\"baxis\":{\"gridcolor\":\"white\",\"linecolor\":\"white\",\"ticks\":\"\"},\"bgcolor\":\"#E5ECF6\",\"caxis\":{\"gridcolor\":\"white\",\"linecolor\":\"white\",\"ticks\":\"\"}},\"title\":{\"x\":0.05},\"xaxis\":{\"automargin\":true,\"gridcolor\":\"white\",\"linecolor\":\"white\",\"ticks\":\"\",\"title\":{\"standoff\":15},\"zerolinecolor\":\"white\",\"zerolinewidth\":2},\"yaxis\":{\"automargin\":true,\"gridcolor\":\"white\",\"linecolor\":\"white\",\"ticks\":\"\",\"title\":{\"standoff\":15},\"zerolinecolor\":\"white\",\"zerolinewidth\":2}}},\"title\":{\"text\":\"Trend of sentiments over time\"}},                        {\"responsive\": true}                    ).then(function(){\n",
       "                            \n",
       "var gd = document.getElementById('466f3a0b-dd6c-40e0-8c66-6f4147988383');\n",
       "var x = new MutationObserver(function (mutations, observer) {{\n",
       "        var display = window.getComputedStyle(gd).display;\n",
       "        if (!display || display === 'none') {{\n",
       "            console.log([gd, 'removed!']);\n",
       "            Plotly.purge(gd);\n",
       "            observer.disconnect();\n",
       "        }}\n",
       "}});\n",
       "\n",
       "// Listen for the removal of the full notebook cells\n",
       "var notebookContainer = gd.closest('#notebook-container');\n",
       "if (notebookContainer) {{\n",
       "    x.observe(notebookContainer, {childList: true});\n",
       "}}\n",
       "\n",
       "// Listen for the clearing of the current output cell\n",
       "var outputEl = gd.closest('.output');\n",
       "if (outputEl) {{\n",
       "    x.observe(outputEl, {childList: true});\n",
       "}}\n",
       "\n",
       "                        })                };                });            </script>        </div>"
      ]
     },
     "metadata": {},
     "output_type": "display_data"
    }
   ],
   "source": [
    "from plotly.subplots import make_subplots\n",
    "fig = go.Figure()\n",
    "\n",
    "fig2.add_trace(go.Scatter(x=list(df_pos.index), \n",
    "                         y=df_pos['sentiment_value'],\n",
    "                         mode='lines',\n",
    "                         name='positive',\n",
    "                         line=dict(color='rgb(0,245,153)', width=1)))\n",
    "fig2.add_trace(go.Scatter(x=list(df_neg.index), \n",
    "                         y=df_neg['sentiment_value'],\n",
    "                         mode='lines',\n",
    "                         name='negative',\n",
    "                         line=dict(color='rgb(255, 102, 102)', width=1)))\n",
    "fig2.add_trace(go.Scatter(x=list(df_neu.index), \n",
    "                         y=df_neu['sentiment_value'],\n",
    "                         mode='lines',\n",
    "                         name='neutral',\n",
    "                         line=dict(color='rgb(102, 102, 255)', width=1)))\n",
    "fig2.update_layout(\n",
    "     autosize=False,\n",
    "     title='Sentiments over Month',\n",
    "    x\n",
    "    )"
   ]
  },
  {
   "cell_type": "code",
   "execution_count": 2,
   "id": "835f12b1",
   "metadata": {},
   "outputs": [
    {
     "ename": "KeyError",
     "evalue": "\"['Unnamed: 0'] not found in axis\"",
     "output_type": "error",
     "traceback": [
      "\u001b[1;31m---------------------------------------------------------------------------\u001b[0m",
      "\u001b[1;31mKeyError\u001b[0m                                  Traceback (most recent call last)",
      "\u001b[1;32m<ipython-input-2-0145415dca5c>\u001b[0m in \u001b[0;36m<module>\u001b[1;34m\u001b[0m\n\u001b[0;32m      1\u001b[0m \u001b[0mdf\u001b[0m \u001b[1;33m=\u001b[0m\u001b[0mpd\u001b[0m\u001b[1;33m.\u001b[0m\u001b[0mread_csv\u001b[0m\u001b[1;33m(\u001b[0m\u001b[1;34m'df_preprocess.csv'\u001b[0m\u001b[1;33m,\u001b[0m\u001b[0mindex_col\u001b[0m\u001b[1;33m=\u001b[0m\u001b[1;36m0\u001b[0m\u001b[1;33m)\u001b[0m\u001b[1;33m\u001b[0m\u001b[1;33m\u001b[0m\u001b[0m\n\u001b[0;32m      2\u001b[0m \u001b[0mcolumn\u001b[0m\u001b[1;33m=\u001b[0m\u001b[1;33m[\u001b[0m\u001b[1;34m'Unnamed: 0'\u001b[0m\u001b[1;33m]\u001b[0m\u001b[1;33m\u001b[0m\u001b[1;33m\u001b[0m\u001b[0m\n\u001b[1;32m----> 3\u001b[1;33m \u001b[0mdf\u001b[0m \u001b[1;33m=\u001b[0m \u001b[0mdf\u001b[0m\u001b[1;33m.\u001b[0m\u001b[0mdrop\u001b[0m\u001b[1;33m(\u001b[0m\u001b[0mcolumn\u001b[0m\u001b[1;33m,\u001b[0m \u001b[0maxis\u001b[0m\u001b[1;33m=\u001b[0m\u001b[1;36m1\u001b[0m\u001b[1;33m)\u001b[0m\u001b[1;33m\u001b[0m\u001b[1;33m\u001b[0m\u001b[0m\n\u001b[0m\u001b[0;32m      4\u001b[0m \u001b[0mprint\u001b[0m\u001b[1;33m(\u001b[0m\u001b[0mdf\u001b[0m\u001b[1;33m.\u001b[0m\u001b[0mhead\u001b[0m\u001b[1;33m(\u001b[0m\u001b[1;33m)\u001b[0m\u001b[1;33m)\u001b[0m\u001b[1;33m\u001b[0m\u001b[1;33m\u001b[0m\u001b[0m\n\u001b[0;32m      5\u001b[0m \u001b[0mprint\u001b[0m\u001b[1;33m(\u001b[0m\u001b[0mdf\u001b[0m\u001b[1;33m.\u001b[0m\u001b[0mshape\u001b[0m\u001b[1;33m)\u001b[0m\u001b[1;33m\u001b[0m\u001b[1;33m\u001b[0m\u001b[0m\n",
      "\u001b[1;32m~\\anaconda3\\lib\\site-packages\\pandas\\core\\frame.py\u001b[0m in \u001b[0;36mdrop\u001b[1;34m(self, labels, axis, index, columns, level, inplace, errors)\u001b[0m\n\u001b[0;32m   4306\u001b[0m                 \u001b[0mweight\u001b[0m  \u001b[1;36m1.0\u001b[0m     \u001b[1;36m0.8\u001b[0m\u001b[1;33m\u001b[0m\u001b[1;33m\u001b[0m\u001b[0m\n\u001b[0;32m   4307\u001b[0m         \"\"\"\n\u001b[1;32m-> 4308\u001b[1;33m         return super().drop(\n\u001b[0m\u001b[0;32m   4309\u001b[0m             \u001b[0mlabels\u001b[0m\u001b[1;33m=\u001b[0m\u001b[0mlabels\u001b[0m\u001b[1;33m,\u001b[0m\u001b[1;33m\u001b[0m\u001b[1;33m\u001b[0m\u001b[0m\n\u001b[0;32m   4310\u001b[0m             \u001b[0maxis\u001b[0m\u001b[1;33m=\u001b[0m\u001b[0maxis\u001b[0m\u001b[1;33m,\u001b[0m\u001b[1;33m\u001b[0m\u001b[1;33m\u001b[0m\u001b[0m\n",
      "\u001b[1;32m~\\anaconda3\\lib\\site-packages\\pandas\\core\\generic.py\u001b[0m in \u001b[0;36mdrop\u001b[1;34m(self, labels, axis, index, columns, level, inplace, errors)\u001b[0m\n\u001b[0;32m   4151\u001b[0m         \u001b[1;32mfor\u001b[0m \u001b[0maxis\u001b[0m\u001b[1;33m,\u001b[0m \u001b[0mlabels\u001b[0m \u001b[1;32min\u001b[0m \u001b[0maxes\u001b[0m\u001b[1;33m.\u001b[0m\u001b[0mitems\u001b[0m\u001b[1;33m(\u001b[0m\u001b[1;33m)\u001b[0m\u001b[1;33m:\u001b[0m\u001b[1;33m\u001b[0m\u001b[1;33m\u001b[0m\u001b[0m\n\u001b[0;32m   4152\u001b[0m             \u001b[1;32mif\u001b[0m \u001b[0mlabels\u001b[0m \u001b[1;32mis\u001b[0m \u001b[1;32mnot\u001b[0m \u001b[1;32mNone\u001b[0m\u001b[1;33m:\u001b[0m\u001b[1;33m\u001b[0m\u001b[1;33m\u001b[0m\u001b[0m\n\u001b[1;32m-> 4153\u001b[1;33m                 \u001b[0mobj\u001b[0m \u001b[1;33m=\u001b[0m \u001b[0mobj\u001b[0m\u001b[1;33m.\u001b[0m\u001b[0m_drop_axis\u001b[0m\u001b[1;33m(\u001b[0m\u001b[0mlabels\u001b[0m\u001b[1;33m,\u001b[0m \u001b[0maxis\u001b[0m\u001b[1;33m,\u001b[0m \u001b[0mlevel\u001b[0m\u001b[1;33m=\u001b[0m\u001b[0mlevel\u001b[0m\u001b[1;33m,\u001b[0m \u001b[0merrors\u001b[0m\u001b[1;33m=\u001b[0m\u001b[0merrors\u001b[0m\u001b[1;33m)\u001b[0m\u001b[1;33m\u001b[0m\u001b[1;33m\u001b[0m\u001b[0m\n\u001b[0m\u001b[0;32m   4154\u001b[0m \u001b[1;33m\u001b[0m\u001b[0m\n\u001b[0;32m   4155\u001b[0m         \u001b[1;32mif\u001b[0m \u001b[0minplace\u001b[0m\u001b[1;33m:\u001b[0m\u001b[1;33m\u001b[0m\u001b[1;33m\u001b[0m\u001b[0m\n",
      "\u001b[1;32m~\\anaconda3\\lib\\site-packages\\pandas\\core\\generic.py\u001b[0m in \u001b[0;36m_drop_axis\u001b[1;34m(self, labels, axis, level, errors)\u001b[0m\n\u001b[0;32m   4186\u001b[0m                 \u001b[0mnew_axis\u001b[0m \u001b[1;33m=\u001b[0m \u001b[0maxis\u001b[0m\u001b[1;33m.\u001b[0m\u001b[0mdrop\u001b[0m\u001b[1;33m(\u001b[0m\u001b[0mlabels\u001b[0m\u001b[1;33m,\u001b[0m \u001b[0mlevel\u001b[0m\u001b[1;33m=\u001b[0m\u001b[0mlevel\u001b[0m\u001b[1;33m,\u001b[0m \u001b[0merrors\u001b[0m\u001b[1;33m=\u001b[0m\u001b[0merrors\u001b[0m\u001b[1;33m)\u001b[0m\u001b[1;33m\u001b[0m\u001b[1;33m\u001b[0m\u001b[0m\n\u001b[0;32m   4187\u001b[0m             \u001b[1;32melse\u001b[0m\u001b[1;33m:\u001b[0m\u001b[1;33m\u001b[0m\u001b[1;33m\u001b[0m\u001b[0m\n\u001b[1;32m-> 4188\u001b[1;33m                 \u001b[0mnew_axis\u001b[0m \u001b[1;33m=\u001b[0m \u001b[0maxis\u001b[0m\u001b[1;33m.\u001b[0m\u001b[0mdrop\u001b[0m\u001b[1;33m(\u001b[0m\u001b[0mlabels\u001b[0m\u001b[1;33m,\u001b[0m \u001b[0merrors\u001b[0m\u001b[1;33m=\u001b[0m\u001b[0merrors\u001b[0m\u001b[1;33m)\u001b[0m\u001b[1;33m\u001b[0m\u001b[1;33m\u001b[0m\u001b[0m\n\u001b[0m\u001b[0;32m   4189\u001b[0m             \u001b[0mresult\u001b[0m \u001b[1;33m=\u001b[0m \u001b[0mself\u001b[0m\u001b[1;33m.\u001b[0m\u001b[0mreindex\u001b[0m\u001b[1;33m(\u001b[0m\u001b[1;33m**\u001b[0m\u001b[1;33m{\u001b[0m\u001b[0maxis_name\u001b[0m\u001b[1;33m:\u001b[0m \u001b[0mnew_axis\u001b[0m\u001b[1;33m}\u001b[0m\u001b[1;33m)\u001b[0m\u001b[1;33m\u001b[0m\u001b[1;33m\u001b[0m\u001b[0m\n\u001b[0;32m   4190\u001b[0m \u001b[1;33m\u001b[0m\u001b[0m\n",
      "\u001b[1;32m~\\anaconda3\\lib\\site-packages\\pandas\\core\\indexes\\base.py\u001b[0m in \u001b[0;36mdrop\u001b[1;34m(self, labels, errors)\u001b[0m\n\u001b[0;32m   5589\u001b[0m         \u001b[1;32mif\u001b[0m \u001b[0mmask\u001b[0m\u001b[1;33m.\u001b[0m\u001b[0many\u001b[0m\u001b[1;33m(\u001b[0m\u001b[1;33m)\u001b[0m\u001b[1;33m:\u001b[0m\u001b[1;33m\u001b[0m\u001b[1;33m\u001b[0m\u001b[0m\n\u001b[0;32m   5590\u001b[0m             \u001b[1;32mif\u001b[0m \u001b[0merrors\u001b[0m \u001b[1;33m!=\u001b[0m \u001b[1;34m\"ignore\"\u001b[0m\u001b[1;33m:\u001b[0m\u001b[1;33m\u001b[0m\u001b[1;33m\u001b[0m\u001b[0m\n\u001b[1;32m-> 5591\u001b[1;33m                 \u001b[1;32mraise\u001b[0m \u001b[0mKeyError\u001b[0m\u001b[1;33m(\u001b[0m\u001b[1;34mf\"{labels[mask]} not found in axis\"\u001b[0m\u001b[1;33m)\u001b[0m\u001b[1;33m\u001b[0m\u001b[1;33m\u001b[0m\u001b[0m\n\u001b[0m\u001b[0;32m   5592\u001b[0m             \u001b[0mindexer\u001b[0m \u001b[1;33m=\u001b[0m \u001b[0mindexer\u001b[0m\u001b[1;33m[\u001b[0m\u001b[1;33m~\u001b[0m\u001b[0mmask\u001b[0m\u001b[1;33m]\u001b[0m\u001b[1;33m\u001b[0m\u001b[1;33m\u001b[0m\u001b[0m\n\u001b[0;32m   5593\u001b[0m         \u001b[1;32mreturn\u001b[0m \u001b[0mself\u001b[0m\u001b[1;33m.\u001b[0m\u001b[0mdelete\u001b[0m\u001b[1;33m(\u001b[0m\u001b[0mindexer\u001b[0m\u001b[1;33m)\u001b[0m\u001b[1;33m\u001b[0m\u001b[1;33m\u001b[0m\u001b[0m\n",
      "\u001b[1;31mKeyError\u001b[0m: \"['Unnamed: 0'] not found in axis\""
     ]
    }
   ],
   "source": [
    "df =pd.read_csv('df_preprocess.csv',index_col=0)\n",
    "column=['Unnamed: 0']\n",
    "df = df.drop(column, axis=1)\n",
    "print(df.head())\n",
    "print(df.shape)\n",
    "    "
   ]
  },
  {
   "cell_type": "code",
   "execution_count": null,
   "id": "a4cdb13e",
   "metadata": {},
   "outputs": [],
   "source": [
    "df.head()"
   ]
  },
  {
   "cell_type": "code",
   "execution_count": null,
   "id": "91781fcb",
   "metadata": {},
   "outputs": [],
   "source": [
    "y=list(df.index)\n",
    "y"
   ]
  },
  {
   "cell_type": "code",
   "execution_count": null,
   "id": "ceb7b474",
   "metadata": {},
   "outputs": [],
   "source": [
    "df_pos = df[df['sentiment']=='positif']\n",
    "df_pos"
   ]
  },
  {
   "cell_type": "code",
   "execution_count": null,
   "id": "9e8a9a65",
   "metadata": {},
   "outputs": [],
   "source": [
    "fig = px.line(df, x='year', y=y, markers=True)\n",
    "fig.show()"
   ]
  },
  {
   "cell_type": "code",
   "execution_count": null,
   "id": "1ef7bc9f",
   "metadata": {},
   "outputs": [],
   "source": [
    "df_pos=df[df['sentiment_value']==1].groupby('year')['year','sentiment_value'].sum()\n",
    "df_pos"
   ]
  },
  {
   "cell_type": "code",
   "execution_count": null,
   "id": "abab32ee",
   "metadata": {},
   "outputs": [],
   "source": [
    "df_pos=df[df['sentiment_value']==1].groupby('year')['year','sentiments'].sum()\n",
    "data_most_reviewed_store_timeseries_neg=data_most_reviewed_store[data_most_reviewed_store['sentiments']==3].groupby('date_year')['date_year','sentiments'].sum()\n",
    "data_most_reviewed_store_timeseries_neu=data_most_reviewed_store[data_most_reviewed_store['sentiments']==2].groupby('date_year')['date_year','sentimen"
   ]
  },
  {
   "cell_type": "code",
   "execution_count": null,
   "id": "1f2490b3",
   "metadata": {},
   "outputs": [],
   "source": [
    "fig = go.Figure()\n",
    "\n",
    "fig.add_trace(go.Scatter(x=list(df.index), \n",
    "                         y=df['sentiments'],\n",
    "                         mode='lines',\n",
    "                         name='positive',\n",
    "                         line=dict(color='rgb(0,245,153)', width=1)))\n",
    "fig.add_trace(go.Scatter(x=list(df.index), \n",
    "                         y=df['sentiments'],\n",
    "                         mode='lines',\n",
    "                         name='negative',\n",
    "                         line=dict(color='rgb(255, 102, 102)', width=1)))\n",
    "fig.add_trace(go.Scatter(x=list(df.index), \n",
    "                         y=df['sentiments'],\n",
    "                         mode='lines',\n",
    "                         name='neutral',\n",
    "                         line=dict(color='rgb(102, 102, 255)', width=1)))\n",
    "fig.update_layout(\n",
    "     autosize=False,\n",
    "     title='Trend of sentiments over time'\n",
    "    )"
   ]
  },
  {
   "cell_type": "code",
   "execution_count": null,
   "id": "3dec4ede",
   "metadata": {},
   "outputs": [],
   "source": [
    "df"
   ]
  },
  {
   "cell_type": "code",
   "execution_count": null,
   "id": "9236b9a8",
   "metadata": {},
   "outputs": [],
   "source": [
    "df1=df.sort_values(by=['date'],ascending=False)\n",
    "df1=df1[['author','body','rating','sentiment']]\n",
    "df1"
   ]
  },
  {
   "cell_type": "code",
   "execution_count": null,
   "id": "d5393359",
   "metadata": {},
   "outputs": [],
   "source": [
    "df=df.sort_values(by=['date'],ascending=False)\n",
    "timezone_name = 'Europe/Paris'\n",
    "df.date=df.date.dt.tz_convert(timezone_name)\n",
    "df=df.sort_values(by=['date'],ascending=False)\n",
    "df"
   ]
  },
  {
   "cell_type": "code",
   "execution_count": null,
   "id": "9e829d55",
   "metadata": {},
   "outputs": [],
   "source": [
    "df=df.sort_values(by=['date'],ascending=False)\n",
    "sentimments_dict={3:'Negative',2:'Neutral',1:'Positive'}\n",
    "sentiment_names=[sentimments_dict[int(i)] for i in data_most_reviewed_store['sentiments'].values]\n",
    "data_most_reviewed_store['sentiment']=sentiment_names\n",
    "data_most_reviewed_store=data_most_reviewed_store.drop(columns=['business_id','review_id','user_id','user_id','categories'])\n",
    "data_most_reviewed_store=data_most_reviewed_store[['text','sentiment','date','stars_x']]\n",
    "data_most_reviewed_store=data_most_reviewed_store.rename(columns={'stars_x':'rating','text':'review'})\n",
    "return data_most_reviewed_store\n"
   ]
  },
  {
   "cell_type": "code",
   "execution_count": 1,
   "id": "0a2bbca0",
   "metadata": {},
   "outputs": [
    {
     "name": "stderr",
     "output_type": "stream",
     "text": [
      "[nltk_data] Downloading package punkt to\n",
      "[nltk_data]     C:\\Users\\Ibrahim\\AppData\\Roaming\\nltk_data...\n",
      "[nltk_data]   Package punkt is already up-to-date!\n",
      "[nltk_data] Downloading package wordnet to\n",
      "[nltk_data]     C:\\Users\\Ibrahim\\AppData\\Roaming\\nltk_data...\n",
      "[nltk_data]   Package wordnet is already up-to-date!\n"
     ]
    }
   ],
   "source": [
    "import pandas as pd\n",
    "import numpy as np\n",
    "from sklearn.feature_extraction.text import CountVectorizer\n",
    "import nltk\n",
    "import itertools\n",
    "from sentence_transformers import SentenceTransformer\n",
    "from sklearn.metrics.pairwise import cosine_similarity\n",
    "nltk.download('punkt')\n",
    "nltk.download('wordnet')\n",
    "from nltk.corpus import stopwords\n",
    "#import fr_core_news_md\n",
    "#nlp = fr_core_news_md.load()\n",
    "from matplotlib import pyplot as plt\n",
    "stop_words = list(stopwords.words('french'))+['ctre','tcdicount']\n",
    "\n",
    "\n"
   ]
  },
  {
   "cell_type": "code",
   "execution_count": 14,
   "id": "6cc79fa4",
   "metadata": {},
   "outputs": [
    {
     "data": {
      "text/plain": [
       "['au',\n",
       " 'aux',\n",
       " 'avec',\n",
       " 'ce',\n",
       " 'ces',\n",
       " 'dans',\n",
       " 'de',\n",
       " 'des',\n",
       " 'du',\n",
       " 'elle',\n",
       " 'en',\n",
       " 'et',\n",
       " 'eux',\n",
       " 'il',\n",
       " 'ils',\n",
       " 'je',\n",
       " 'la',\n",
       " 'le',\n",
       " 'les',\n",
       " 'leur',\n",
       " 'lui',\n",
       " 'ma',\n",
       " 'mais',\n",
       " 'me',\n",
       " 'même',\n",
       " 'mes',\n",
       " 'moi',\n",
       " 'mon',\n",
       " 'ne',\n",
       " 'nos',\n",
       " 'notre',\n",
       " 'nous',\n",
       " 'on',\n",
       " 'ou',\n",
       " 'par',\n",
       " 'pas',\n",
       " 'pour',\n",
       " 'qu',\n",
       " 'que',\n",
       " 'qui',\n",
       " 'sa',\n",
       " 'se',\n",
       " 'ses',\n",
       " 'son',\n",
       " 'sur',\n",
       " 'ta',\n",
       " 'te',\n",
       " 'tes',\n",
       " 'toi',\n",
       " 'ton',\n",
       " 'tu',\n",
       " 'un',\n",
       " 'une',\n",
       " 'vos',\n",
       " 'votre',\n",
       " 'vous',\n",
       " 'c',\n",
       " 'd',\n",
       " 'j',\n",
       " 'l',\n",
       " 'à',\n",
       " 'm',\n",
       " 'n',\n",
       " 's',\n",
       " 't',\n",
       " 'y',\n",
       " 'été',\n",
       " 'étée',\n",
       " 'étées',\n",
       " 'étés',\n",
       " 'étant',\n",
       " 'étante',\n",
       " 'étants',\n",
       " 'étantes',\n",
       " 'suis',\n",
       " 'es',\n",
       " 'est',\n",
       " 'sommes',\n",
       " 'êtes',\n",
       " 'sont',\n",
       " 'serai',\n",
       " 'seras',\n",
       " 'sera',\n",
       " 'serons',\n",
       " 'serez',\n",
       " 'seront',\n",
       " 'serais',\n",
       " 'serait',\n",
       " 'serions',\n",
       " 'seriez',\n",
       " 'seraient',\n",
       " 'étais',\n",
       " 'était',\n",
       " 'étions',\n",
       " 'étiez',\n",
       " 'étaient',\n",
       " 'fus',\n",
       " 'fut',\n",
       " 'fûmes',\n",
       " 'fûtes',\n",
       " 'furent',\n",
       " 'sois',\n",
       " 'soit',\n",
       " 'soyons',\n",
       " 'soyez',\n",
       " 'soient',\n",
       " 'fusse',\n",
       " 'fusses',\n",
       " 'fût',\n",
       " 'fussions',\n",
       " 'fussiez',\n",
       " 'fussent',\n",
       " 'ayant',\n",
       " 'ayante',\n",
       " 'ayantes',\n",
       " 'ayants',\n",
       " 'eu',\n",
       " 'eue',\n",
       " 'eues',\n",
       " 'eus',\n",
       " 'ai',\n",
       " 'as',\n",
       " 'avons',\n",
       " 'avez',\n",
       " 'ont',\n",
       " 'aurai',\n",
       " 'auras',\n",
       " 'aura',\n",
       " 'aurons',\n",
       " 'aurez',\n",
       " 'auront',\n",
       " 'aurais',\n",
       " 'aurait',\n",
       " 'aurions',\n",
       " 'auriez',\n",
       " 'auraient',\n",
       " 'avais',\n",
       " 'avait',\n",
       " 'avions',\n",
       " 'aviez',\n",
       " 'avaient',\n",
       " 'eut',\n",
       " 'eûmes',\n",
       " 'eûtes',\n",
       " 'eurent',\n",
       " 'aie',\n",
       " 'aies',\n",
       " 'ait',\n",
       " 'ayons',\n",
       " 'ayez',\n",
       " 'aient',\n",
       " 'eusse',\n",
       " 'eusses',\n",
       " 'eût',\n",
       " 'eussions',\n",
       " 'eussiez',\n",
       " 'eussent',\n",
       " 'ctre',\n",
       " 'tcdicount']"
      ]
     },
     "execution_count": 14,
     "metadata": {},
     "output_type": "execute_result"
    }
   ],
   "source": [
    "stop_words = list(stopwords.words('french'))+['ctre','tcdicount']\n",
    "stop_words"
   ]
  },
  {
   "cell_type": "code",
   "execution_count": 19,
   "id": "63b8c8d0",
   "metadata": {},
   "outputs": [],
   "source": [
    "# https://towardsdatascience.com/keyword-extraction-with-bert-724efca412ea\n",
    "def max_sum_sim(doc_embedding, candidate_embeddings, candidates, top_n, nr_candidates):\n",
    "    # Calculate distances and extract keywords\n",
    "    distances = cosine_similarity(doc_embedding, candidate_embeddings)\n",
    "    distances_candidates = cosine_similarity(candidate_embeddings, \n",
    "                                            candidate_embeddings)\n",
    "\n",
    "    # Get top_n words as candidates based on cosine similarity\n",
    "    words_idx = list(distances.argsort()[0][-nr_candidates:])\n",
    "    words_vals = [candidates[index] for index in words_idx]\n",
    "    distances_candidates = distances_candidates[np.ix_(words_idx, words_idx)]\n",
    "\n",
    "    # Calculate the combination of words that are the least similar to each other\n",
    "    min_sim = np.inf\n",
    "    candidate = None\n",
    "    for combination in itertools.combinations(range(len(words_idx)), top_n):\n",
    "        sim = sum([distances_candidates[i][j] for i in combination for j in combination if i != j])\n",
    "        if sim < min_sim:\n",
    "            candidate = combination\n",
    "            min_sim = sim\n",
    "\n",
    "    return [words_vals[idx] for idx in candidate]\n",
    "\n",
    "############Extraction##################\"\"\"\"\n",
    "# Diversify the keywords using max sum similarity, higher the value of nr_candidates higher the diversity\n",
    "def extract_keywords_bert_diverse(doc,top_n=100,nr_candidates=2000):\n",
    "    n_gram_range = (1,1)\n",
    "    # Extract candidate words/phrases using count vectorizer (TF-IDF Scores)\n",
    "    count = CountVectorizer(ngram_range=n_gram_range, stop_words=stop_words).fit([doc])\n",
    "    candidates = count.get_feature_names()\n",
    "    # Embeddings of the document using Bert    \n",
    "    model = SentenceTransformer('distilbert-base-nli-mean-tokens')\n",
    "    doc_embedding = model.encode([doc])\n",
    "    candidate_embeddings = model.encode(candidates)\n",
    "    keywords=max_sum_sim(doc_embedding, candidate_embeddings, candidates, top_n, nr_candidates)\n",
    "    return keywords\n",
    "################################get_trending_keywords###################\n",
    "def get_trending_keywords(pos_data,neg_data,num_keywords):\n",
    "    keywords={}\n",
    "    limit=list(pos_data[-1000::])\n",
    "    corpus=' '.join(map(str, limit))\n",
    "    print(type(corpus))\n",
    "    keywords['positive']=extract_keywords_bert_diverse(corpus,num_keywords)\n",
    "    limit=list(neg_data[-200::])\n",
    "    corpus=' '.join(map(str, limit))\n",
    "    keywords['negative']=extract_keywords_bert_diverse(corpus,num_keywords)\n",
    "    return keywords\n",
    "\n"
   ]
  },
  {
   "cell_type": "code",
   "execution_count": 20,
   "id": "6b93ba9e",
   "metadata": {},
   "outputs": [],
   "source": [
    "df_final = pd.read_csv('df_preprocess.csv')\n",
    "df=df_final.copy()"
   ]
  },
  {
   "cell_type": "code",
   "execution_count": 21,
   "id": "47a04c4a",
   "metadata": {},
   "outputs": [],
   "source": [
    "df_pos = df[df['sentiment']=='positif']['words']\n",
    "df_neg=df[df['sentiment']=='negatif']['words']"
   ]
  },
  {
   "cell_type": "code",
   "execution_count": 12,
   "id": "fb05d373",
   "metadata": {},
   "outputs": [
    {
     "name": "stdout",
     "output_type": "stream",
     "text": [
      "commande être bien livrer date prévoir cela être parfait attendre merci livraison rapide bonjourtoujours aussi satisfait discount continuer ainsi cordialement vachier large choix meilleur prix parfait rien avoir dire être fervent client jusquà maintenant très satisfait précis rapide bien service toujours merci prestation reponse apportees certain situationbonn journee site sérieux recommande super site sérieux recommande bonjourpour dire toujours trouver chercher passer moment savoir cela perturber délai livraison bref merci cdiscount toujours très bien plutot efficass jamais dessus sauf livraison fois peus cher très site conseil doute largement mieux amazon livrer toujours avancer courage avoir tout equipe toujours topil avoir quagafa souci cdiscount moteur recherche très mauvais difficulté trouver certains article contre comprendre quesur chaque pagessur chaque article être proposer paiement foiset moment payer mode fois être inexister nest normal rapide efficace pratique déplacer toujours content produit quand avoir default retour nouveau produit rapide seul chose embête être client jamais cadeau chèque cadeau coupon toujours commander cdiscount depuis jamais decuecontinuez comme cela cest parfait livraison rapide respecter rapide efficace choix immense réclamation cours autre produit depuis début toujours régler malgré multiple relance bonjour tarif raisonnable voire parfois moindre coût produit qualitémercibonne continuationbien toujours satisfait achat facilesite facile avoir consulternombreuser possibilité paiement choix article respect délai livraison annoncer avoir choix prix être correct livraison être rapide recommande satisfait rien signaler bien long avoir etre livrer très site recommande aucun probleme cdiscount rapide simple agréable aime sérieux envoi être toujours bien emballer excellent service rapide sécuriser très satisfait service jamais décevoir marque produit être toujours toujours precisée part être plus sensible marque fabricant celui distributeurle produit vraiment lamentable genre cable casser servir être eliminésencore effort faire concurrencer vraiment amazon ntéte quand facile choisir commande facile bien livrer produit cdiscount être toujours qualité merci bientôt dommage payement plusieurs fois avoir être refuser pensai être client excellent tout jour recommande satisfait merci tout permettre commander malgré situation mondial très compliquéebon courage bravo continuer tout achat réaliser auprès cdsc avoir répondre souhait problème merci rien dire depuis année commande chez toujours présent quoi quil arrivepropose produit meilleur prixet rarement déçufécilitatier tout équipe cdiscount professionnalisme dévotion moment difficileschjf client depuis longtemps jamais décevoir prix intéressant jamais avoir problème très arranger pouvoir payer fois grand chose très enseigne dommage site brouillon recherchele prix être correct souvent bien placer toujours satisfait chez cdiscounten esperer larticle acheter convenir commande depuis longtemps discount part fois être satisfait qualité reste temps sest super rien redire toujours recevoir commande conforme sans problème jamais decu super site livraison être toujours rapide site très suivre être rapidité recommande plus certains produit être moins cher ailleurs très site paiement fois facilite prix livraison comme lhabitude assez cdiscount volontétrop marchand extérieur article qualité envoyer rapide merci parfait rapide commande jattends livraison site très très bien recommande fortement très arranger beaucoup choix facilité paiement bien tout monde tout budget quel être toujours aussi satisfait produit être très bien détaillé prix acceptable site serieux recommande délai tenir uniquement choisir livraison domicile transporteur parfait commande idéal toujours satisfait produit commander ainsi suivre celui bonjourtrer site jamais décevoir cest site très sérieux bonjour malgré confinement cdiscount très réactif livraison être rapidesbonn journée confinement article être livrer avoir date prévoir aucun souci très bien exiler rapide sérieux gros problème jusque avoir pressentir trouver solution rapide livraison gratuit jattends toujours carte cdiscount aime bien cdiscount rapidecomplet efficace toujours très content achat fait cdiscount jusquà présent être très satisfait cdiscount vendeur market chez acheter fois avoir souci produit cdiscount vendeur market avoir résoudre problème rapidement conseille régulièrement cdiscount indiquer tout satisfaction rapport qualité prix toujours choix livraison rapide parfois payer fois promettre fiche produit disparaître avoir moment choisir payement plutot contraindre etoile bien très site vente avoir distance rapide confiance très rapport qualitépri remarque livraison navigation facile information complet rien avoir reprocher rapide très interactif rien avoir signaler parfait merci toujours content meme fois colis être très abimé recommande vivement service cdiscount volonté tout lépicerie recevoir parfait produit conformeslivraison correct satisfait chaque commande tout être rapide probleme certain produit trouver content produit livraison délai faire achat uniquement site content jusquà présent être content cdiscountje recommande sitelivraison rapide prix abordable tout monde linster jamais décevoir cela faire plusieurs année commande chez cdiscount envoyer colis respecter prix compétitif tout problème avoir solution plusieurs article regrouper achat limiter déplacement livreur chez fournisseur jaurai aimer trouver lecteur externe chez luici avoir trouver récent prix convenir avoir passer trop temps plus finalement aller prendre commande faire rapidement simplement parfait jusquà présent merci aucun problème produit marque reconnaître prix contenu livraison offrir rapide jusquer présent aucun souci commande être satisfait livraison temps produit correspondre avoir commande site marchandise toujours satisfait support qualité prix très bien tout être expédier cdiscount contre autre expéditeur cest vraiment trop long pouvoir mieux faire uniquement chronopost compliqué choisir mode livraison site faible livraison rapide objet parfait état livraison parfois site lors paiement suffire dappeler service téléphonique conseiller clientèle être très compétent lécoute résoudre problème trouve tout deler long voir contexte cest normal rapide sérieux sans surprise comme dhabitude commande sest bien passer pouvoir trouver peinture période confinement bonjour bravo continuer remercier salarié professionnalisme très bien merci parfait jamais aucun souci parfait très pratique cest service visiblement cest bien améliorer aucun souci satisfait facile fiable choix promotion livraison gratuit très content bien correct jamais avoir souci aussi bien commande livraison toujours servir correctement site bien site très bien faire super site jeffectue achat depuis année jamais être décevoir commande suivre livraison bonjour regrette article être ligne indisponible déplore certain marchandise venir chine délai prix livraison exorbitant prohibitif donne exemple lefface rayure scratch meguiars avoir euro livraison avoir euro chercher lerreurmerci être file client cdiscount être fidél discount service produit coerrect choix important prix assez compétif être très satisfait super pratique professionnel aprer avoir faire tour revenir toujours cdiscount parfaitrapide efficace satisfait conditionnement livraison délai parfait prix qualité site cordialement parfait rien avoir signaler moment jamais être décevoir achat fait cdiscount espèr être satisfait partir lvaluation autre client bien rapide rapide sans problème davi linster rapide parfait bonjour voici avis très bien simple commander commande être bien venir recevoir rapidement conte tenue besoin covid merci livraison renseignement rapide choix simplicité rapidité commande aisee avoir faire discount livraison toujours rapide soigner satisfaction total commande depuis année cdiscount sans problèmecdiscount nest toujours meilleur prix voila quoi étoile satisfait merci continuer dassurer livraison contexte actuel commentaire moment souci toujours rapide varietes choix tout être bien toujours livraison produit toujours satisfait marchandise livraison être satisfait service discount depuis plus dizaine dannée cest très convivial être bien depent vendeur lontemp acheter ecouteur sans macher dire renvoiyer normalement garentit payer frais devoi decu temp clien discount oublier artisant grand surface actionnaire milliardaire quil perissent toujours satiffait cdiscount merci site être vraiment super diversifier niveau produit abordable qualitépri livraison être assez rapide plutôt performant tout service toujours temps heure bien satisfait linster produit être disponibleil reste plus attendre jamais souci facilité trouver article différent prix proposer cdiscount être bien efficace conseille davi particulier être satisfait cdiscount lhabitude commander chez cdiscount puisque cest site françaisaucun problème rencontrer commande besoin solution nouveau envoi remboursementtrès satisfait confirmer cdiscount super toujours satisfait produit achetéslivraison rapideje recommande super continuer très satisfait sérieux recommande rapide efficace expérience comme dhabitude excellentlivraison rapide satisfait longtemps client jamais décevoir satisfait service cdiscount merci rien partager tout aller bien parfait comme toujours toujours super merci jespere larticle acheter satisfaire produit recommande plusieurs commande jour satisfait merci tout monde conner discount avoir chacun avis site agréable consulter livraison rapide colis conforme descriptif toujours très satisfait commande cdiscount satisfait être satisfait discount service excellent rapide produit intéressant prix correct livraison parfait très site respect delai site référence ecommerce françaistrès bien produit livraison temps choix prix intéressant trouve tout quon vouloir rapidité choisir commander super seul endroit trouver coloration site entreprisemerci confiancea bientot super génial cela passer toujours bien merci jamais problème depuis nombreux annéescordialement très bien très serieux cdiscount propose prix abordable produit qualité quoi demander mieux prestation parfait concurrent géant américain produit prix raisonnable livraison qualité commande simple rapide excellent site nombreux choix toujours être satisfait produit acheter site recommande tout article proposer facilite paiement utile livraison correct conseille être merci avoir tout petit point fidèle petit reduction temps temps être bien venir livraison rapide période grand choix site rien dire parfait delai livraison plus long jamais decu qualite prix raclette douche remplir mieux tout fonction attendre raclette caoutchouc facile nettoyer etcseul bouton visse membrane adhésive colle carrelage supporter raclette douche tenir avoir revoir jamais deçu toujour temps site simplifier moment crise sanitiare prix imbattable produit excellent communication réactif prix selon lensembl bien satisfait lensembl service simple rapide éfficac toujours ravir site propose excellent produit petit prix toujours satisfait jusquà jour reste fidèle bonjour commande discount cest français gens gens faire travailler commerce français amazon nécessaire trouve toujours recherche délai être raisonnable ainsi prix être satisfait dire courage avoir bientôt carlotti excellent cela dire tout prix correct très site dachat ligne recommande commande tout tranquillité service reactivité très bien cher conseille commande merci cdiscount commande facile clair merci très site aucun problème toujours satisfait depuis année site confiance super rapport qualité prix moins jespèr attendre recevoir commande bien attendre maintenant livraison satisfait très bien livraison être aléatoire manqu renseignement proscenic très satisfait serieux prendre competitif super préconise discount merci serieux délai transport être correct bien suivre cordialement achat rapider fiable site recommander cdiscount toujours amélioration satisfaction être mise site parfait livraison rapide moyen paiement sécuriser toujours bien chez discount toujours aussi impeccable comme service merci merci dêtre présent moment sympa jaime aussi quon pouvoir faire envoyer produit létranger rien avoir dire toujours rapide super site toujours commander sans problème dommage commercer héberger aussi fiable réactif rien dire attendre voir produit donner avis très satisfait siteparfait fidèle client jamais décevoir tout être parfait très site dachat bien livraison gratuit interessant général toujours satisfait très bien depuis année linster plaindre discount commande route informer être satisfait cordialement vivien annemarie merci tout personnel dêtre présent moment difficile super travail super vendeur ligne livraison expresse demander compte dépanner commande efficace rapide lavantage très appréciable dachat produit trouver peine plus cher quailleur délai livraison toujours satisfait client depuis année continuereai juste dire être toujours satisfait produit mode livraison site venteer recommander jaime bien chez très bien continuer comme cela merci être meilleur merci excellent rien avoir dire toujours beaucoup choix meilleur prix livraison rapide très cest lachat confiance grand choix téléphone prix intéressant délai correct site content achat transaction simple efficace tout être produit general cdiscount génial très bien efficace très service recevoir colis état faire entièrement confiance service cdiscount prix compétitif livraison rapide être très satisfait bien vite faire général satisfait cool continuer comme cela rapide efficace très bien avoir chaque satisfaitplu plaisir dutiliser cash back espèr avoir commande plus tard site parfait très satisfait très content problème site pouvoir livrer cartouche plus vite possible être tomber pann merci davance jamais décevoir merci beaucoup mercid livraison très cite envoyer rapide soigner très satisfait produit service merci tout produit toujours conforme ravir service problème nombreux commande reste sans solution dommage clarté précision rapidité efficacité facile utiliser moment tout aller bien jattends livraison commande problème site donne pratiquement tout satisfaction superlivraison gratuit beaucoup choixsite simple facile dutilisation moment jamais probléme commande souventpour livraison correct rapide souci efficacitérapiditéprofessionnalisme bien service chez discount satisfait super service recommande site ravir passer cdiscount depuis quelque temps impossible passer commande davoir personn téléphone maider donc finir commander amazonpeut être problème sanitaire avoir perturber équipe presque toujours satisfait étoile excellent super sauf commande narrive satisfait rapide efficace jattends dememe livraison livraison continuer comme cela site référence merci service commande nickel reste livraison parcours client simple facile satisfait discount professionnalisme site pratique cdiscount serieux très service tout être parfait aucun problème commande conforme attente attente livraison rapide sans probleme site beaucoup produit livraison rapide prix correct achat rapide clair rapide jamais être décevoir bonjour souhaite courage merci journée site information correct excellant site achat varier merci toujours satisfait achat chez cdiscount dautant être abonné cdiscount volonté rapide conforme bien rien avoir dire super site avoir voir maintenant produit proposer produit merci bien livrasion rapide satisfait commande être satisfait être recommende problème délai respecter difficulté passer commande rapide efficace commande sest bien passer difficulté bonjourj avoir quand meme bien aimer etre avertir deux commande annules aprer avoir preleve ravir commander avoir chaque fois rapide efficace dernier commande avoir être laborieux confinement obligebon courage tout merci cordialement françois jamais deçu tout domaine statisfeser moment très satisfait produit réactif livraison respecter délai produire conforme prestation satisfait service cool rapide clair toujours livre temps impartir nombreux choix prix intéressant rapide rien dire très rapide commande passer mardi recevoir jeudi matin express produit conforme bravo personnel livreur travailler contexte nikel espere recevoir colis comme prevu merci commande impec produit être tout recommande jaime simplicité trouver quon vouloir très satisfaisant tout point voir toujours dispo crise actuel jadore commander chez toujours livrer temps heure super rapide produit toujours conforme livraison rapideje recommande très content toujours cherche bien produit depuis commande chez avoir aucun probleme satisfait merci achat être fort dommage davoir essayer vain donner association procédure pouvoir être effectiveaucun message cordalement achat sans problème rien avoir redire produit commande chez discoutdelai livraison respecter livraison rapide livreur très aimable produit conforme commande toujours livraison délai très site sérieux avoir redire très satisfait rien dire parfai jattendai tester avant commander chose faire bien niveau délai être toujours cela être très satisfait commande effectuer chez cdiscount bonjour site satisfait rapidite livraison satisfait achat recommazndecordialement bien rien ajouter toujours parfait rien avoir dire satisfait site recommande jamais être décevoir article cdiscount aucun surprise depuis commande site parfait commende vite passer generalement satisfait bravo cdiscount démontre période être leader catégorie merci très satisfait super cite recommande bien général nivau livraison aucun problème chercher comprendre comment carte fidélité cdiscount être prise compte obtenir transport gratuit beaucoup choix prix très varier facilité paiement parfait rapide efficace bien recommande très bienrapid simple cdiscount être site vente produit deja acheter jamais être deçu service bonsoirsatisfer pouvoir acheter presque vouloir sitele cest souvent manqu détail offre assez étofféesdétailléesobligé donc jongler google avoir complément dinfo très souvent autre lacune être bien connaitre lorigine produit commercialiséscdlt merci produit très site contre décevoir commander article arriver abimé cest dommage cdiscount cest différence être satisfait prestation toujours satisfait commande jusquà maintenant rien redire très satisfait commande très distributeur cool sympa trop bien heureux cdiscount merci service bien livreser site avoir trouve plein chose cher faire plaisir avis aprer reception commande toujours très satisfait servicede article prix avantageux expédition rapide jamais décevoir cdiscount merci super site jamais décevoir livraison rapideje recommande malgré cdiscount assume délai être plus long cela fonctionne parfait comme dhabitude toujours avoir écoute trouve discount très bien merci cdiscount site jachèt produit être toujours content bonjour toujours aussi simpa aller vite merci avoir bravo parfait rien dire choix livraison bien choix limité délai livraison long mettre parce cdiscount avoir beaucoup référence jusquà jour souci toujours bien livrer temps merci courage avoir tout commande arriver toujours avoir date fixer jadore commander chez trouve toujours quil falloir merci toujours très satisfait rapidité prix simplicité paiement permettre acquérir rapidement article plus facilement budget super très satisfait cela positif négatif service clientèle sans reproche prix interessant livraison avoir volonté bien bien bien rebien encor rebien rebien frigoulette visibilité produit vitrine changer rien très fiable suivre lenvoi commande satisfait achat satisfait site linster aucun réclamation toujours être satisfait commande souci rapide sérieux cela continue excellent site sérieux rapide livraison assurer délai annoncer livraison point retrait rapide être ravir tout passer bien livraison décevoir produit pouvoir aller meilleur français livraison rapide facile rapide bienje voir aprer commande bien fonctionnel site recommande fortement rapide ponctuel expérience dachat correct manqu visibilité délai prix livraison description produit toujours détaillé vendeur dommage prix correct rapport autre site expedition satisfaisant conjoncture actuel prix livraison rapide surtout cdiscount direct bonheur français être super parfait jamais souci entièrement satisfait produit discount livrer temps heuremerci super toujours content cdiscount parfait tout être très rapide grand simplicité souci vouloir mexprimer site être plus plus lent site confiance répondre favorablement attente rien signaler toujours fiable rapide trouve toujours solution moindre problème respect délai bien avoir voir livraison cest souvent cela déconne très bien aujourdhui parfait produit merci davoir améliorer laccè site délai livraison indiquer être respecter cela être franchement appréciable trouve régulièrement offre très intéressant produit dont besoin très alternatif géant être content cdiscount bien satisfait produit livrer rapidement malgré crise sanitaire dommage quil avoir jamais réduction savoir être abonner cdiscount très satisfait merci travail prix défier tout concurrence parfait très rapide large choixbon rapport qualité prix service rapide cave cest génial changez rien être équipe formidable toujours lécoute surtout très opérationnel super continuer comme cela choix disponibilité prix satisfaisant voir avoir lutilisation simplicité commande facilité choix notamment livraison salutation continuer super très satisfait avoir recommander très bienlivraison rapideje recommande revenir cest cest bien parfait tout être pendant période difficile merci dêtre toujours présent satisfaire besoinbon courage tout équipe adore avoir choix payer plusieurs fois livraison arriver comme prévoir produit être qualité jamais décevoir choix tout être merci citede confiance marchand avoir faire dénorm progrès quelque année être venir premier site marchandje recommande choix très large produit fiabilité niveau livraison réactivité service commercial délai livraison respecter période commander produit disponible vente ligne savoir tondeuse cheveuxcommand efficace prix tout faire concurrentiel modèle braun livraison efficace rapide jour ouvré retrait facile consigne pick bureau postemerci équipe discount expérience client efficace revenir site délai livraison devoir être afficher plus rapidement clairement période cdiscount avoir être plus réactif merci avoir tout léquipe cdiscount jamais decu produit commandesle temps livraison être rapidepri correct espérer délai livraison respecter très transaction génial très content changez rien cest parfaitrapiditer efficacité tout être toujours livrer délai colis état problème rare appeler être aussitot contact quelquun trouve solution résoudre problème franchement tout site fréquent cdiscount être haut classement recommande sans problème problème content produit proposer service livraison impeccable commande bien partir rapide efficace espérer délai livraison être respecter tomber pann téléphone plein confinement nest cool tout tout passer toujours bien cdiscount honnêtement jamais être décevoir tant livraison produit conseiller recommande fortement client depuis nombreux année être toujours satisfait cdiscount surtout rapport qualité prix fidélité rien dire plus commande facile prestation bien merci avoir tout être toujours satisfait achat recommande cdiscount toujours livrer temps heure surprise désagréable produit qualité paiement fois recommande cdiscount toujours être bien servir tout conformité super site rien dire très bien très pratique merci avoir courage tout léquipe warrior cela faire année être client traitement payement trop long très bien commande traine impeccable trouver cherchai rien redire jamais decue produit prix competitif parfait merci carte cdiscount meilleur solution règlement être très content très serieux content service passer beaucoup commandesmai tout être parfait conditionnement article ainsi délai livraison toujours respectésmerci tout équipe bonjour japprécie choisir tout tranquillité pouvoir lire avisle livreur très respectueux bravo merci cdiscount très bien toujours content discount être client depuis plus sérieux toujours satisfait tout attendre livraison règle général bien facilité retour toujours être satisfait cdiscount donc nhesiter treè satisfait très rapport qualité prix trouve moins cher ailleurs payant certain livraison site rapport qualitépri large choix prix intéressant livraison domicile bien merci choix delai interessant toujours satisfait aller remplacement être facile jamais deçu commande livraison toujours date prévoir site réactif remarque très site livraison rapide prix très compétitif toujours serieux avoir toujours problème passer toujours aussi bien produitlivraison excellant rien avoir dire commande livrer délai malgré période difficile cdiscount avoir continuer dassurer service merci aime cdiscount nikel rien avoir dire venir passer commande bien choix matériel très qualité toujours satisfait commande service livraison toujours parfait personnellement toujours être satisfait service site plus rapide dernier fois frais port assez eleve deler livraison augmenter voir coronavirus prestation aucun problème produit livre rpidemer satisfait site très bien depuis année parfait comme produit aucun problème jusquà présent produit avoir prix fois produit facile avoir trouver meme introuvable comme exemple batterie scie sabre liion milliontek pouver dailleur renseigner merci tout deçue service merci parfait comme toujours jaime bien site très satisfait site hauteur merci livrer pendant confinement grand chose dire moment service rapide site fiablejaime commander site être devenir sérieux dannée année rapide commander produit parfait recommande trouve dont besoin meilleur prix autant choix produit proposer facilité paiement être également service surtout quand avoir petit budget bien confinement commande facile super sympa rapide dynamique excellentfiablej adorepratiqu tout tout jour client satisfait donc reste fidel recommande site service toujours satisfait bien organiser toujours répondre très pratique bref bravo merci aide temps difficile tout très description produit tarif compétitif choix possibilité livraison super bien toujours très content large choix description bien détailler livraison rapider parfait être content service cdiscount volonté permettre recevoir commande chez gratuitement plusmerci cdiscount toujours satisfait toujours être très satisfait achat discount toujours interlocuteur problème généralement être très vite solutionné qualité prix toujours honnet item qualité pendant année livraison fiable très site internet jamais être décevoir faire travail super bravo rapide efficace bien rapide tout avoir faire satisfait discount tout commande passeer bien site choix facile rapide être content achat toujours rapide efficace prix correct très site trouve tout livraison rapide très prestation jamais décevoir site client fidèle cherche ailleurs revenir toujours commande site confiance toiujour content livraison toujours bonjour cdiscount être cite très sérieux réglo merci tout équipe cordialement navigation facile site très grand choix produit divers domaine tarif attractif général très rapport qualité prix toujours satisfait commande merci bientôt parfait comme toujours toujours facile commander cdiscount jamais décevoir trouve toujours vouloir produit dispo parfait tout point être ravir cdiscount linster rien avoir dire jamais décevoir commande jamais deçue discount bien rapide merci avoir courage livraison respectéestre site ravir rapidité recevoir colis qualité satisfaisant excellent produit service livrer toujours temps être simplement très très content commande simple rapide espèr livraison être meme plus long période covid cdiscount super site continue dacheter chez jamais être décevoir commande plus cdiscount probleme lors paiement fois malgre remarquesau service client deux fois achat site depuis plusieurs année toujours satisfait fils être très contant choix livraison parce excellent toujours merci part client délai livraison très satisfaisant malgré difficulté actuel merci parfait produit toujours beaucoup réactivité cdiscout bravo bravo merci être super rapide rapport qualité prix fiable toujours cdiscount quelque situation continuer ainsi ravir comme dhabitude tout être parfait toujours rapidev rien dire jamais avoir souçi commande seul livraison covid donc discount responsable excler produit service merci décevoir jusquà présent respect délai super site mettre etoile parce personn nest parfait espérer être bien livrer comme dernier fois rien avoir redire toujours mettre étoile choix articleson trouve presque tout chez discount contre certains colis arriver abîmer surtout meuble debut utiliser choix retour cest parcourir combattantune chose devoir améliorer discount alors petit conseil lendroit meuble abîmé voir garder merci compétence meme moment difficile vivre moment problème site moyen surfer voir panier payer ceci assez spouvent bien avant crise virus téléphoner fois être tomber personn dont comprendre comprendre rien tout voir prix lapppel couter fortune sans avoir réponse question merci mettre personne comprendre parler français courament cest minimum merci livraison trop lent installation très facile toujours satisfait toujours servir malgré problème actuel merci tout tout comme plus tout service médical parle moins grâce pouvoir faire achat tout magasin être fermer confinement pouvoir trouver quoi soccuper merci parfait comme dhabitude merci livrer compris période beaucoup choix conseil toujours atisfait savoir faire essayer place aprer etoile pratique rapide avoir suivre rapport qualité super tout être parfait tout être bien cela pouvoir aller rien précis sauf fourchette fondre recevoir payer partiellement site simple dusage délai livraison toujours raisonnable malgré contexte actuel problème colis arrive détèrioré être remplacer deux temps trois mouvement toujours toujours ravir achat choix qualité prix ainsi délai livraison sérieux suivre commande faire recommander cdiscount xxxxxxxxxxxxx toujours satisfait bien reien special beaucoup choix tarif jamais être décevoir beau matériel livraison rapide jamais décevoir continuer ainsi instant problème répondre suiteen moment livraison moins rapide avant coroneviru rapidité être atout bonjour trouve toujours bonheur service client être très bien organiser délai trop long aucuns souci particulier quelque date livraison dépasser rien dramatique lergonomie site samélior cest heureux grand choix tout domaine produit qualité livrer délai très rapide prix produit varier qualité service clientèle compétant agréable rien avoir dire très content super site très content pouvoir être livrèe période difficilemerci service être satisfait différent achat tout être bien organiser mauvais surprise déplorerpar contre quand mettre avis négatif produit nest publier cela cest très dommage donc demander gens laisser commentaire cest point faible cest bien dommage site cdiscount efficacesérieux parfait prestation toujours super tout aller bien merci courage avoir parfait site bravo merci tout site fiable sans risque choix produit prix très attractif jamais décevoir aucun commande toujours livrer temps moment covid recommande merci dassurer encore livraison prendre soin commande rapide efficace service recommande toujours produit moment bien rien avoir dire site serieux recommande client depuis aimer site site serieux hors pair très réactif période super efficace commande produit reste avoir recevoir toujours être satisfait jamais décevoir très bien remarqu être sympa tout euro discont recompensser plus fidèle client dison cent voir dela mëme semainee être très satisfait super cest très bien acheter cdiscont très bien confiance toujours bien livrer plusieurs fois passer commende toujours avoir plaindre rapide serrieux trouve beaucoup produit très cher paiement fois très pratique délai long moment livraison cest site confiance sécuriser riche produit très pratique choix site très sérieux compliqué moment cause livraison toujours petit geste commercial client fidèle être bien venir rien dire tout passer comme prévoir merci satisfait serieuxbon matériel beaucoup commande tout genre jamais décevoir achat prix livraison très site internet vendeur produit produit avoir prix intéressant jaime bien discount prise tète plus plusieurs lieu livraison cest facile carte discount compagne parent lont demander possible très bien aucun problème commande avoir être très facile prendre minute efficace rapide sans surprise jamais déçubon courage prendre soin commande conforme livraison toujours respecter linster depuis moment commande site avoir désagrément réception pourvoir cela bonjour japprécie grandement geste commercial frais livraison offrir cordialement jacqueline toure jaime site merci super pouvoir acheter friteuse nan merci pouvoir continuer travailler malgré période difficile toujours satisfait article livraison rapide sérieux être toujours satisfait site chaque fois commande jamais avoir problème savoir cdiscount cdiscount livre commander bibliotheque livraison meuble être horrible meuble arriver rien avoir dire satisfait content service facile rapide eficace probleme cdiscount excellent service discount être bien avoir choix très site très intéressant toujours satisfait produit satisfait cdiscount commande depuis plusieurs année heureusement certain magasin être fermé jattend commende mercie rien redire bien après plusieurs commande bien qualite prix être heureux passer commande chez cdiscount merci facilité service après vente gentillesse achat guider donc facilité toujours client depuis plus cest toujours parfai merci livraison toujours satisfait service livrer temps site livraison periode difficile qualite prix produit avoir suivre donc service sérieux délai maintenir efficace appréciable période confinement super très bien très site vente site serieux sans probleme tout être parfait service très pratique temps difficile excelent merci toujours simple efficace super site avoir recommander parfois magasin exagérer frais port toujours heureux achat super entreprise très service client depuis année commande merci commande regulierement avoir fois probleme avoir solutionne rapidement contre supporte numero surtaxe lorsquon rencontre probleme client devoir supporter genre frais jamais avoir aucun probleme discount tout être parfait transaction parfait super prix super site présentation large choix pouvoir trouver tout recherche très site être premier fois commande chez être très satisfait rien dire moment cest excellentpourvu cela continuer comme cela merci très satisfait service site toujours performant suivre client bien toujours satisfait toujours très content cdiscount bien rien dire bien relativement tout temps satisfait bien satisfait prix très attractif site rapport qualité prix livraison délai toujours bien servir livraison rapide produit disponible toujours aussi ravir achat chez cdiscount fournisseur favori toujours satisfaiteje recommande jamais décevoir recommande site cdiscount site confiance jutilise depuis tellement dannée quand fois avoir tout petit souci article service client avoir être efficacité proactivité étonnant voilà pourquoi continuer effectuer achat site plus bénéficier prix très raisonnable toujours satisfait toujours satisfait service service commercial hauteur service rapide compéter traitement question site tout prix super changez rien parfait commande faire satisfaction toujours produit satisfait prestation général plutôt satisfait discount facile utilisation rapide trouve toujours bonheur merci tout temps difficilescordialementdidier sauty cest bien continuer tout faire chez malgré confinement quel bonheur client depuis très nombreux année satisfait satisfait merci confiance parfait transaction service rapide efficace impecabl rien avoir dire parfait nbon site internet voir condition actuel rapide produit parfait jattends donner avis positif négatif rapide livraison gratuit important temps confinement toujours content commander chez cdiscount moment jamais problème trop fort sérieux rapide réactif parfait tout être bien dérouler toujours satisfait cordialement dommage site lent jamais remettre grave faire peur content service roduit préfére commander cdiscount cest boite français être qualité plus cdiscount payer impot france falloir jamais loublier délai être raisonnable faire confiance avoir cdiscount parfait meme produit tarde avoir arriver depuit marsmalgré crise covid livraison bien livraison trop long toujours satisfait service mentir prix départ dommage jamais être décevoir cdiscount jespèr fois commande très bien fois rôdé vraiment bonjource être bien cest paiement fois sans frais toujours etait satisfait commande merci satisfait nest jamais decu discount recommande être satisfait service être proposer très satisfait content cdiscount continue être distribution personnel oeuvre intérêt satisfaire clientèle conseil trouve toujours vouloir avoir prix correct cool toujours acheter chez très site vente recommande linster problème très site beaucoup choix prix attractif commande plus cest poste colissimo livre préférer retirer colis point relais cest plus très bien discount magasin meilleur merci protéger courage choix prix correct cest français jamais aucun problème plateforme passer tout commande dessus recommande souvent super jamais décevoir moment toujours avis meilleur être cdiscount très bien lutter contre amazon toujours être satisfait bonjour jamais décevoir cdiscount tout être changez rien client depuis année merci commande rapide facilité rapidité commande faire attention faire dachat saisir passer toujours bien ccontre propose paiement fois moment payer dire prendre carte discount dommage continuer travailler malgré crise bravo beau produit manqu beaucoup chose covid obliger interlocuteur romain avoir être grand aide erreur sétait glisser description larticle souhaiter merci rien avoir redire rapide pratique large choix prix competitif bien produit faire confiance plus avoir cdiscount quaux autre magasin choix varier cest bien jespér être décevoir achat satisfait commande jamais décevoir cdiscount très professionnel grand choix prix très intéressant étoile justifier mettre livraison emballage impeccable site qualité prix jamais décevoir site avoir moment être difficile jattends recevoir meilleur délai commande salutation excellent service bien commande retard moment rapide très satisfait fidel avoir cdiscount rien avoir redire site merci merci site très pratique sécuriser très qualité prix parfait livraison rapide être très content service cdiscount jamais être décevoir service sympa plutôt économique jour jamais décevoir jamais déçuservice sérieux toujours être satisfait cdiscount gamme assez étendu rapidité livraison toujours livraison temps cest parfait jattend maintenant téléphone parfait recommande sans souci bien satisfait grand choix parfait compréhension aide très significatif correspondant ligne facilité paiement négligeable merci parfait marque toujours avoir dattente voir circonstance cela être normalmerci prendre soin prix compétitif délai livraison assez rapide entreprise sérieux vendez produit jattends livraison après jévaluerai référence commerce ligne toujours bonheur travailler être très satisfaitejespèr cela aller continuer venir faire achat important produit efficace lutilise chaque année conseille tout merci satisfait très satisfait choix produit prixjai particulièrement apprécier faire contexte lier covid ralentissement livraison poste cdiscount avoir faire spontanément appel autre transporteur permettre recevoir commande rapidementbravo sens service client satisfait attendre commande avis être parceque conseiller avoir tout client faire comme jadore commande toujour jusque jamais être décevoir cdiscount jespèr malgré pandémie touche actuellement savoir satisfaire nouveau tout rester prudent sans prendre aucun risque santé courage prendre soin félicitation travailet courage très content cdiscount prix livraison rapide livrer assez rapidement très bien manqu choix avoir motif coque très site recommande avoir tout monde merci travail sest français plus livraison rapide produit correspondre toujours descriptifsite fiable jamais être décevoir site très recommande très satisfait discount gros amélioration rapport passer très bien preuve cest être fidèle client jamais décevoir achat cdiscount toujours satisfait article commander qualité livraison bien pratique aucun problème rapidité prendre attractif achat facile très grand choix produit bien livraison rapide pouvoir compter discount tout periode service livreur très site trouve toujours souhaite malgre covid commande être parfaitement assuree très bien facile dutilisation gros problème pouvoir passer commande toujours livrer temps très professionnel surtouts covid bravo avoir tout léquipe courage toujours content livraison commende arrive toujours avoir date merci sérieux délai fiable site très bien souci cdiscount vendeur market marchandise livrer difficulté voir impossibilité davoir remboursement nouveau marchandise perdre centaine deuro cause manqu professionnalisme revoir bravo tout bonjour couragerien avoir dire cordialement parfai renseignement donner commercial virtuel\n"
     ]
    }
   ],
   "source": [
    "limit=list(df_pos[-1000::])\n",
    "corpus=' '.join(map(str, limit))\n",
    "print(corpus)"
   ]
  },
  {
   "cell_type": "code",
   "execution_count": 45,
   "id": "0274b297",
   "metadata": {},
   "outputs": [],
   "source": [
    "import pickle"
   ]
  },
  {
   "cell_type": "code",
   "execution_count": 46,
   "id": "56d634f7",
   "metadata": {},
   "outputs": [
    {
     "name": "stdout",
     "output_type": "stream",
     "text": [
      "{'positive': ['meguiars', 'heure', 'encore', 'jespere', 'continuereai', 'cours', 'travailler', 'lergonomie', 'prévoir', 'oeuvre', 'cordalement', 'temps', 'difficilemerci', 'entreprise', 'particulier', 'oublier', 'auprès', 'reconnaître', 'arrivepropose', 'soccuper', 'aussitot', 'renseigner', 'publier', 'davoir', 'remboursement', 'coût', 'foiset', 'françaistrès', 'cdiscount', 'fermer', 'parceque', 'annoncer', 'trouve', 'tondeuse', 'toiujour', 'excellant', 'recherchele', 'puisque', 'cdiscout', 'consigne', 'rapide', 'cdsc', 'meilleur', 'continuationbien', 'léquipe', 'bouton', 'bonheur', 'longtemps', 'bientôt', 'bientot', 'françaisaucun', 'chronopost', 'remarquesau', 'covid', 'après', 'étonnant', 'jamais', 'transporteur', 'etoile', 'étoile', 'statisfeser', 'cdiscounten', 'journee', 'journée', 'comprendre', 'vendez', 'laborieux', 'effectiveaucun', 'lvaluation', 'équipe', 'equipe', 'déçuservice', 'satiffait', 'alternatif', 'surtaxe', 'décevoir', 'plaisir', 'larticle', 'connaitre', 'proactivité', 'amazonpeut', 'rapidementbravo', 'mauvais', 'livrèe', 'avantageux', 'promettre', 'remercier', 'lécoute', 'ralentissement', 'compliquéebon', 'bonjour', 'livrer', 'parcourir', 'cdiscountje', 'ecouteur', 'respectueux', 'toujours', 'éfficac', 'gentillesse', 'siteparfait', 'marsmalgré', 'parfois', 'honnêtement', 'pourquoi', 'livre', 'eliminésencore', 'servir', 'qualitépri', 'volontétrop', 'dailleur', 'conjoncture', 'lavantage', 'lorsquon', 'souçi', 'souci', 'recevoir', 'bonjource', 'efficacité', 'marchandise', 'aléatoire', 'prixjai', 'heureux', 'serieux', 'sérieux', 'fermé', 'pouvoir', 'coroneviru', 'pourvoir', 'rapidesbonn', 'lépicerie', 'riche', 'serrieux', 'particulièrement', 'lendroit', 'entièrement', 'fournisseur', 'decuecontinuez', 'satisfaiteje', 'caoutchouc', 'loublier', 'jévaluerai', 'plusieurs', 'satisfaire', 'japprécie', 'beaucoup', 'parfaitrapiditer', 'plusmerci', 'gratuitement', 'distributeurle', 'bonjourj', 'létranger', 'livrasion', 'fiablejaime', 'postemerci', 'bonjourpour', 'proscenic', 'excellentlivraison', 'quailleur', 'serieuxbon', 'heureusement', 'entreprisemerci', 'cartouche', 'aujourdhui', 'fourchette', 'heuremerci', 'livraison', 'mexprimer', 'annéescordialement', 'livreur', 'commercialiséscdlt', 'franchement', 'consulternombreuser', 'livreser', 'déçufécilitatier', 'brouillon', 'parfaitrapide', 'lerreurmerci', 'adorepratiqu', 'satisfaitplu', 'recommazndecordialement', 'sitelivraison', 'remboursementtrès', 'bonsoirsatisfer', 'bonjourtrer', 'conformeslivraison', 'régulièrement', 'regulierement', 'carte', 'bienlivraison', 'qualitémercibonne', 'bonjourtoujours', 'cheveuxcommand', 'produitlivraison', 'satisfaitejespèr', 'achetéslivraison', 'efficacesérieux', 'superlivraison', 'étofféesdétailléesobligé', 'difficilescordialementdidier', 'efficacitérapiditéprofessionnalisme'], 'negative': ['latte', 'procederjai', 'honteuxcest', 'posseder', 'supplémentaire', 'rembourserj', 'arnaqueur', 'faitdonc', 'marsnou', 'distributionlagence', 'livreur', 'souscrit', 'achetezle', 'rendez', 'désinscrire', 'prixbilan', 'retourner', 'pessaccest', 'rappel', 'souscrirai', 'contrefaçon', 'contrefacon', 'plateformepour', 'fermeture', 'lépoque', 'satisfaire', 'partenaire', 'similaire', 'lheure', 'couvrir', 'qualitéjjai', 'cdiscount', 'pourraije', 'foumilliere', 'surtaxer', 'bannière', 'stockcdicount', 'transparencebref', 'vulgaire', 'yaourtiere', 'voulaisune', 'actualitéscdiscount', 'chronoposttri', 'bonnement', 'surtaxé', 'naboutit', 'tousdepui', 'avisvou', 'volontaire', 'souci', 'pardonnez', 'délivrer', 'dadresse', 'etagèreselle', 'consécutif', 'absolu', 'mexprimer', 'transporteurj', 'demieheure', 'quailleur', 'greffecorrection', 'expliquez', 'pouvoir', 'couverture', 'lendemain', 'bancairemême', 'amazoncdiscount', 'renseigneraprè', 'lviré', 'necessiteux', 'remercier', 'gratuitle', 'rentrer', 'daffichage', 'menvoie', 'napporte', 'dabandonner', 'lentrepôt', 'lentrepot', 'prixje', 'rétorqu', 'validéfuyez', 'rouvrir', 'poisson', 'commentaireil', 'tombebref', 'trustpilotedit', 'pochepuis', 'raccrocher', 'puisque', 'aboutbatterie', 'dartylivré', 'toujours', 'remboursementil', 'bleu', 'jabandonnerai', 'rdvsuite', 'mésaventure', 'daccè', 'républiqueun', 'rebelot', 'làsurprise', 'tempsfranchement', 'régulièrement', 'maladroitementbref', 'bonjourclier', 'bonjourdeux', 'pourquoi', 'forfaitcette', 'pareil', 'automatiquesou', 'autrebref', 'lergonomie', 'cdestitution', 'malheureux', 'livraison', 'ouvreboîte', 'injoignablesaucun', 'débrouiller', 'dachatannulation', 'cœuraucun', 'aujourdhui', 'lydievou', 'échéancierremboursement', 'plusrésultat', 'japprécie', 'carte', 'puouvrir', 'grillepainseule', 'lexpédier', 'négatifscdiscount', 'volumineux', 'cdiscountle', 'prixavi', 'lanniversaire', 'nuljachète', 'égalementdonc', 'électrique', 'cdiscountcest', 'dinnombrabl', 'raccroche', 'contentieux', 'dretritu', 'gratuiteau', 'compteimpossibl', 'escroquerie', 'quoidepuis', 'lendemainpa', 'promotionnelle', 'remboursiez', 'raisonnablemais', 'lorsquon', 'paniersuite', 'cdiscountsuite', 'déballagejai', 'tournerai', 'livréej', 'portaildepuisje', 'lappareil', 'lintermédiaire', 'pouvezvous', 'bonjourjétai', 'cdiscounttre', 'cdiscountjai', 'servicechronopost', 'cartouche', 'joursparcontre', 'cdiscountmai', 'confinementautre', 'cdiscounttou', 'repondreaucune', 'cdiscountdan', 'livraisonmai', 'livrasion', 'surtaxéinfo', 'cdiscountimpossible', 'retournerquel', 'rhônealper', 'lexpérience', 'reportéeraisonsecteur', 'cdiscountvou', 'cddiscount', 'lappuimerci', 'dhabitudesouhaitant', 'passeportfianet', 'cartonjai', 'cdiscountevitez', 'rapprocher', 'jourscommandez', 'livraisonaucun', 'toujoursalors', 'bienvenucordialemer', 'longoubliez', 'encoreplus', 'livraisonsnou', 'cdiscountpastisprohibitifprofiter', 'prochainementevidemmer', 'livrepuisqu', 'livraisondésolée', 'livréelordinateur']}\n"
     ]
    }
   ],
   "source": [
    "a_file = open(\"data.pkl\", \"rb\")\n",
    "output = pickle.load(a_file)\n",
    "print(output)"
   ]
  },
  {
   "cell_type": "code",
   "execution_count": 51,
   "id": "f1942d45",
   "metadata": {},
   "outputs": [],
   "source": [
    "from wordcloud import WordCloud\n",
    "from nltk.corpus import stopwords\n",
    "#import fr_core_news_md\n",
    "#nlp = fr_core_news_md.load()\n",
    "from matplotlib import pyplot as plt\n",
    "stop_words = list(stopwords.words('french'))+['ctre','tcdicount']"
   ]
  },
  {
   "cell_type": "code",
   "execution_count": 56,
   "id": "7f74c255",
   "metadata": {},
   "outputs": [
    {
     "data": {
      "text/plain": [
       "['latte',\n",
       " 'procederjai',\n",
       " 'honteuxcest',\n",
       " 'posseder',\n",
       " 'supplémentaire',\n",
       " 'rembourserj',\n",
       " 'arnaqueur',\n",
       " 'faitdonc',\n",
       " 'marsnou',\n",
       " 'distributionlagence',\n",
       " 'livreur',\n",
       " 'souscrit',\n",
       " 'achetezle',\n",
       " 'rendez',\n",
       " 'désinscrire',\n",
       " 'prixbilan',\n",
       " 'retourner',\n",
       " 'pessaccest',\n",
       " 'rappel',\n",
       " 'souscrirai',\n",
       " 'contrefaçon',\n",
       " 'contrefacon',\n",
       " 'plateformepour',\n",
       " 'fermeture',\n",
       " 'lépoque',\n",
       " 'satisfaire',\n",
       " 'partenaire',\n",
       " 'similaire',\n",
       " 'lheure',\n",
       " 'couvrir',\n",
       " 'qualitéjjai',\n",
       " 'cdiscount',\n",
       " 'pourraije',\n",
       " 'foumilliere',\n",
       " 'surtaxer',\n",
       " 'bannière',\n",
       " 'stockcdicount',\n",
       " 'transparencebref',\n",
       " 'vulgaire',\n",
       " 'yaourtiere',\n",
       " 'voulaisune',\n",
       " 'actualitéscdiscount',\n",
       " 'chronoposttri',\n",
       " 'bonnement',\n",
       " 'surtaxé',\n",
       " 'naboutit',\n",
       " 'tousdepui',\n",
       " 'avisvou',\n",
       " 'volontaire',\n",
       " 'souci',\n",
       " 'pardonnez',\n",
       " 'délivrer',\n",
       " 'dadresse',\n",
       " 'etagèreselle',\n",
       " 'consécutif',\n",
       " 'absolu',\n",
       " 'mexprimer',\n",
       " 'transporteurj',\n",
       " 'demieheure',\n",
       " 'quailleur',\n",
       " 'greffecorrection',\n",
       " 'expliquez',\n",
       " 'pouvoir',\n",
       " 'couverture',\n",
       " 'lendemain',\n",
       " 'bancairemême',\n",
       " 'amazoncdiscount',\n",
       " 'renseigneraprè',\n",
       " 'lviré',\n",
       " 'necessiteux',\n",
       " 'remercier',\n",
       " 'gratuitle',\n",
       " 'rentrer',\n",
       " 'daffichage',\n",
       " 'menvoie',\n",
       " 'napporte',\n",
       " 'dabandonner',\n",
       " 'lentrepôt',\n",
       " 'lentrepot',\n",
       " 'prixje',\n",
       " 'rétorqu',\n",
       " 'validéfuyez',\n",
       " 'rouvrir',\n",
       " 'poisson',\n",
       " 'commentaireil',\n",
       " 'tombebref',\n",
       " 'trustpilotedit',\n",
       " 'pochepuis',\n",
       " 'raccrocher',\n",
       " 'puisque',\n",
       " 'aboutbatterie',\n",
       " 'dartylivré',\n",
       " 'toujours',\n",
       " 'remboursementil',\n",
       " 'bleu',\n",
       " 'jabandonnerai',\n",
       " 'rdvsuite',\n",
       " 'mésaventure',\n",
       " 'daccè',\n",
       " 'républiqueun',\n",
       " 'rebelot',\n",
       " 'làsurprise',\n",
       " 'tempsfranchement',\n",
       " 'régulièrement',\n",
       " 'maladroitementbref',\n",
       " 'bonjourclier',\n",
       " 'bonjourdeux',\n",
       " 'pourquoi',\n",
       " 'forfaitcette',\n",
       " 'pareil',\n",
       " 'automatiquesou',\n",
       " 'autrebref',\n",
       " 'lergonomie',\n",
       " 'cdestitution',\n",
       " 'malheureux',\n",
       " 'livraison',\n",
       " 'ouvreboîte',\n",
       " 'injoignablesaucun',\n",
       " 'débrouiller',\n",
       " 'dachatannulation',\n",
       " 'cœuraucun',\n",
       " 'aujourdhui',\n",
       " 'lydievou',\n",
       " 'échéancierremboursement',\n",
       " 'plusrésultat',\n",
       " 'japprécie',\n",
       " 'carte',\n",
       " 'puouvrir',\n",
       " 'grillepainseule',\n",
       " 'lexpédier',\n",
       " 'négatifscdiscount',\n",
       " 'volumineux',\n",
       " 'cdiscountle',\n",
       " 'prixavi',\n",
       " 'lanniversaire',\n",
       " 'nuljachète',\n",
       " 'égalementdonc',\n",
       " 'électrique',\n",
       " 'cdiscountcest',\n",
       " 'dinnombrabl',\n",
       " 'raccroche',\n",
       " 'contentieux',\n",
       " 'dretritu',\n",
       " 'gratuiteau',\n",
       " 'compteimpossibl',\n",
       " 'escroquerie',\n",
       " 'quoidepuis',\n",
       " 'lendemainpa',\n",
       " 'promotionnelle',\n",
       " 'remboursiez',\n",
       " 'raisonnablemais',\n",
       " 'lorsquon',\n",
       " 'paniersuite',\n",
       " 'cdiscountsuite',\n",
       " 'déballagejai',\n",
       " 'tournerai',\n",
       " 'livréej',\n",
       " 'portaildepuisje',\n",
       " 'lappareil',\n",
       " 'lintermédiaire',\n",
       " 'pouvezvous',\n",
       " 'bonjourjétai',\n",
       " 'cdiscounttre',\n",
       " 'cdiscountjai',\n",
       " 'servicechronopost',\n",
       " 'cartouche',\n",
       " 'joursparcontre',\n",
       " 'cdiscountmai',\n",
       " 'confinementautre',\n",
       " 'cdiscounttou',\n",
       " 'repondreaucune',\n",
       " 'cdiscountdan',\n",
       " 'livraisonmai',\n",
       " 'livrasion',\n",
       " 'surtaxéinfo',\n",
       " 'cdiscountimpossible',\n",
       " 'retournerquel',\n",
       " 'rhônealper',\n",
       " 'lexpérience',\n",
       " 'reportéeraisonsecteur',\n",
       " 'cdiscountvou',\n",
       " 'cddiscount',\n",
       " 'lappuimerci',\n",
       " 'dhabitudesouhaitant',\n",
       " 'passeportfianet',\n",
       " 'cartonjai',\n",
       " 'cdiscountevitez',\n",
       " 'rapprocher',\n",
       " 'jourscommandez',\n",
       " 'livraisonaucun',\n",
       " 'toujoursalors',\n",
       " 'bienvenucordialemer',\n",
       " 'longoubliez',\n",
       " 'encoreplus',\n",
       " 'livraisonsnou',\n",
       " 'cdiscountpastisprohibitifprofiter',\n",
       " 'prochainementevidemmer',\n",
       " 'livrepuisqu',\n",
       " 'livraisondésolée',\n",
       " 'livréelordinateur']"
      ]
     },
     "execution_count": 56,
     "metadata": {},
     "output_type": "execute_result"
    }
   ],
   "source": [
    "output['negative']"
   ]
  },
  {
   "cell_type": "code",
   "execution_count": 48,
   "id": "135a3d9f",
   "metadata": {},
   "outputs": [
    {
     "data": {
      "text/plain": [
       "['meguiars',\n",
       " 'heure',\n",
       " 'encore',\n",
       " 'jespere',\n",
       " 'continuereai',\n",
       " 'cours',\n",
       " 'travailler',\n",
       " 'lergonomie',\n",
       " 'prévoir',\n",
       " 'oeuvre',\n",
       " 'cordalement',\n",
       " 'temps',\n",
       " 'difficilemerci',\n",
       " 'entreprise',\n",
       " 'particulier',\n",
       " 'oublier',\n",
       " 'auprès',\n",
       " 'reconnaître',\n",
       " 'arrivepropose',\n",
       " 'soccuper',\n",
       " 'aussitot',\n",
       " 'renseigner',\n",
       " 'publier',\n",
       " 'davoir',\n",
       " 'remboursement',\n",
       " 'coût',\n",
       " 'foiset',\n",
       " 'françaistrès',\n",
       " 'cdiscount',\n",
       " 'fermer',\n",
       " 'parceque',\n",
       " 'annoncer',\n",
       " 'trouve',\n",
       " 'tondeuse',\n",
       " 'toiujour',\n",
       " 'excellant',\n",
       " 'recherchele',\n",
       " 'puisque',\n",
       " 'cdiscout',\n",
       " 'consigne',\n",
       " 'rapide',\n",
       " 'cdsc',\n",
       " 'meilleur',\n",
       " 'continuationbien',\n",
       " 'léquipe',\n",
       " 'bouton',\n",
       " 'bonheur',\n",
       " 'longtemps',\n",
       " 'bientôt',\n",
       " 'bientot',\n",
       " 'françaisaucun',\n",
       " 'chronopost',\n",
       " 'remarquesau',\n",
       " 'covid',\n",
       " 'après',\n",
       " 'étonnant',\n",
       " 'jamais',\n",
       " 'transporteur',\n",
       " 'etoile',\n",
       " 'étoile',\n",
       " 'statisfeser',\n",
       " 'cdiscounten',\n",
       " 'journee',\n",
       " 'journée',\n",
       " 'comprendre',\n",
       " 'vendez',\n",
       " 'laborieux',\n",
       " 'effectiveaucun',\n",
       " 'lvaluation',\n",
       " 'équipe',\n",
       " 'equipe',\n",
       " 'déçuservice',\n",
       " 'satiffait',\n",
       " 'alternatif',\n",
       " 'surtaxe',\n",
       " 'décevoir',\n",
       " 'plaisir',\n",
       " 'larticle',\n",
       " 'connaitre',\n",
       " 'proactivité',\n",
       " 'amazonpeut',\n",
       " 'rapidementbravo',\n",
       " 'mauvais',\n",
       " 'livrèe',\n",
       " 'avantageux',\n",
       " 'promettre',\n",
       " 'remercier',\n",
       " 'lécoute',\n",
       " 'ralentissement',\n",
       " 'compliquéebon',\n",
       " 'bonjour',\n",
       " 'livrer',\n",
       " 'parcourir',\n",
       " 'cdiscountje',\n",
       " 'ecouteur',\n",
       " 'respectueux',\n",
       " 'toujours',\n",
       " 'éfficac',\n",
       " 'gentillesse',\n",
       " 'siteparfait',\n",
       " 'marsmalgré',\n",
       " 'parfois',\n",
       " 'honnêtement',\n",
       " 'pourquoi',\n",
       " 'livre',\n",
       " 'eliminésencore',\n",
       " 'servir',\n",
       " 'qualitépri',\n",
       " 'volontétrop',\n",
       " 'dailleur',\n",
       " 'conjoncture',\n",
       " 'lavantage',\n",
       " 'lorsquon',\n",
       " 'souçi',\n",
       " 'souci',\n",
       " 'recevoir',\n",
       " 'bonjource',\n",
       " 'efficacité',\n",
       " 'marchandise',\n",
       " 'aléatoire',\n",
       " 'prixjai',\n",
       " 'heureux',\n",
       " 'serieux',\n",
       " 'sérieux',\n",
       " 'fermé',\n",
       " 'pouvoir',\n",
       " 'coroneviru',\n",
       " 'pourvoir',\n",
       " 'rapidesbonn',\n",
       " 'lépicerie',\n",
       " 'riche',\n",
       " 'serrieux',\n",
       " 'particulièrement',\n",
       " 'lendroit',\n",
       " 'entièrement',\n",
       " 'fournisseur',\n",
       " 'decuecontinuez',\n",
       " 'satisfaiteje',\n",
       " 'caoutchouc',\n",
       " 'loublier',\n",
       " 'jévaluerai',\n",
       " 'plusieurs',\n",
       " 'satisfaire',\n",
       " 'japprécie',\n",
       " 'beaucoup',\n",
       " 'parfaitrapiditer',\n",
       " 'plusmerci',\n",
       " 'gratuitement',\n",
       " 'distributeurle',\n",
       " 'bonjourj',\n",
       " 'létranger',\n",
       " 'livrasion',\n",
       " 'fiablejaime',\n",
       " 'postemerci',\n",
       " 'bonjourpour',\n",
       " 'proscenic',\n",
       " 'excellentlivraison',\n",
       " 'quailleur',\n",
       " 'serieuxbon',\n",
       " 'heureusement',\n",
       " 'entreprisemerci',\n",
       " 'cartouche',\n",
       " 'aujourdhui',\n",
       " 'fourchette',\n",
       " 'heuremerci',\n",
       " 'livraison',\n",
       " 'mexprimer',\n",
       " 'annéescordialement',\n",
       " 'livreur',\n",
       " 'commercialiséscdlt',\n",
       " 'franchement',\n",
       " 'consulternombreuser',\n",
       " 'livreser',\n",
       " 'déçufécilitatier',\n",
       " 'brouillon',\n",
       " 'parfaitrapide',\n",
       " 'lerreurmerci',\n",
       " 'adorepratiqu',\n",
       " 'satisfaitplu',\n",
       " 'recommazndecordialement',\n",
       " 'sitelivraison',\n",
       " 'remboursementtrès',\n",
       " 'bonsoirsatisfer',\n",
       " 'bonjourtrer',\n",
       " 'conformeslivraison',\n",
       " 'régulièrement',\n",
       " 'regulierement',\n",
       " 'carte',\n",
       " 'bienlivraison',\n",
       " 'qualitémercibonne',\n",
       " 'bonjourtoujours',\n",
       " 'cheveuxcommand',\n",
       " 'produitlivraison',\n",
       " 'satisfaitejespèr',\n",
       " 'achetéslivraison',\n",
       " 'efficacesérieux',\n",
       " 'superlivraison',\n",
       " 'étofféesdétailléesobligé',\n",
       " 'difficilescordialementdidier',\n",
       " 'efficacitérapiditéprofessionnalisme']"
      ]
     },
     "execution_count": 48,
     "metadata": {},
     "output_type": "execute_result"
    }
   ],
   "source": [
    "pos=output['positive']\n",
    "pos"
   ]
  },
  {
   "cell_type": "code",
   "execution_count": 53,
   "id": "434ae31f",
   "metadata": {},
   "outputs": [
    {
     "data": {
      "text/plain": [
       "'meguiars heure encore jespere continuereai cours travailler lergonomie prévoir oeuvre cordalement temps difficilemerci entreprise particulier oublier auprès reconnaître arrivepropose soccuper aussitot renseigner publier davoir remboursement coût foiset françaistrès cdiscount fermer parceque annoncer trouve tondeuse toiujour excellant recherchele puisque cdiscout consigne rapide cdsc meilleur continuationbien léquipe bouton bonheur longtemps bientôt bientot françaisaucun chronopost remarquesau covid après étonnant jamais transporteur etoile étoile statisfeser cdiscounten journee journée comprendre vendez laborieux effectiveaucun lvaluation équipe equipe déçuservice satiffait alternatif surtaxe décevoir plaisir larticle connaitre proactivité amazonpeut rapidementbravo mauvais livrèe avantageux promettre remercier lécoute ralentissement compliquéebon bonjour livrer parcourir cdiscountje ecouteur respectueux toujours éfficac gentillesse siteparfait marsmalgré parfois honnêtement pourquoi livre eliminésencore servir qualitépri volontétrop dailleur conjoncture lavantage lorsquon souçi souci recevoir bonjource efficacité marchandise aléatoire prixjai heureux serieux sérieux fermé pouvoir coroneviru pourvoir rapidesbonn lépicerie riche serrieux particulièrement lendroit entièrement fournisseur decuecontinuez satisfaiteje caoutchouc loublier jévaluerai plusieurs satisfaire japprécie beaucoup parfaitrapiditer plusmerci gratuitement distributeurle bonjourj létranger livrasion fiablejaime postemerci bonjourpour proscenic excellentlivraison quailleur serieuxbon heureusement entreprisemerci cartouche aujourdhui fourchette heuremerci livraison mexprimer annéescordialement livreur commercialiséscdlt franchement consulternombreuser livreser déçufécilitatier brouillon parfaitrapide lerreurmerci adorepratiqu satisfaitplu recommazndecordialement sitelivraison remboursementtrès bonsoirsatisfer bonjourtrer conformeslivraison régulièrement regulierement carte bienlivraison qualitémercibonne bonjourtoujours cheveuxcommand produitlivraison satisfaitejespèr achetéslivraison efficacesérieux superlivraison étofféesdétailléesobligé difficilescordialementdidier efficacitérapiditéprofessionnalisme'"
      ]
     },
     "execution_count": 53,
     "metadata": {},
     "output_type": "execute_result"
    }
   ],
   "source": [
    "alls= \" \".join(p for p in pos)\n",
    "alls\n"
   ]
  },
  {
   "cell_type": "code",
   "execution_count": 54,
   "id": "9d9f6be3",
   "metadata": {},
   "outputs": [],
   "source": [
    "my_wordcloud = WordCloud(\n",
    "        stopwords=stop_words,\n",
    "        background_color='white',\n",
    "        height=275\n",
    "    ).generate(alls)\n"
   ]
  },
  {
   "cell_type": "code",
   "execution_count": 55,
   "id": "57119fe4",
   "metadata": {},
   "outputs": [
    {
     "data": {
      "application/vnd.plotly.v1+json": {
       "config": {
        "plotlyServerURL": "https://plot.ly"
       },
       "data": [
        {
         "hovertemplate": "x: %{x}<br>y: %{y}<br>color: [%{z[0]}, %{z[1]}, %{z[2]}]<extra></extra>",
         "name": "0",
         "source": "data:image/png;base64,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",
         "type": "image",
         "xaxis": "x",
         "yaxis": "y"
        }
       ],
       "layout": {
        "margin": {
         "b": 20,
         "l": 20,
         "r": 20,
         "t": 30
        },
        "template": {
         "data": {
          "bar": [
           {
            "error_x": {
             "color": "rgb(51,51,51)"
            },
            "error_y": {
             "color": "rgb(51,51,51)"
            },
            "marker": {
             "line": {
              "color": "rgb(237,237,237)",
              "width": 0.5
             },
             "pattern": {
              "fillmode": "overlay",
              "size": 10,
              "solidity": 0.2
             }
            },
            "type": "bar"
           }
          ],
          "barpolar": [
           {
            "marker": {
             "line": {
              "color": "rgb(237,237,237)",
              "width": 0.5
             },
             "pattern": {
              "fillmode": "overlay",
              "size": 10,
              "solidity": 0.2
             }
            },
            "type": "barpolar"
           }
          ],
          "carpet": [
           {
            "aaxis": {
             "endlinecolor": "rgb(51,51,51)",
             "gridcolor": "white",
             "linecolor": "white",
             "minorgridcolor": "white",
             "startlinecolor": "rgb(51,51,51)"
            },
            "baxis": {
             "endlinecolor": "rgb(51,51,51)",
             "gridcolor": "white",
             "linecolor": "white",
             "minorgridcolor": "white",
             "startlinecolor": "rgb(51,51,51)"
            },
            "type": "carpet"
           }
          ],
          "choropleth": [
           {
            "colorbar": {
             "outlinewidth": 0,
             "tickcolor": "rgb(237,237,237)",
             "ticklen": 6,
             "ticks": "inside"
            },
            "type": "choropleth"
           }
          ],
          "contour": [
           {
            "colorbar": {
             "outlinewidth": 0,
             "tickcolor": "rgb(237,237,237)",
             "ticklen": 6,
             "ticks": "inside"
            },
            "colorscale": [
             [
              0,
              "rgb(20,44,66)"
             ],
             [
              1,
              "rgb(90,179,244)"
             ]
            ],
            "type": "contour"
           }
          ],
          "contourcarpet": [
           {
            "colorbar": {
             "outlinewidth": 0,
             "tickcolor": "rgb(237,237,237)",
             "ticklen": 6,
             "ticks": "inside"
            },
            "type": "contourcarpet"
           }
          ],
          "heatmap": [
           {
            "colorbar": {
             "outlinewidth": 0,
             "tickcolor": "rgb(237,237,237)",
             "ticklen": 6,
             "ticks": "inside"
            },
            "colorscale": [
             [
              0,
              "rgb(20,44,66)"
             ],
             [
              1,
              "rgb(90,179,244)"
             ]
            ],
            "type": "heatmap"
           }
          ],
          "heatmapgl": [
           {
            "colorbar": {
             "outlinewidth": 0,
             "tickcolor": "rgb(237,237,237)",
             "ticklen": 6,
             "ticks": "inside"
            },
            "colorscale": [
             [
              0,
              "rgb(20,44,66)"
             ],
             [
              1,
              "rgb(90,179,244)"
             ]
            ],
            "type": "heatmapgl"
           }
          ],
          "histogram": [
           {
            "marker": {
             "pattern": {
              "fillmode": "overlay",
              "size": 10,
              "solidity": 0.2
             }
            },
            "type": "histogram"
           }
          ],
          "histogram2d": [
           {
            "colorbar": {
             "outlinewidth": 0,
             "tickcolor": "rgb(237,237,237)",
             "ticklen": 6,
             "ticks": "inside"
            },
            "colorscale": [
             [
              0,
              "rgb(20,44,66)"
             ],
             [
              1,
              "rgb(90,179,244)"
             ]
            ],
            "type": "histogram2d"
           }
          ],
          "histogram2dcontour": [
           {
            "colorbar": {
             "outlinewidth": 0,
             "tickcolor": "rgb(237,237,237)",
             "ticklen": 6,
             "ticks": "inside"
            },
            "colorscale": [
             [
              0,
              "rgb(20,44,66)"
             ],
             [
              1,
              "rgb(90,179,244)"
             ]
            ],
            "type": "histogram2dcontour"
           }
          ],
          "mesh3d": [
           {
            "colorbar": {
             "outlinewidth": 0,
             "tickcolor": "rgb(237,237,237)",
             "ticklen": 6,
             "ticks": "inside"
            },
            "type": "mesh3d"
           }
          ],
          "parcoords": [
           {
            "line": {
             "colorbar": {
              "outlinewidth": 0,
              "tickcolor": "rgb(237,237,237)",
              "ticklen": 6,
              "ticks": "inside"
             }
            },
            "type": "parcoords"
           }
          ],
          "pie": [
           {
            "automargin": true,
            "type": "pie"
           }
          ],
          "scatter": [
           {
            "marker": {
             "colorbar": {
              "outlinewidth": 0,
              "tickcolor": "rgb(237,237,237)",
              "ticklen": 6,
              "ticks": "inside"
             }
            },
            "type": "scatter"
           }
          ],
          "scatter3d": [
           {
            "line": {
             "colorbar": {
              "outlinewidth": 0,
              "tickcolor": "rgb(237,237,237)",
              "ticklen": 6,
              "ticks": "inside"
             }
            },
            "marker": {
             "colorbar": {
              "outlinewidth": 0,
              "tickcolor": "rgb(237,237,237)",
              "ticklen": 6,
              "ticks": "inside"
             }
            },
            "type": "scatter3d"
           }
          ],
          "scattercarpet": [
           {
            "marker": {
             "colorbar": {
              "outlinewidth": 0,
              "tickcolor": "rgb(237,237,237)",
              "ticklen": 6,
              "ticks": "inside"
             }
            },
            "type": "scattercarpet"
           }
          ],
          "scattergeo": [
           {
            "marker": {
             "colorbar": {
              "outlinewidth": 0,
              "tickcolor": "rgb(237,237,237)",
              "ticklen": 6,
              "ticks": "inside"
             }
            },
            "type": "scattergeo"
           }
          ],
          "scattergl": [
           {
            "marker": {
             "colorbar": {
              "outlinewidth": 0,
              "tickcolor": "rgb(237,237,237)",
              "ticklen": 6,
              "ticks": "inside"
             }
            },
            "type": "scattergl"
           }
          ],
          "scattermapbox": [
           {
            "marker": {
             "colorbar": {
              "outlinewidth": 0,
              "tickcolor": "rgb(237,237,237)",
              "ticklen": 6,
              "ticks": "inside"
             }
            },
            "type": "scattermapbox"
           }
          ],
          "scatterpolar": [
           {
            "marker": {
             "colorbar": {
              "outlinewidth": 0,
              "tickcolor": "rgb(237,237,237)",
              "ticklen": 6,
              "ticks": "inside"
             }
            },
            "type": "scatterpolar"
           }
          ],
          "scatterpolargl": [
           {
            "marker": {
             "colorbar": {
              "outlinewidth": 0,
              "tickcolor": "rgb(237,237,237)",
              "ticklen": 6,
              "ticks": "inside"
             }
            },
            "type": "scatterpolargl"
           }
          ],
          "scatterternary": [
           {
            "marker": {
             "colorbar": {
              "outlinewidth": 0,
              "tickcolor": "rgb(237,237,237)",
              "ticklen": 6,
              "ticks": "inside"
             }
            },
            "type": "scatterternary"
           }
          ],
          "surface": [
           {
            "colorbar": {
             "outlinewidth": 0,
             "tickcolor": "rgb(237,237,237)",
             "ticklen": 6,
             "ticks": "inside"
            },
            "colorscale": [
             [
              0,
              "rgb(20,44,66)"
             ],
             [
              1,
              "rgb(90,179,244)"
             ]
            ],
            "type": "surface"
           }
          ],
          "table": [
           {
            "cells": {
             "fill": {
              "color": "rgb(237,237,237)"
             },
             "line": {
              "color": "white"
             }
            },
            "header": {
             "fill": {
              "color": "rgb(217,217,217)"
             },
             "line": {
              "color": "white"
             }
            },
            "type": "table"
           }
          ]
         },
         "layout": {
          "annotationdefaults": {
           "arrowhead": 0,
           "arrowwidth": 1
          },
          "autotypenumbers": "strict",
          "coloraxis": {
           "colorbar": {
            "outlinewidth": 0,
            "tickcolor": "rgb(237,237,237)",
            "ticklen": 6,
            "ticks": "inside"
           }
          },
          "colorscale": {
           "sequential": [
            [
             0,
             "rgb(20,44,66)"
            ],
            [
             1,
             "rgb(90,179,244)"
            ]
           ],
           "sequentialminus": [
            [
             0,
             "rgb(20,44,66)"
            ],
            [
             1,
             "rgb(90,179,244)"
            ]
           ]
          },
          "colorway": [
           "#F8766D",
           "#A3A500",
           "#00BF7D",
           "#00B0F6",
           "#E76BF3"
          ],
          "font": {
           "color": "rgb(51,51,51)"
          },
          "geo": {
           "bgcolor": "white",
           "lakecolor": "white",
           "landcolor": "rgb(237,237,237)",
           "showlakes": true,
           "showland": true,
           "subunitcolor": "white"
          },
          "hoverlabel": {
           "align": "left"
          },
          "hovermode": "closest",
          "paper_bgcolor": "white",
          "plot_bgcolor": "rgb(237,237,237)",
          "polar": {
           "angularaxis": {
            "gridcolor": "white",
            "linecolor": "white",
            "showgrid": true,
            "tickcolor": "rgb(51,51,51)",
            "ticks": "outside"
           },
           "bgcolor": "rgb(237,237,237)",
           "radialaxis": {
            "gridcolor": "white",
            "linecolor": "white",
            "showgrid": true,
            "tickcolor": "rgb(51,51,51)",
            "ticks": "outside"
           }
          },
          "scene": {
           "xaxis": {
            "backgroundcolor": "rgb(237,237,237)",
            "gridcolor": "white",
            "gridwidth": 2,
            "linecolor": "white",
            "showbackground": true,
            "showgrid": true,
            "tickcolor": "rgb(51,51,51)",
            "ticks": "outside",
            "zerolinecolor": "white"
           },
           "yaxis": {
            "backgroundcolor": "rgb(237,237,237)",
            "gridcolor": "white",
            "gridwidth": 2,
            "linecolor": "white",
            "showbackground": true,
            "showgrid": true,
            "tickcolor": "rgb(51,51,51)",
            "ticks": "outside",
            "zerolinecolor": "white"
           },
           "zaxis": {
            "backgroundcolor": "rgb(237,237,237)",
            "gridcolor": "white",
            "gridwidth": 2,
            "linecolor": "white",
            "showbackground": true,
            "showgrid": true,
            "tickcolor": "rgb(51,51,51)",
            "ticks": "outside",
            "zerolinecolor": "white"
           }
          },
          "shapedefaults": {
           "fillcolor": "black",
           "line": {
            "width": 0
           },
           "opacity": 0.3
          },
          "ternary": {
           "aaxis": {
            "gridcolor": "white",
            "linecolor": "white",
            "showgrid": true,
            "tickcolor": "rgb(51,51,51)",
            "ticks": "outside"
           },
           "baxis": {
            "gridcolor": "white",
            "linecolor": "white",
            "showgrid": true,
            "tickcolor": "rgb(51,51,51)",
            "ticks": "outside"
           },
           "bgcolor": "rgb(237,237,237)",
           "caxis": {
            "gridcolor": "white",
            "linecolor": "white",
            "showgrid": true,
            "tickcolor": "rgb(51,51,51)",
            "ticks": "outside"
           }
          },
          "xaxis": {
           "automargin": true,
           "gridcolor": "white",
           "linecolor": "white",
           "showgrid": true,
           "tickcolor": "rgb(51,51,51)",
           "ticks": "outside",
           "title": {
            "standoff": 15
           },
           "zerolinecolor": "white"
          },
          "yaxis": {
           "automargin": true,
           "gridcolor": "white",
           "linecolor": "white",
           "showgrid": true,
           "tickcolor": "rgb(51,51,51)",
           "ticks": "outside",
           "title": {
            "standoff": 15
           },
           "zerolinecolor": "white"
          }
         }
        },
        "xaxis": {
         "anchor": "y",
         "domain": [
          0,
          1
         ],
         "visible": false
        },
        "yaxis": {
         "anchor": "x",
         "domain": [
          0,
          1
         ],
         "visible": false
        }
       }
      },
      "text/html": [
       "<div>                            <div id=\"a9232eb5-6e9b-44f1-b16a-aa2dbc806f75\" class=\"plotly-graph-div\" style=\"height:525px; width:100%;\"></div>            <script type=\"text/javascript\">                require([\"plotly\"], function(Plotly) {                    window.PLOTLYENV=window.PLOTLYENV || {};                                    if (document.getElementById(\"a9232eb5-6e9b-44f1-b16a-aa2dbc806f75\")) {                    Plotly.newPlot(                        \"a9232eb5-6e9b-44f1-b16a-aa2dbc806f75\",                        [{\"hovertemplate\":\"x: %{x}<br>y: %{y}<br>color: [%{z[0]}, %{z[1]}, %{z[2]}]<extra></extra>\",\"name\":\"0\",\"source\":\"data:image/png;base64,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\",\"type\":\"image\",\"xaxis\":\"x\",\"yaxis\":\"y\"}],                        {\"margin\":{\"b\":20,\"l\":20,\"r\":20,\"t\":30},\"template\":{\"data\":{\"bar\":[{\"error_x\":{\"color\":\"rgb(51,51,51)\"},\"error_y\":{\"color\":\"rgb(51,51,51)\"},\"marker\":{\"line\":{\"color\":\"rgb(237,237,237)\",\"width\":0.5},\"pattern\":{\"fillmode\":\"overlay\",\"size\":10,\"solidity\":0.2}},\"type\":\"bar\"}],\"barpolar\":[{\"marker\":{\"line\":{\"color\":\"rgb(237,237,237)\",\"width\":0.5},\"pattern\":{\"fillmode\":\"overlay\",\"size\":10,\"solidity\":0.2}},\"type\":\"barpolar\"}],\"carpet\":[{\"aaxis\":{\"endlinecolor\":\"rgb(51,51,51)\",\"gridcolor\":\"white\",\"linecolor\":\"white\",\"minorgridcolor\":\"white\",\"startlinecolor\":\"rgb(51,51,51)\"},\"baxis\":{\"endlinecolor\":\"rgb(51,51,51)\",\"gridcolor\":\"white\",\"linecolor\":\"white\",\"minorgridcolor\":\"white\",\"startlinecolor\":\"rgb(51,51,51)\"},\"type\":\"carpet\"}],\"choropleth\":[{\"colorbar\":{\"outlinewidth\":0,\"tickcolor\":\"rgb(237,237,237)\",\"ticklen\":6,\"ticks\":\"inside\"},\"type\":\"choropleth\"}],\"contour\":[{\"colorbar\":{\"outlinewidth\":0,\"tickcolor\":\"rgb(237,237,237)\",\"ticklen\":6,\"ticks\":\"inside\"},\"colorscale\":[[0,\"rgb(20,44,66)\"],[1,\"rgb(90,179,244)\"]],\"type\":\"contour\"}],\"contourcarpet\":[{\"colorbar\":{\"outlinewidth\":0,\"tickcolor\":\"rgb(237,237,237)\",\"ticklen\":6,\"ticks\":\"inside\"},\"type\":\"contourcarpet\"}],\"heatmap\":[{\"colorbar\":{\"outlinewidth\":0,\"tickcolor\":\"rgb(237,237,237)\",\"ticklen\":6,\"ticks\":\"inside\"},\"colorscale\":[[0,\"rgb(20,44,66)\"],[1,\"rgb(90,179,244)\"]],\"type\":\"heatmap\"}],\"heatmapgl\":[{\"colorbar\":{\"outlinewidth\":0,\"tickcolor\":\"rgb(237,237,237)\",\"ticklen\":6,\"ticks\":\"inside\"},\"colorscale\":[[0,\"rgb(20,44,66)\"],[1,\"rgb(90,179,244)\"]],\"type\":\"heatmapgl\"}],\"histogram\":[{\"marker\":{\"pattern\":{\"fillmode\":\"overlay\",\"size\":10,\"solidity\":0.2}},\"type\":\"histogram\"}],\"histogram2d\":[{\"colorbar\":{\"outlinewidth\":0,\"tickcolor\":\"rgb(237,237,237)\",\"ticklen\":6,\"ticks\":\"inside\"},\"colorscale\":[[0,\"rgb(20,44,66)\"],[1,\"rgb(90,179,244)\"]],\"type\":\"histogram2d\"}],\"histogram2dcontour\":[{\"colorbar\":{\"outlinewidth\":0,\"tickcolor\":\"rgb(237,237,237)\",\"ticklen\":6,\"ticks\":\"inside\"},\"colorscale\":[[0,\"rgb(20,44,66)\"],[1,\"rgb(90,179,244)\"]],\"type\":\"histogram2dcontour\"}],\"mesh3d\":[{\"colorbar\":{\"outlinewidth\":0,\"tickcolor\":\"rgb(237,237,237)\",\"ticklen\":6,\"ticks\":\"inside\"},\"type\":\"mesh3d\"}],\"parcoords\":[{\"line\":{\"colorbar\":{\"outlinewidth\":0,\"tickcolor\":\"rgb(237,237,237)\",\"ticklen\":6,\"ticks\":\"inside\"}},\"type\":\"parcoords\"}],\"pie\":[{\"automargin\":true,\"type\":\"pie\"}],\"scatter\":[{\"marker\":{\"colorbar\":{\"outlinewidth\":0,\"tickcolor\":\"rgb(237,237,237)\",\"ticklen\":6,\"ticks\":\"inside\"}},\"type\":\"scatter\"}],\"scatter3d\":[{\"line\":{\"colorbar\":{\"outlinewidth\":0,\"tickcolor\":\"rgb(237,237,237)\",\"ticklen\":6,\"ticks\":\"inside\"}},\"marker\":{\"colorbar\":{\"outlinewidth\":0,\"tickcolor\":\"rgb(237,237,237)\",\"ticklen\":6,\"ticks\":\"inside\"}},\"type\":\"scatter3d\"}],\"scattercarpet\":[{\"marker\":{\"colorbar\":{\"outlinewidth\":0,\"tickcolor\":\"rgb(237,237,237)\",\"ticklen\":6,\"ticks\":\"inside\"}},\"type\":\"scattercarpet\"}],\"scattergeo\":[{\"marker\":{\"colorbar\":{\"outlinewidth\":0,\"tickcolor\":\"rgb(237,237,237)\",\"ticklen\":6,\"ticks\":\"inside\"}},\"type\":\"scattergeo\"}],\"scattergl\":[{\"marker\":{\"colorbar\":{\"outlinewidth\":0,\"tickcolor\":\"rgb(237,237,237)\",\"ticklen\":6,\"ticks\":\"inside\"}},\"type\":\"scattergl\"}],\"scattermapbox\":[{\"marker\":{\"colorbar\":{\"outlinewidth\":0,\"tickcolor\":\"rgb(237,237,237)\",\"ticklen\":6,\"ticks\":\"inside\"}},\"type\":\"scattermapbox\"}],\"scatterpolar\":[{\"marker\":{\"colorbar\":{\"outlinewidth\":0,\"tickcolor\":\"rgb(237,237,237)\",\"ticklen\":6,\"ticks\":\"inside\"}},\"type\":\"scatterpolar\"}],\"scatterpolargl\":[{\"marker\":{\"colorbar\":{\"outlinewidth\":0,\"tickcolor\":\"rgb(237,237,237)\",\"ticklen\":6,\"ticks\":\"inside\"}},\"type\":\"scatterpolargl\"}],\"scatterternary\":[{\"marker\":{\"colorbar\":{\"outlinewidth\":0,\"tickcolor\":\"rgb(237,237,237)\",\"ticklen\":6,\"ticks\":\"inside\"}},\"type\":\"scatterternary\"}],\"surface\":[{\"colorbar\":{\"outlinewidth\":0,\"tickcolor\":\"rgb(237,237,237)\",\"ticklen\":6,\"ticks\":\"inside\"},\"colorscale\":[[0,\"rgb(20,44,66)\"],[1,\"rgb(90,179,244)\"]],\"type\":\"surface\"}],\"table\":[{\"cells\":{\"fill\":{\"color\":\"rgb(237,237,237)\"},\"line\":{\"color\":\"white\"}},\"header\":{\"fill\":{\"color\":\"rgb(217,217,217)\"},\"line\":{\"color\":\"white\"}},\"type\":\"table\"}]},\"layout\":{\"annotationdefaults\":{\"arrowhead\":0,\"arrowwidth\":1},\"autotypenumbers\":\"strict\",\"coloraxis\":{\"colorbar\":{\"outlinewidth\":0,\"tickcolor\":\"rgb(237,237,237)\",\"ticklen\":6,\"ticks\":\"inside\"}},\"colorscale\":{\"sequential\":[[0,\"rgb(20,44,66)\"],[1,\"rgb(90,179,244)\"]],\"sequentialminus\":[[0,\"rgb(20,44,66)\"],[1,\"rgb(90,179,244)\"]]},\"colorway\":[\"#F8766D\",\"#A3A500\",\"#00BF7D\",\"#00B0F6\",\"#E76BF3\"],\"font\":{\"color\":\"rgb(51,51,51)\"},\"geo\":{\"bgcolor\":\"white\",\"lakecolor\":\"white\",\"landcolor\":\"rgb(237,237,237)\",\"showlakes\":true,\"showland\":true,\"subunitcolor\":\"white\"},\"hoverlabel\":{\"align\":\"left\"},\"hovermode\":\"closest\",\"paper_bgcolor\":\"white\",\"plot_bgcolor\":\"rgb(237,237,237)\",\"polar\":{\"angularaxis\":{\"gridcolor\":\"white\",\"linecolor\":\"white\",\"showgrid\":true,\"tickcolor\":\"rgb(51,51,51)\",\"ticks\":\"outside\"},\"bgcolor\":\"rgb(237,237,237)\",\"radialaxis\":{\"gridcolor\":\"white\",\"linecolor\":\"white\",\"showgrid\":true,\"tickcolor\":\"rgb(51,51,51)\",\"ticks\":\"outside\"}},\"scene\":{\"xaxis\":{\"backgroundcolor\":\"rgb(237,237,237)\",\"gridcolor\":\"white\",\"gridwidth\":2,\"linecolor\":\"white\",\"showbackground\":true,\"showgrid\":true,\"tickcolor\":\"rgb(51,51,51)\",\"ticks\":\"outside\",\"zerolinecolor\":\"white\"},\"yaxis\":{\"backgroundcolor\":\"rgb(237,237,237)\",\"gridcolor\":\"white\",\"gridwidth\":2,\"linecolor\":\"white\",\"showbackground\":true,\"showgrid\":true,\"tickcolor\":\"rgb(51,51,51)\",\"ticks\":\"outside\",\"zerolinecolor\":\"white\"},\"zaxis\":{\"backgroundcolor\":\"rgb(237,237,237)\",\"gridcolor\":\"white\",\"gridwidth\":2,\"linecolor\":\"white\",\"showbackground\":true,\"showgrid\":true,\"tickcolor\":\"rgb(51,51,51)\",\"ticks\":\"outside\",\"zerolinecolor\":\"white\"}},\"shapedefaults\":{\"fillcolor\":\"black\",\"line\":{\"width\":0},\"opacity\":0.3},\"ternary\":{\"aaxis\":{\"gridcolor\":\"white\",\"linecolor\":\"white\",\"showgrid\":true,\"tickcolor\":\"rgb(51,51,51)\",\"ticks\":\"outside\"},\"baxis\":{\"gridcolor\":\"white\",\"linecolor\":\"white\",\"showgrid\":true,\"tickcolor\":\"rgb(51,51,51)\",\"ticks\":\"outside\"},\"bgcolor\":\"rgb(237,237,237)\",\"caxis\":{\"gridcolor\":\"white\",\"linecolor\":\"white\",\"showgrid\":true,\"tickcolor\":\"rgb(51,51,51)\",\"ticks\":\"outside\"}},\"xaxis\":{\"automargin\":true,\"gridcolor\":\"white\",\"linecolor\":\"white\",\"showgrid\":true,\"tickcolor\":\"rgb(51,51,51)\",\"ticks\":\"outside\",\"title\":{\"standoff\":15},\"zerolinecolor\":\"white\"},\"yaxis\":{\"automargin\":true,\"gridcolor\":\"white\",\"linecolor\":\"white\",\"showgrid\":true,\"tickcolor\":\"rgb(51,51,51)\",\"ticks\":\"outside\",\"title\":{\"standoff\":15},\"zerolinecolor\":\"white\"}}},\"xaxis\":{\"anchor\":\"y\",\"domain\":[0.0,1.0],\"visible\":false},\"yaxis\":{\"anchor\":\"x\",\"domain\":[0.0,1.0],\"visible\":false}},                        {\"responsive\": true}                    ).then(function(){\n",
       "                            \n",
       "var gd = document.getElementById('a9232eb5-6e9b-44f1-b16a-aa2dbc806f75');\n",
       "var x = new MutationObserver(function (mutations, observer) {{\n",
       "        var display = window.getComputedStyle(gd).display;\n",
       "        if (!display || display === 'none') {{\n",
       "            console.log([gd, 'removed!']);\n",
       "            Plotly.purge(gd);\n",
       "            observer.disconnect();\n",
       "        }}\n",
       "}});\n",
       "\n",
       "// Listen for the removal of the full notebook cells\n",
       "var notebookContainer = gd.closest('#notebook-container');\n",
       "if (notebookContainer) {{\n",
       "    x.observe(notebookContainer, {childList: true});\n",
       "}}\n",
       "\n",
       "// Listen for the clearing of the current output cell\n",
       "var outputEl = gd.closest('.output');\n",
       "if (outputEl) {{\n",
       "    x.observe(outputEl, {childList: true});\n",
       "}}\n",
       "\n",
       "                        })                };                });            </script>        </div>"
      ]
     },
     "metadata": {},
     "output_type": "display_data"
    }
   ],
   "source": [
    "fig = px.imshow(my_wordcloud, template='ggplot2')\n",
    "fig.update_layout(margin=dict(l=20, r=20, t=30, b=20))\n",
    "fig.update_xaxes(visible=False)\n",
    "fig.update_yaxes(visible=False)"
   ]
  },
  {
   "cell_type": "code",
   "execution_count": null,
   "id": "57b259bd",
   "metadata": {},
   "outputs": [],
   "source": [
    " alltweets = \" \".join(tweet for tweet in liked_twt)\n",
    "\n",
    "    # generate wordcloud from all tweets\n",
    "    my_wordcloud = WordCloud(\n",
    "        stopwords=stopwords,\n",
    "        background_color='white',\n",
    "        height=275\n",
    "    ).generate(alltweets)\n",
    "\n",
    "    # visualize wordcloud inside plotly figure\n",
    "    fig = px.imshow(my_wordcloud, template='ggplot2')\n",
    "    fig.update_layout(margin=dict(l=20, r=20, t=30, b=20))\n",
    "    fig.update_xaxes(visible=False)\n",
    "    fig.update_yaxes(visible=False)"
   ]
  },
  {
   "cell_type": "code",
   "execution_count": null,
   "id": "28fa9f3a",
   "metadata": {},
   "outputs": [],
   "source": []
  }
 ],
 "metadata": {
  "kernelspec": {
   "display_name": "Python 3",
   "language": "python",
   "name": "python3"
  },
  "language_info": {
   "codemirror_mode": {
    "name": "ipython",
    "version": 3
   },
   "file_extension": ".py",
   "mimetype": "text/x-python",
   "name": "python",
   "nbconvert_exporter": "python",
   "pygments_lexer": "ipython3",
   "version": "3.8.8"
  }
 },
 "nbformat": 4,
 "nbformat_minor": 5
}
